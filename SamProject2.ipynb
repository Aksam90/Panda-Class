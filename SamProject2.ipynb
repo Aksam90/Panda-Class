{
 "cells": [
  {
   "cell_type": "markdown",
   "id": "b7b2baeb-9a4a-4008-a349-f126dd317c26",
   "metadata": {},
   "source": [
    "Students Adaptivity level in Online Education.\n",
    "\n",
    "\n",
    "Objective:\n",
    "This is a dataset containing over 1205 Students and their characteristics. \n",
    "The goal is to find the best model to predict the Adaptivity Level of the Students. \n",
    "\n",
    "\n",
    "1. Explore this dataset using data preprocessing and data visualization \n",
    "\n",
    "2. Split your dataset into a training set and a testing set.  \n",
    "\n",
    "3. Apply polynomial regression.\n",
    "\n",
    "Note: Every result has to be interpreted and justified. Write your interpretations in a markdown."
   ]
  },
  {
   "cell_type": "code",
   "execution_count": 1,
   "id": "71309328-2d01-4136-8311-5d0cbf432450",
   "metadata": {},
   "outputs": [],
   "source": [
    "#Importing the libraries\n",
    "\n",
    "import numpy as np\n",
    "import pandas as pd\n",
    "import matplotlib.pyplot as plt\n",
    "import seaborn as sn\n",
    "from sklearn.model_selection import train_test_split\n",
    "\n",
    "from sklearn.preprocessing import StandardScaler, PolynomialFeatures\n",
    "from sklearn.linear_model import LinearRegression\n",
    "from sklearn.metrics import mean_squared_error\n",
    "from sklearn import metrics\n",
    "from sklearn.preprocessing import LabelEncoder"
   ]
  },
  {
   "cell_type": "code",
   "execution_count": 2,
   "id": "b0085b57-ccc9-46ad-92a4-918996aeb853",
   "metadata": {},
   "outputs": [
    {
     "data": {
      "text/html": [
       "<div>\n",
       "<style scoped>\n",
       "    .dataframe tbody tr th:only-of-type {\n",
       "        vertical-align: middle;\n",
       "    }\n",
       "\n",
       "    .dataframe tbody tr th {\n",
       "        vertical-align: top;\n",
       "    }\n",
       "\n",
       "    .dataframe thead th {\n",
       "        text-align: right;\n",
       "    }\n",
       "</style>\n",
       "<table border=\"1\" class=\"dataframe\">\n",
       "  <thead>\n",
       "    <tr style=\"text-align: right;\">\n",
       "      <th></th>\n",
       "      <th>Gender</th>\n",
       "      <th>Age</th>\n",
       "      <th>Education Level</th>\n",
       "      <th>Institution Type</th>\n",
       "      <th>IT Student</th>\n",
       "      <th>Location</th>\n",
       "      <th>Load-shedding</th>\n",
       "      <th>Financial Condition</th>\n",
       "      <th>Internet Type</th>\n",
       "      <th>Network Type</th>\n",
       "      <th>Class Duration</th>\n",
       "      <th>Self Lms</th>\n",
       "      <th>Device</th>\n",
       "      <th>Adaptivity Level</th>\n",
       "    </tr>\n",
       "  </thead>\n",
       "  <tbody>\n",
       "    <tr>\n",
       "      <th>0</th>\n",
       "      <td>Boy</td>\n",
       "      <td>21-25</td>\n",
       "      <td>University</td>\n",
       "      <td>Non Government</td>\n",
       "      <td>No</td>\n",
       "      <td>Yes</td>\n",
       "      <td>Low</td>\n",
       "      <td>Mid</td>\n",
       "      <td>Wifi</td>\n",
       "      <td>4G</td>\n",
       "      <td>3-6</td>\n",
       "      <td>No</td>\n",
       "      <td>Tab</td>\n",
       "      <td>Moderate</td>\n",
       "    </tr>\n",
       "    <tr>\n",
       "      <th>1</th>\n",
       "      <td>Girl</td>\n",
       "      <td>21-25</td>\n",
       "      <td>University</td>\n",
       "      <td>Non Government</td>\n",
       "      <td>No</td>\n",
       "      <td>Yes</td>\n",
       "      <td>High</td>\n",
       "      <td>Mid</td>\n",
       "      <td>Mobile Data</td>\n",
       "      <td>4G</td>\n",
       "      <td>1-3</td>\n",
       "      <td>Yes</td>\n",
       "      <td>Mobile</td>\n",
       "      <td>Moderate</td>\n",
       "    </tr>\n",
       "    <tr>\n",
       "      <th>2</th>\n",
       "      <td>Girl</td>\n",
       "      <td>16-20</td>\n",
       "      <td>College</td>\n",
       "      <td>Government</td>\n",
       "      <td>No</td>\n",
       "      <td>Yes</td>\n",
       "      <td>Low</td>\n",
       "      <td>Mid</td>\n",
       "      <td>Wifi</td>\n",
       "      <td>4G</td>\n",
       "      <td>1-3</td>\n",
       "      <td>No</td>\n",
       "      <td>Mobile</td>\n",
       "      <td>Moderate</td>\n",
       "    </tr>\n",
       "    <tr>\n",
       "      <th>3</th>\n",
       "      <td>Girl</td>\n",
       "      <td>11-15</td>\n",
       "      <td>School</td>\n",
       "      <td>Non Government</td>\n",
       "      <td>No</td>\n",
       "      <td>Yes</td>\n",
       "      <td>Low</td>\n",
       "      <td>Mid</td>\n",
       "      <td>Mobile Data</td>\n",
       "      <td>4G</td>\n",
       "      <td>1-3</td>\n",
       "      <td>No</td>\n",
       "      <td>Mobile</td>\n",
       "      <td>Moderate</td>\n",
       "    </tr>\n",
       "    <tr>\n",
       "      <th>4</th>\n",
       "      <td>Girl</td>\n",
       "      <td>16-20</td>\n",
       "      <td>School</td>\n",
       "      <td>Non Government</td>\n",
       "      <td>No</td>\n",
       "      <td>Yes</td>\n",
       "      <td>Low</td>\n",
       "      <td>Poor</td>\n",
       "      <td>Mobile Data</td>\n",
       "      <td>3G</td>\n",
       "      <td>0</td>\n",
       "      <td>No</td>\n",
       "      <td>Mobile</td>\n",
       "      <td>Low</td>\n",
       "    </tr>\n",
       "    <tr>\n",
       "      <th>...</th>\n",
       "      <td>...</td>\n",
       "      <td>...</td>\n",
       "      <td>...</td>\n",
       "      <td>...</td>\n",
       "      <td>...</td>\n",
       "      <td>...</td>\n",
       "      <td>...</td>\n",
       "      <td>...</td>\n",
       "      <td>...</td>\n",
       "      <td>...</td>\n",
       "      <td>...</td>\n",
       "      <td>...</td>\n",
       "      <td>...</td>\n",
       "      <td>...</td>\n",
       "    </tr>\n",
       "    <tr>\n",
       "      <th>1200</th>\n",
       "      <td>Girl</td>\n",
       "      <td>16-20</td>\n",
       "      <td>College</td>\n",
       "      <td>Non Government</td>\n",
       "      <td>No</td>\n",
       "      <td>Yes</td>\n",
       "      <td>Low</td>\n",
       "      <td>Mid</td>\n",
       "      <td>Wifi</td>\n",
       "      <td>4G</td>\n",
       "      <td>1-3</td>\n",
       "      <td>No</td>\n",
       "      <td>Mobile</td>\n",
       "      <td>Low</td>\n",
       "    </tr>\n",
       "    <tr>\n",
       "      <th>1201</th>\n",
       "      <td>Girl</td>\n",
       "      <td>16-20</td>\n",
       "      <td>College</td>\n",
       "      <td>Non Government</td>\n",
       "      <td>No</td>\n",
       "      <td>No</td>\n",
       "      <td>High</td>\n",
       "      <td>Mid</td>\n",
       "      <td>Wifi</td>\n",
       "      <td>4G</td>\n",
       "      <td>3-6</td>\n",
       "      <td>No</td>\n",
       "      <td>Mobile</td>\n",
       "      <td>Moderate</td>\n",
       "    </tr>\n",
       "    <tr>\n",
       "      <th>1202</th>\n",
       "      <td>Boy</td>\n",
       "      <td>11-15</td>\n",
       "      <td>School</td>\n",
       "      <td>Non Government</td>\n",
       "      <td>No</td>\n",
       "      <td>Yes</td>\n",
       "      <td>Low</td>\n",
       "      <td>Mid</td>\n",
       "      <td>Mobile Data</td>\n",
       "      <td>3G</td>\n",
       "      <td>1-3</td>\n",
       "      <td>No</td>\n",
       "      <td>Mobile</td>\n",
       "      <td>Moderate</td>\n",
       "    </tr>\n",
       "    <tr>\n",
       "      <th>1203</th>\n",
       "      <td>Girl</td>\n",
       "      <td>16-20</td>\n",
       "      <td>College</td>\n",
       "      <td>Non Government</td>\n",
       "      <td>No</td>\n",
       "      <td>No</td>\n",
       "      <td>Low</td>\n",
       "      <td>Mid</td>\n",
       "      <td>Wifi</td>\n",
       "      <td>4G</td>\n",
       "      <td>1-3</td>\n",
       "      <td>No</td>\n",
       "      <td>Mobile</td>\n",
       "      <td>Low</td>\n",
       "    </tr>\n",
       "    <tr>\n",
       "      <th>1204</th>\n",
       "      <td>Girl</td>\n",
       "      <td>11-15</td>\n",
       "      <td>School</td>\n",
       "      <td>Non Government</td>\n",
       "      <td>No</td>\n",
       "      <td>Yes</td>\n",
       "      <td>Low</td>\n",
       "      <td>Poor</td>\n",
       "      <td>Mobile Data</td>\n",
       "      <td>3G</td>\n",
       "      <td>1-3</td>\n",
       "      <td>No</td>\n",
       "      <td>Mobile</td>\n",
       "      <td>Moderate</td>\n",
       "    </tr>\n",
       "  </tbody>\n",
       "</table>\n",
       "<p>1205 rows × 14 columns</p>\n",
       "</div>"
      ],
      "text/plain": [
       "     Gender    Age Education Level Institution Type IT Student Location  \\\n",
       "0       Boy  21-25      University   Non Government         No      Yes   \n",
       "1      Girl  21-25      University   Non Government         No      Yes   \n",
       "2      Girl  16-20         College       Government         No      Yes   \n",
       "3      Girl  11-15          School   Non Government         No      Yes   \n",
       "4      Girl  16-20          School   Non Government         No      Yes   \n",
       "...     ...    ...             ...              ...        ...      ...   \n",
       "1200   Girl  16-20         College   Non Government         No      Yes   \n",
       "1201   Girl  16-20         College   Non Government         No       No   \n",
       "1202    Boy  11-15          School   Non Government         No      Yes   \n",
       "1203   Girl  16-20         College   Non Government         No       No   \n",
       "1204   Girl  11-15          School   Non Government         No      Yes   \n",
       "\n",
       "     Load-shedding Financial Condition Internet Type Network Type  \\\n",
       "0              Low                 Mid          Wifi           4G   \n",
       "1             High                 Mid   Mobile Data           4G   \n",
       "2              Low                 Mid          Wifi           4G   \n",
       "3              Low                 Mid   Mobile Data           4G   \n",
       "4              Low                Poor   Mobile Data           3G   \n",
       "...            ...                 ...           ...          ...   \n",
       "1200           Low                 Mid          Wifi           4G   \n",
       "1201          High                 Mid          Wifi           4G   \n",
       "1202           Low                 Mid   Mobile Data           3G   \n",
       "1203           Low                 Mid          Wifi           4G   \n",
       "1204           Low                Poor   Mobile Data           3G   \n",
       "\n",
       "     Class Duration Self Lms  Device Adaptivity Level  \n",
       "0               3-6       No     Tab         Moderate  \n",
       "1               1-3      Yes  Mobile         Moderate  \n",
       "2               1-3       No  Mobile         Moderate  \n",
       "3               1-3       No  Mobile         Moderate  \n",
       "4                 0       No  Mobile              Low  \n",
       "...             ...      ...     ...              ...  \n",
       "1200            1-3       No  Mobile              Low  \n",
       "1201            3-6       No  Mobile         Moderate  \n",
       "1202            1-3       No  Mobile         Moderate  \n",
       "1203            1-3       No  Mobile              Low  \n",
       "1204            1-3       No  Mobile         Moderate  \n",
       "\n",
       "[1205 rows x 14 columns]"
      ]
     },
     "execution_count": 2,
     "metadata": {},
     "output_type": "execute_result"
    }
   ],
   "source": [
    "# importing dataset\n",
    "\n",
    "data = pd.read_csv(\"C:\\\\Users\\\\VALUEDSEED\\\\Downloads\\\\students_adaptability_level_online_education.csv\")\n",
    "\n",
    "data"
   ]
  },
  {
   "cell_type": "code",
   "execution_count": 3,
   "id": "5acb3b16-1d07-4188-81ad-6211827b7f89",
   "metadata": {},
   "outputs": [],
   "source": [
    "#DATA PREPROCESSING"
   ]
  },
  {
   "cell_type": "code",
   "execution_count": 4,
   "id": "072364fa-f5a8-4235-aecc-5b98912459a7",
   "metadata": {},
   "outputs": [
    {
     "data": {
      "text/plain": [
       "array(['Moderate', 'Low', 'High'], dtype=object)"
      ]
     },
     "execution_count": 4,
     "metadata": {},
     "output_type": "execute_result"
    }
   ],
   "source": [
    "#Checking the unique values of the dataset\n",
    "\n",
    "data[\"Adaptivity Level\"].unique()"
   ]
  },
  {
   "cell_type": "code",
   "execution_count": 5,
   "id": "f15e6f4b-d075-4346-a1eb-067ea00eb4cb",
   "metadata": {},
   "outputs": [
    {
     "data": {
      "text/plain": [
       "array(['University', 'College', 'School'], dtype=object)"
      ]
     },
     "execution_count": 5,
     "metadata": {},
     "output_type": "execute_result"
    }
   ],
   "source": [
    "data[\"Education Level\"].unique()"
   ]
  },
  {
   "cell_type": "code",
   "execution_count": 6,
   "id": "7c35f1ed-e0af-458a-ab0b-15ac35a9e321",
   "metadata": {},
   "outputs": [
    {
     "data": {
      "text/plain": [
       "array(['21-25', '16-20', '11-15', '26-30', '6-10', '1-5'], dtype=object)"
      ]
     },
     "execution_count": 6,
     "metadata": {},
     "output_type": "execute_result"
    }
   ],
   "source": [
    "data[\"Age\"].unique()"
   ]
  },
  {
   "cell_type": "code",
   "execution_count": 7,
   "id": "f3fc420a-7843-41b8-928e-1d5d428631c5",
   "metadata": {},
   "outputs": [
    {
     "data": {
      "text/plain": [
       "array(['Mid', 'Poor', 'Rich'], dtype=object)"
      ]
     },
     "execution_count": 7,
     "metadata": {},
     "output_type": "execute_result"
    }
   ],
   "source": [
    "data[\"Financial Condition\"].unique()"
   ]
  },
  {
   "cell_type": "code",
   "execution_count": 8,
   "id": "699d1852-fe9e-4c33-87f6-b694eac959c4",
   "metadata": {},
   "outputs": [
    {
     "data": {
      "text/plain": [
       "array(['Non Government', 'Government'], dtype=object)"
      ]
     },
     "execution_count": 8,
     "metadata": {},
     "output_type": "execute_result"
    }
   ],
   "source": [
    "data[\"Institution Type\"].unique()"
   ]
  },
  {
   "cell_type": "code",
   "execution_count": 9,
   "id": "5b6dc3a7-f27c-401e-aebc-60032bf298f3",
   "metadata": {},
   "outputs": [
    {
     "data": {
      "text/plain": [
       "array(['Wifi', 'Mobile Data'], dtype=object)"
      ]
     },
     "execution_count": 9,
     "metadata": {},
     "output_type": "execute_result"
    }
   ],
   "source": [
    "data[\"Internet Type\"].unique()"
   ]
  },
  {
   "cell_type": "code",
   "execution_count": 10,
   "id": "a9dc171f-2a09-4abc-ba88-451ee9232e20",
   "metadata": {},
   "outputs": [
    {
     "data": {
      "text/plain": [
       "array(['Tab', 'Mobile', 'Computer'], dtype=object)"
      ]
     },
     "execution_count": 10,
     "metadata": {},
     "output_type": "execute_result"
    }
   ],
   "source": [
    "data[\"Device\"].unique()"
   ]
  },
  {
   "cell_type": "code",
   "execution_count": 11,
   "id": "e560382f-6e9a-4639-8a34-b233d77f9eb7",
   "metadata": {},
   "outputs": [
    {
     "data": {
      "text/plain": [
       "array(['Boy', 'Girl'], dtype=object)"
      ]
     },
     "execution_count": 11,
     "metadata": {},
     "output_type": "execute_result"
    }
   ],
   "source": [
    "data[\"Gender\"].unique()"
   ]
  },
  {
   "cell_type": "code",
   "execution_count": 12,
   "id": "2ffd0042-527a-40a3-bf04-1f4b1844fa1d",
   "metadata": {},
   "outputs": [
    {
     "data": {
      "text/plain": [
       "array(['3-6', '1-3', '0'], dtype=object)"
      ]
     },
     "execution_count": 12,
     "metadata": {},
     "output_type": "execute_result"
    }
   ],
   "source": [
    "data[\"Class Duration\"].unique()"
   ]
  },
  {
   "cell_type": "code",
   "execution_count": 13,
   "id": "7c3595b6-566f-4c35-b907-f0428e9fe19d",
   "metadata": {},
   "outputs": [],
   "source": [
    "den = LabelEncoder()\n",
    "data['Gender']= den.fit_transform(data['Gender'])   "
   ]
  },
  {
   "cell_type": "code",
   "execution_count": 14,
   "id": "ec328fc1-f438-4b4f-be96-8b092864bd56",
   "metadata": {},
   "outputs": [
    {
     "name": "stdout",
     "output_type": "stream",
     "text": [
      "[0 1]\n"
     ]
    }
   ],
   "source": [
    "print(data['Gender'].unique())  "
   ]
  },
  {
   "cell_type": "code",
   "execution_count": 15,
   "id": "c58dc8ea-57d5-49f4-af95-9277bf64f759",
   "metadata": {},
   "outputs": [
    {
     "data": {
      "text/plain": [
       "Index(['Gender', 'Age', 'Education Level', 'Institution Type', 'IT Student',\n",
       "       'Location', 'Load-shedding', 'Financial Condition', 'Internet Type',\n",
       "       'Network Type', 'Class Duration', 'Self Lms', 'Device',\n",
       "       'Adaptivity Level'],\n",
       "      dtype='object')"
      ]
     },
     "execution_count": 15,
     "metadata": {},
     "output_type": "execute_result"
    }
   ],
   "source": [
    "data.columns"
   ]
  },
  {
   "cell_type": "code",
   "execution_count": 16,
   "id": "6721ab06-389c-4c2a-9ffb-c1d66bb45df7",
   "metadata": {},
   "outputs": [],
   "source": [
    "#LABEL ENCODING OF CATEGORICAL DATA TO NUMERICAL"
   ]
  },
  {
   "cell_type": "code",
   "execution_count": 17,
   "id": "17bb5b48-94e8-4cb5-8722-77b2a155c711",
   "metadata": {},
   "outputs": [
    {
     "name": "stdout",
     "output_type": "stream",
     "text": [
      "[3 2 1 4 5 0]\n"
     ]
    }
   ],
   "source": [
    "data['Age']= den.fit_transform(data['Age'])\n",
    "print(data['Age'].unique()) "
   ]
  },
  {
   "cell_type": "code",
   "execution_count": 18,
   "id": "06c0b310-5dc7-4c16-b8a9-26de7e0bddce",
   "metadata": {},
   "outputs": [
    {
     "name": "stdout",
     "output_type": "stream",
     "text": [
      "[2 0 1]\n"
     ]
    }
   ],
   "source": [
    "data['Education Level']= den.fit_transform(data['Education Level'])\n",
    "print(data['Education Level'].unique()) "
   ]
  },
  {
   "cell_type": "code",
   "execution_count": 19,
   "id": "7fa430de-c9b3-4018-868d-00dbe6d03e03",
   "metadata": {},
   "outputs": [
    {
     "name": "stdout",
     "output_type": "stream",
     "text": [
      "[1 0]\n"
     ]
    }
   ],
   "source": [
    "data['Institution Type']= den.fit_transform(data['Institution Type'])\n",
    "print(data['Institution Type'].unique())"
   ]
  },
  {
   "cell_type": "code",
   "execution_count": 20,
   "id": "8ad055cc-e3e0-4d56-9a62-910787d237ef",
   "metadata": {},
   "outputs": [
    {
     "name": "stdout",
     "output_type": "stream",
     "text": [
      "[0 1]\n"
     ]
    }
   ],
   "source": [
    "data['IT Student']= den.fit_transform(data['IT Student'])\n",
    "print(data['IT Student'].unique()) "
   ]
  },
  {
   "cell_type": "code",
   "execution_count": 21,
   "id": "d13e5899-727f-435d-bac8-ad0a1b58ca38",
   "metadata": {},
   "outputs": [
    {
     "name": "stdout",
     "output_type": "stream",
     "text": [
      "[1 0]\n"
     ]
    }
   ],
   "source": [
    "data['Location']= den.fit_transform(data['Location'])\n",
    "print(data['Location'].unique()) "
   ]
  },
  {
   "cell_type": "code",
   "execution_count": 22,
   "id": "9821177d-2f60-42cb-bbc7-68ab489dc03c",
   "metadata": {},
   "outputs": [
    {
     "name": "stdout",
     "output_type": "stream",
     "text": [
      "[1 0]\n"
     ]
    }
   ],
   "source": [
    "data['Load-shedding']= den.fit_transform(data['Load-shedding'])\n",
    "print(data['Load-shedding'].unique())"
   ]
  },
  {
   "cell_type": "code",
   "execution_count": 23,
   "id": "a2ae9fc4-1300-481e-b55c-cffd82e24dea",
   "metadata": {},
   "outputs": [
    {
     "name": "stdout",
     "output_type": "stream",
     "text": [
      "[0 1 2]\n"
     ]
    }
   ],
   "source": [
    "data['Financial Condition']= den.fit_transform(data['Financial Condition'])\n",
    "print(data['Financial Condition'].unique())"
   ]
  },
  {
   "cell_type": "code",
   "execution_count": 24,
   "id": "0141beac-6c24-4e3c-acc9-4c3ff3ce7635",
   "metadata": {},
   "outputs": [
    {
     "name": "stdout",
     "output_type": "stream",
     "text": [
      "[1 0]\n"
     ]
    }
   ],
   "source": [
    "data['Internet Type']= den.fit_transform(data['Internet Type'])\n",
    "print(data['Internet Type'].unique())"
   ]
  },
  {
   "cell_type": "code",
   "execution_count": 25,
   "id": "57724a3c-d38a-40b2-ac43-586380391e58",
   "metadata": {},
   "outputs": [
    {
     "name": "stdout",
     "output_type": "stream",
     "text": [
      "[2 1 0]\n"
     ]
    }
   ],
   "source": [
    "data['Network Type']= den.fit_transform(data['Network Type'])\n",
    "print(data['Network Type'].unique())"
   ]
  },
  {
   "cell_type": "code",
   "execution_count": 26,
   "id": "73d08b05-19dc-441f-b14e-3769e0999f4f",
   "metadata": {},
   "outputs": [
    {
     "name": "stdout",
     "output_type": "stream",
     "text": [
      "[2 1 0]\n"
     ]
    }
   ],
   "source": [
    "data['Class Duration']= den.fit_transform(data['Class Duration'])\n",
    "print(data['Class Duration'].unique())"
   ]
  },
  {
   "cell_type": "code",
   "execution_count": 27,
   "id": "2799df7b-33a7-42ca-a5c7-fb9e4eb46ad7",
   "metadata": {},
   "outputs": [
    {
     "name": "stdout",
     "output_type": "stream",
     "text": [
      "[0 1]\n"
     ]
    }
   ],
   "source": [
    "data['Self Lms']= den.fit_transform(data['Self Lms'])\n",
    "print(data['Self Lms'].unique())"
   ]
  },
  {
   "cell_type": "code",
   "execution_count": 28,
   "id": "84308fd1-4734-4927-812d-3d81f3d7aebe",
   "metadata": {},
   "outputs": [
    {
     "name": "stdout",
     "output_type": "stream",
     "text": [
      "[2 1 0]\n"
     ]
    }
   ],
   "source": [
    "data['Device']= den.fit_transform(data['Device'])\n",
    "print(data['Device'].unique())"
   ]
  },
  {
   "cell_type": "code",
   "execution_count": 29,
   "id": "94293f59-9278-4985-acc7-f5bf9bc52da9",
   "metadata": {},
   "outputs": [
    {
     "name": "stdout",
     "output_type": "stream",
     "text": [
      "[2 1 0]\n"
     ]
    }
   ],
   "source": [
    "data['Adaptivity Level']= den.fit_transform(data['Adaptivity Level'])\n",
    "print(data['Adaptivity Level'].unique())"
   ]
  },
  {
   "cell_type": "code",
   "execution_count": 30,
   "id": "370c5bd7-c995-41d2-8292-76c5b580b707",
   "metadata": {},
   "outputs": [
    {
     "data": {
      "text/html": [
       "<div>\n",
       "<style scoped>\n",
       "    .dataframe tbody tr th:only-of-type {\n",
       "        vertical-align: middle;\n",
       "    }\n",
       "\n",
       "    .dataframe tbody tr th {\n",
       "        vertical-align: top;\n",
       "    }\n",
       "\n",
       "    .dataframe thead th {\n",
       "        text-align: right;\n",
       "    }\n",
       "</style>\n",
       "<table border=\"1\" class=\"dataframe\">\n",
       "  <thead>\n",
       "    <tr style=\"text-align: right;\">\n",
       "      <th></th>\n",
       "      <th>Gender</th>\n",
       "      <th>Age</th>\n",
       "      <th>Education Level</th>\n",
       "      <th>Institution Type</th>\n",
       "      <th>IT Student</th>\n",
       "      <th>Location</th>\n",
       "      <th>Load-shedding</th>\n",
       "      <th>Financial Condition</th>\n",
       "      <th>Internet Type</th>\n",
       "      <th>Network Type</th>\n",
       "      <th>Class Duration</th>\n",
       "      <th>Self Lms</th>\n",
       "      <th>Device</th>\n",
       "      <th>Adaptivity Level</th>\n",
       "    </tr>\n",
       "  </thead>\n",
       "  <tbody>\n",
       "    <tr>\n",
       "      <th>0</th>\n",
       "      <td>0</td>\n",
       "      <td>3</td>\n",
       "      <td>2</td>\n",
       "      <td>1</td>\n",
       "      <td>0</td>\n",
       "      <td>1</td>\n",
       "      <td>1</td>\n",
       "      <td>0</td>\n",
       "      <td>1</td>\n",
       "      <td>2</td>\n",
       "      <td>2</td>\n",
       "      <td>0</td>\n",
       "      <td>2</td>\n",
       "      <td>2</td>\n",
       "    </tr>\n",
       "    <tr>\n",
       "      <th>1</th>\n",
       "      <td>1</td>\n",
       "      <td>3</td>\n",
       "      <td>2</td>\n",
       "      <td>1</td>\n",
       "      <td>0</td>\n",
       "      <td>1</td>\n",
       "      <td>0</td>\n",
       "      <td>0</td>\n",
       "      <td>0</td>\n",
       "      <td>2</td>\n",
       "      <td>1</td>\n",
       "      <td>1</td>\n",
       "      <td>1</td>\n",
       "      <td>2</td>\n",
       "    </tr>\n",
       "    <tr>\n",
       "      <th>2</th>\n",
       "      <td>1</td>\n",
       "      <td>2</td>\n",
       "      <td>0</td>\n",
       "      <td>0</td>\n",
       "      <td>0</td>\n",
       "      <td>1</td>\n",
       "      <td>1</td>\n",
       "      <td>0</td>\n",
       "      <td>1</td>\n",
       "      <td>2</td>\n",
       "      <td>1</td>\n",
       "      <td>0</td>\n",
       "      <td>1</td>\n",
       "      <td>2</td>\n",
       "    </tr>\n",
       "    <tr>\n",
       "      <th>3</th>\n",
       "      <td>1</td>\n",
       "      <td>1</td>\n",
       "      <td>1</td>\n",
       "      <td>1</td>\n",
       "      <td>0</td>\n",
       "      <td>1</td>\n",
       "      <td>1</td>\n",
       "      <td>0</td>\n",
       "      <td>0</td>\n",
       "      <td>2</td>\n",
       "      <td>1</td>\n",
       "      <td>0</td>\n",
       "      <td>1</td>\n",
       "      <td>2</td>\n",
       "    </tr>\n",
       "    <tr>\n",
       "      <th>4</th>\n",
       "      <td>1</td>\n",
       "      <td>2</td>\n",
       "      <td>1</td>\n",
       "      <td>1</td>\n",
       "      <td>0</td>\n",
       "      <td>1</td>\n",
       "      <td>1</td>\n",
       "      <td>1</td>\n",
       "      <td>0</td>\n",
       "      <td>1</td>\n",
       "      <td>0</td>\n",
       "      <td>0</td>\n",
       "      <td>1</td>\n",
       "      <td>1</td>\n",
       "    </tr>\n",
       "    <tr>\n",
       "      <th>...</th>\n",
       "      <td>...</td>\n",
       "      <td>...</td>\n",
       "      <td>...</td>\n",
       "      <td>...</td>\n",
       "      <td>...</td>\n",
       "      <td>...</td>\n",
       "      <td>...</td>\n",
       "      <td>...</td>\n",
       "      <td>...</td>\n",
       "      <td>...</td>\n",
       "      <td>...</td>\n",
       "      <td>...</td>\n",
       "      <td>...</td>\n",
       "      <td>...</td>\n",
       "    </tr>\n",
       "    <tr>\n",
       "      <th>1200</th>\n",
       "      <td>1</td>\n",
       "      <td>2</td>\n",
       "      <td>0</td>\n",
       "      <td>1</td>\n",
       "      <td>0</td>\n",
       "      <td>1</td>\n",
       "      <td>1</td>\n",
       "      <td>0</td>\n",
       "      <td>1</td>\n",
       "      <td>2</td>\n",
       "      <td>1</td>\n",
       "      <td>0</td>\n",
       "      <td>1</td>\n",
       "      <td>1</td>\n",
       "    </tr>\n",
       "    <tr>\n",
       "      <th>1201</th>\n",
       "      <td>1</td>\n",
       "      <td>2</td>\n",
       "      <td>0</td>\n",
       "      <td>1</td>\n",
       "      <td>0</td>\n",
       "      <td>0</td>\n",
       "      <td>0</td>\n",
       "      <td>0</td>\n",
       "      <td>1</td>\n",
       "      <td>2</td>\n",
       "      <td>2</td>\n",
       "      <td>0</td>\n",
       "      <td>1</td>\n",
       "      <td>2</td>\n",
       "    </tr>\n",
       "    <tr>\n",
       "      <th>1202</th>\n",
       "      <td>0</td>\n",
       "      <td>1</td>\n",
       "      <td>1</td>\n",
       "      <td>1</td>\n",
       "      <td>0</td>\n",
       "      <td>1</td>\n",
       "      <td>1</td>\n",
       "      <td>0</td>\n",
       "      <td>0</td>\n",
       "      <td>1</td>\n",
       "      <td>1</td>\n",
       "      <td>0</td>\n",
       "      <td>1</td>\n",
       "      <td>2</td>\n",
       "    </tr>\n",
       "    <tr>\n",
       "      <th>1203</th>\n",
       "      <td>1</td>\n",
       "      <td>2</td>\n",
       "      <td>0</td>\n",
       "      <td>1</td>\n",
       "      <td>0</td>\n",
       "      <td>0</td>\n",
       "      <td>1</td>\n",
       "      <td>0</td>\n",
       "      <td>1</td>\n",
       "      <td>2</td>\n",
       "      <td>1</td>\n",
       "      <td>0</td>\n",
       "      <td>1</td>\n",
       "      <td>1</td>\n",
       "    </tr>\n",
       "    <tr>\n",
       "      <th>1204</th>\n",
       "      <td>1</td>\n",
       "      <td>1</td>\n",
       "      <td>1</td>\n",
       "      <td>1</td>\n",
       "      <td>0</td>\n",
       "      <td>1</td>\n",
       "      <td>1</td>\n",
       "      <td>1</td>\n",
       "      <td>0</td>\n",
       "      <td>1</td>\n",
       "      <td>1</td>\n",
       "      <td>0</td>\n",
       "      <td>1</td>\n",
       "      <td>2</td>\n",
       "    </tr>\n",
       "  </tbody>\n",
       "</table>\n",
       "<p>1205 rows × 14 columns</p>\n",
       "</div>"
      ],
      "text/plain": [
       "      Gender  Age  Education Level  Institution Type  IT Student  Location  \\\n",
       "0          0    3                2                 1           0         1   \n",
       "1          1    3                2                 1           0         1   \n",
       "2          1    2                0                 0           0         1   \n",
       "3          1    1                1                 1           0         1   \n",
       "4          1    2                1                 1           0         1   \n",
       "...      ...  ...              ...               ...         ...       ...   \n",
       "1200       1    2                0                 1           0         1   \n",
       "1201       1    2                0                 1           0         0   \n",
       "1202       0    1                1                 1           0         1   \n",
       "1203       1    2                0                 1           0         0   \n",
       "1204       1    1                1                 1           0         1   \n",
       "\n",
       "      Load-shedding  Financial Condition  Internet Type  Network Type  \\\n",
       "0                 1                    0              1             2   \n",
       "1                 0                    0              0             2   \n",
       "2                 1                    0              1             2   \n",
       "3                 1                    0              0             2   \n",
       "4                 1                    1              0             1   \n",
       "...             ...                  ...            ...           ...   \n",
       "1200              1                    0              1             2   \n",
       "1201              0                    0              1             2   \n",
       "1202              1                    0              0             1   \n",
       "1203              1                    0              1             2   \n",
       "1204              1                    1              0             1   \n",
       "\n",
       "      Class Duration  Self Lms  Device  Adaptivity Level  \n",
       "0                  2         0       2                 2  \n",
       "1                  1         1       1                 2  \n",
       "2                  1         0       1                 2  \n",
       "3                  1         0       1                 2  \n",
       "4                  0         0       1                 1  \n",
       "...              ...       ...     ...               ...  \n",
       "1200               1         0       1                 1  \n",
       "1201               2         0       1                 2  \n",
       "1202               1         0       1                 2  \n",
       "1203               1         0       1                 1  \n",
       "1204               1         0       1                 2  \n",
       "\n",
       "[1205 rows x 14 columns]"
      ]
     },
     "execution_count": 30,
     "metadata": {},
     "output_type": "execute_result"
    }
   ],
   "source": [
    "data"
   ]
  },
  {
   "cell_type": "code",
   "execution_count": 31,
   "id": "e7b0e11e-6024-4367-bfdc-e528d3d802c0",
   "metadata": {},
   "outputs": [
    {
     "name": "stdout",
     "output_type": "stream",
     "text": [
      "<class 'pandas.core.frame.DataFrame'>\n",
      "RangeIndex: 1205 entries, 0 to 1204\n",
      "Data columns (total 14 columns):\n",
      " #   Column               Non-Null Count  Dtype\n",
      "---  ------               --------------  -----\n",
      " 0   Gender               1205 non-null   int32\n",
      " 1   Age                  1205 non-null   int32\n",
      " 2   Education Level      1205 non-null   int32\n",
      " 3   Institution Type     1205 non-null   int32\n",
      " 4   IT Student           1205 non-null   int32\n",
      " 5   Location             1205 non-null   int32\n",
      " 6   Load-shedding        1205 non-null   int32\n",
      " 7   Financial Condition  1205 non-null   int32\n",
      " 8   Internet Type        1205 non-null   int32\n",
      " 9   Network Type         1205 non-null   int32\n",
      " 10  Class Duration       1205 non-null   int32\n",
      " 11  Self Lms             1205 non-null   int32\n",
      " 12  Device               1205 non-null   int32\n",
      " 13  Adaptivity Level     1205 non-null   int32\n",
      "dtypes: int32(14)\n",
      "memory usage: 66.0 KB\n"
     ]
    }
   ],
   "source": [
    "#Getting the columns information from the dataset \n",
    "\n",
    "data.info()"
   ]
  },
  {
   "cell_type": "code",
   "execution_count": 32,
   "id": "4ccd1769-4727-4442-bf29-9ca83c0494cc",
   "metadata": {},
   "outputs": [
    {
     "data": {
      "text/plain": [
       "Gender                 0\n",
       "Age                    0\n",
       "Education Level        0\n",
       "Institution Type       0\n",
       "IT Student             0\n",
       "Location               0\n",
       "Load-shedding          0\n",
       "Financial Condition    0\n",
       "Internet Type          0\n",
       "Network Type           0\n",
       "Class Duration         0\n",
       "Self Lms               0\n",
       "Device                 0\n",
       "Adaptivity Level       0\n",
       "dtype: int64"
      ]
     },
     "execution_count": 32,
     "metadata": {},
     "output_type": "execute_result"
    }
   ],
   "source": [
    "#Checking for missing values\n",
    "\n",
    "data.isnull().sum()"
   ]
  },
  {
   "cell_type": "markdown",
   "id": "f2cc0328-f616-4463-a527-bfb38593b44b",
   "metadata": {},
   "source": [
    "DATA VISUALIZATION"
   ]
  },
  {
   "cell_type": "code",
   "execution_count": 137,
   "id": "41baa8b6-c518-4007-8548-0fb7e2903c34",
   "metadata": {},
   "outputs": [
    {
     "data": {
      "text/plain": [
       "<AxesSubplot:title={'center':'Bar plot of Education Level'}, xlabel='Education Level', ylabel='Adaptivity Level'>"
      ]
     },
     "execution_count": 137,
     "metadata": {},
     "output_type": "execute_result"
    },
    {
     "data": {
      "image/png": "[encoded data removed]",
      "text/plain": [
       "<Figure size 432x288 with 1 Axes>"
      ]
     },
     "metadata": {},
     "output_type": "display_data"
    }
   ],
   "source": [
    "#Visualization with Education Level using a bar graph\n",
    "plt.xlabel(\"Education Level\")\n",
    "plt.ylabel(\"Adaptivity Level\")\n",
    "plt.title(\"Bar plot of Education Level\")\n",
    "vc = data[\"Education Level\"].value_counts()\n",
    "vc.plot.bar(rot=90)\n",
    "\n",
    "#The students with school educational level has the highest adaptivity level followed by University and the college students respectively"
   ]
  },
  {
   "cell_type": "code",
   "execution_count": 138,
   "id": "b0339fc1-7b68-4193-a845-5e6b738afe8d",
   "metadata": {},
   "outputs": [
    {
     "data": {
      "text/plain": [
       "<AxesSubplot:title={'center':'Bar plot of Internet Type'}, xlabel='Internet Type', ylabel='Adaptivity Level'>"
      ]
     },
     "execution_count": 138,
     "metadata": {},
     "output_type": "execute_result"
    },
    {
     "data": {
      "image/png": "[encoded data removed]",
      "text/plain": [
       "<Figure size 432x288 with 1 Axes>"
      ]
     },
     "metadata": {},
     "output_type": "display_data"
    }
   ],
   "source": [
    "#Visualization with Internet Type using a bar graph\n",
    "plt.xlabel(\"Internet Type\")\n",
    "plt.ylabel(\"Adaptivity Level\")\n",
    "plt.title(\"Bar plot of Internet Type\")\n",
    "vc = data[\"Internet Type\"].value_counts()\n",
    "vc.plot.bar(rot=90)\n",
    "\n",
    "#Students using mobile data has the highest adaptivity level than Wifi users"
   ]
  },
  {
   "cell_type": "code",
   "execution_count": 140,
   "id": "9f15f844-9328-43b8-aa2b-b2e1df65836b",
   "metadata": {},
   "outputs": [
    {
     "data": {
      "text/plain": [
       "<AxesSubplot:title={'center':'Bar plot of Network Type'}, xlabel='Network Type', ylabel='Adaptivity Level'>"
      ]
     },
     "execution_count": 140,
     "metadata": {},
     "output_type": "execute_result"
    },
    {
     "data": {
      "image/png": "[encoded data removed]",
      "text/plain": [
       "<Figure size 432x288 with 1 Axes>"
      ]
     },
     "metadata": {},
     "output_type": "display_data"
    }
   ],
   "source": [
    "#Visualization with Network Type using a bar graph\n",
    "plt.xlabel(\"Network Type\")\n",
    "plt.ylabel(\"Adaptivity Level\")\n",
    "plt.title(\"Bar plot of Network Type\")\n",
    "vc = data[\"Network Type\"].value_counts()\n",
    "vc.plot.bar(rot=90)\n",
    "\n",
    "#Students with the 4G internet networks adapts to online education more because its faster, followed by 3G and lastly 2G."
   ]
  },
  {
   "cell_type": "code",
   "execution_count": 141,
   "id": "cb6d72ed-584a-447c-b054-8fc198f66b45",
   "metadata": {},
   "outputs": [
    {
     "data": {
      "text/plain": [
       "<AxesSubplot:title={'center':'Bar plot of Gender'}, xlabel='Gender', ylabel='Adaptivity Level'>"
      ]
     },
     "execution_count": 141,
     "metadata": {},
     "output_type": "execute_result"
    },
    {
     "data": {
      "image/png": "[encoded data removed]",
      "text/plain": [
       "<Figure size 432x288 with 1 Axes>"
      ]
     },
     "metadata": {},
     "output_type": "display_data"
    }
   ],
   "source": [
    "#Visualization with Education Level using a bar graph\n",
    "plt.xlabel(\"Gender\")\n",
    "plt.ylabel(\"Adaptivity Level\")\n",
    "plt.title(\"Bar plot of Gender\")\n",
    "vc = data[\"Gender\"].value_counts()\n",
    "vc.plot.bar(rot=90)\n",
    "\n",
    "#The Boy Gender adaptivity level to online education is higher than the Girl Gender."
   ]
  },
  {
   "cell_type": "code",
   "execution_count": 142,
   "id": "498893de-251f-4fa9-b022-9f9c9c572833",
   "metadata": {},
   "outputs": [
    {
     "data": {
      "text/plain": [
       "<AxesSubplot:title={'center':'Bar plot of Financial Condition'}, xlabel='Financial Condition', ylabel='Financial Condition'>"
      ]
     },
     "execution_count": 142,
     "metadata": {},
     "output_type": "execute_result"
    },
    {
     "data": {
      "image/png": "[encoded data removed]",
      "text/plain": [
       "<Figure size 432x288 with 1 Axes>"
      ]
     },
     "metadata": {},
     "output_type": "display_data"
    }
   ],
   "source": [
    "#Visualization with region using a pie chart\n",
    "\n",
    "plt.xlabel(\"Financial Condition\")\n",
    "plt.ylabel(\"Adaptivity Level\")\n",
    "plt.title(\"Bar plot of Financial Condition\")\n",
    "\n",
    "explode=(0, 0, 0.1),\n",
    "\n",
    "vc = data[\"Financial Condition\"].value_counts()\n",
    "vc.plot.pie(rot=0, autopct='%1.1f%%', startangle = 0)\n",
    "\n",
    "\n",
    "#Using a Pie Chart, the average students financial condition towards online education is higher than the Poor and the Rich students."
   ]
  },
  {
   "cell_type": "code",
   "execution_count": 143,
   "id": "560c264e-6734-44a6-b85f-5b7941e0f280",
   "metadata": {},
   "outputs": [
    {
     "data": {
      "text/plain": [
       "<AxesSubplot:title={'center':'Bar plot of Age'}, xlabel='Age', ylabel='Age'>"
      ]
     },
     "execution_count": 143,
     "metadata": {},
     "output_type": "execute_result"
    },
    {
     "data": {
      "image/png": "[encoded data removed]",
      "text/plain": [
       "<Figure size 432x288 with 1 Axes>"
      ]
     },
     "metadata": {},
     "output_type": "display_data"
    }
   ],
   "source": [
    "#Visualization with region using a pie chart\n",
    "\n",
    "plt.xlabel(\"Age\")\n",
    "plt.ylabel(\"Adaptivity Level\")\n",
    "plt.title(\"Bar plot of Age\")\n",
    "\n",
    "explode=(0, 0, 0.1),\n",
    "\n",
    "vc = data[\"Age\"].value_counts()\n",
    "vc.plot.pie(rot=0, autopct='%1.1f%%', startangle = 0)\n",
    "\n",
    "#The age brackets (21 - 25) has the highest percentage of adaptivity level followed by (11 - 15) while age 6 - 10 takes the lowest percentage."
   ]
  },
  {
   "cell_type": "code",
   "execution_count": 144,
   "id": "61d4bd52-a781-4898-b641-4fbd1c288ba2",
   "metadata": {},
   "outputs": [
    {
     "data": {
      "text/plain": [
       "<AxesSubplot:title={'center':'Bar plot of Device'}, xlabel='Device', ylabel='Device'>"
      ]
     },
     "execution_count": 144,
     "metadata": {},
     "output_type": "execute_result"
    },
    {
     "data": {
      "image/png": "[encoded data removed]",
      "text/plain": [
       "<Figure size 432x288 with 1 Axes>"
      ]
     },
     "metadata": {},
     "output_type": "display_data"
    }
   ],
   "source": [
    "#Visualization with region using a pie chart\n",
    "\n",
    "plt.xlabel(\"Device\")\n",
    "plt.ylabel(\"Adaptivity Level\")\n",
    "plt.title(\"Bar plot of Device\")\n",
    "\n",
    "explode=(0, 0, 0.1),\n",
    "\n",
    "vc = data[\"Device\"].value_counts()\n",
    "vc.plot.pie(rot=0, autopct='%1.1f%%', startangle = 0)\n",
    "\n",
    "#The adaptivity level of students using Mobile devices has 84.1% followed by Computer and finally the students using Tabs."
   ]
  },
  {
   "cell_type": "code",
   "execution_count": 145,
   "id": "6215e6aa-f897-4d1f-85c9-0ba6e69bbc27",
   "metadata": {},
   "outputs": [
    {
     "data": {
      "text/plain": [
       "<AxesSubplot:title={'center':'Bar plot of Age'}, xlabel='Age', ylabel='Age counts'>"
      ]
     },
     "execution_count": 145,
     "metadata": {},
     "output_type": "execute_result"
    },
    {
     "data": {
      "image/png": "[encoded data removed]",
      "text/plain": [
       "<Figure size 432x288 with 1 Axes>"
      ]
     },
     "metadata": {},
     "output_type": "display_data"
    }
   ],
   "source": [
    "#visualization of age using barplots\n",
    "plt.xlabel(\"Age\")\n",
    "plt.ylabel(\"Age counts\")\n",
    "plt.title(\"Bar plot of Age\")\n",
    "vc = data[\"Age\"].value_counts()\n",
    "vc.plot.bar(rot=0, color = [\"purple\", \"yellow\", \"cyan\", \"blue\", \"brown\", \"red\"])\n",
    "\n",
    "##Using a barplot, the age brackets (21 - 25) has the highest percentage of adaptivity level followed by (11 - 15) while age 6 - 10 takes the lowest percentage."
   ]
  },
  {
   "cell_type": "code",
   "execution_count": 146,
   "id": "8b5c4b6b-7912-45c2-b0bd-1f19956d1057",
   "metadata": {},
   "outputs": [
    {
     "data": {
      "text/plain": [
       "<AxesSubplot:xlabel='Age', ylabel='count'>"
      ]
     },
     "execution_count": 146,
     "metadata": {},
     "output_type": "execute_result"
    },
    {
     "data": {
      "image/png": "[encoded data removed]",
      "text/plain": [
       "<Figure size 432x288 with 1 Axes>"
      ]
     },
     "metadata": {},
     "output_type": "display_data"
    }
   ],
   "source": [
    "#Seaborn Analysis \n",
    "#Checking out the Age based on the region.\n",
    "\n",
    "sn.countplot(data = data, x= \"Age\", palette = [\"purple\", \"blue\", \"cyan\"], hue = \"Adaptivity Level\")\n",
    "\n",
    "#This plot shows the adaptivity level of the different age brackets i.e. the moderate, low and high."
   ]
  },
  {
   "cell_type": "code",
   "execution_count": 147,
   "id": "7d20d301-0832-406c-9254-7f8788fd5aa3",
   "metadata": {},
   "outputs": [
    {
     "data": {
      "text/plain": [
       "<AxesSubplot:xlabel='Internet Type', ylabel='count'>"
      ]
     },
     "execution_count": 147,
     "metadata": {},
     "output_type": "execute_result"
    },
    {
     "data": {
      "image/png": "[encoded data removed]",
      "text/plain": [
       "<Figure size 432x288 with 1 Axes>"
      ]
     },
     "metadata": {},
     "output_type": "display_data"
    }
   ],
   "source": [
    "sn.countplot(data = data, x= \"Internet Type\", palette = [\"yellow\", \"red\", \"green\"], hue = \"Adaptivity Level\")\n",
    "\n",
    "#The plot shows the adaptivity level of students using mobile data and wifi i.e. students with Moderacy, high and low."
   ]
  },
  {
   "cell_type": "code",
   "execution_count": 169,
   "id": "cc60fff2-ebfc-400d-b87a-d1d8a3ed39a8",
   "metadata": {},
   "outputs": [
    {
     "data": {
      "text/plain": [
       "<AxesSubplot:ylabel='Education Level'>"
      ]
     },
     "execution_count": 169,
     "metadata": {},
     "output_type": "execute_result"
    },
    {
     "data": {
      "image/png": "[encoded data removed]",
      "text/plain": [
       "<Figure size 432x288 with 1 Axes>"
      ]
     },
     "metadata": {},
     "output_type": "display_data"
    }
   ],
   "source": [
    "sn.set_style(\"whitegrid\")\n",
    "\n",
    "\n",
    "sn.boxplot(y= \"Education Level\", data = data, width = 0.25)\n",
    "\n",
    "#There was no outfliers in the data. the data falls within 1 and 2 for the education level"
   ]
  },
  {
   "cell_type": "code",
   "execution_count": 170,
   "id": "e70e73d5-9bbb-496e-a7e9-89050d46cce4",
   "metadata": {},
   "outputs": [
    {
     "data": {
      "text/html": [
       "<div>\n",
       "<style scoped>\n",
       "    .dataframe tbody tr th:only-of-type {\n",
       "        vertical-align: middle;\n",
       "    }\n",
       "\n",
       "    .dataframe tbody tr th {\n",
       "        vertical-align: top;\n",
       "    }\n",
       "\n",
       "    .dataframe thead th {\n",
       "        text-align: right;\n",
       "    }\n",
       "</style>\n",
       "<table border=\"1\" class=\"dataframe\">\n",
       "  <thead>\n",
       "    <tr style=\"text-align: right;\">\n",
       "      <th></th>\n",
       "      <th>Gender</th>\n",
       "      <th>Age</th>\n",
       "      <th>Education Level</th>\n",
       "      <th>Institution Type</th>\n",
       "      <th>IT Student</th>\n",
       "      <th>Location</th>\n",
       "      <th>Load-shedding</th>\n",
       "      <th>Financial Condition</th>\n",
       "      <th>Internet Type</th>\n",
       "      <th>Network Type</th>\n",
       "      <th>Class Duration</th>\n",
       "      <th>Self Lms</th>\n",
       "      <th>Device</th>\n",
       "      <th>Adaptivity Level</th>\n",
       "    </tr>\n",
       "  </thead>\n",
       "  <tbody>\n",
       "    <tr>\n",
       "      <th>Gender</th>\n",
       "      <td>1.000000</td>\n",
       "      <td>-0.130395</td>\n",
       "      <td>-0.197743</td>\n",
       "      <td>0.106910</td>\n",
       "      <td>-0.233284</td>\n",
       "      <td>-0.034231</td>\n",
       "      <td>0.059998</td>\n",
       "      <td>-0.017410</td>\n",
       "      <td>-0.021589</td>\n",
       "      <td>-0.032527</td>\n",
       "      <td>-0.035407</td>\n",
       "      <td>-0.138331</td>\n",
       "      <td>0.140691</td>\n",
       "      <td>0.033426</td>\n",
       "    </tr>\n",
       "    <tr>\n",
       "      <th>Age</th>\n",
       "      <td>-0.130395</td>\n",
       "      <td>1.000000</td>\n",
       "      <td>0.414985</td>\n",
       "      <td>-0.216818</td>\n",
       "      <td>0.320066</td>\n",
       "      <td>-0.187269</td>\n",
       "      <td>-0.122011</td>\n",
       "      <td>0.028792</td>\n",
       "      <td>0.203195</td>\n",
       "      <td>-0.049077</td>\n",
       "      <td>0.065048</td>\n",
       "      <td>0.246289</td>\n",
       "      <td>-0.171172</td>\n",
       "      <td>-0.230317</td>\n",
       "    </tr>\n",
       "    <tr>\n",
       "      <th>Education Level</th>\n",
       "      <td>-0.197743</td>\n",
       "      <td>0.414985</td>\n",
       "      <td>1.000000</td>\n",
       "      <td>0.116403</td>\n",
       "      <td>0.415967</td>\n",
       "      <td>0.063676</td>\n",
       "      <td>0.004725</td>\n",
       "      <td>0.083509</td>\n",
       "      <td>0.080694</td>\n",
       "      <td>-0.046162</td>\n",
       "      <td>0.165127</td>\n",
       "      <td>0.326259</td>\n",
       "      <td>-0.278548</td>\n",
       "      <td>-0.032694</td>\n",
       "    </tr>\n",
       "    <tr>\n",
       "      <th>Institution Type</th>\n",
       "      <td>0.106910</td>\n",
       "      <td>-0.216818</td>\n",
       "      <td>0.116403</td>\n",
       "      <td>1.000000</td>\n",
       "      <td>0.104185</td>\n",
       "      <td>0.326813</td>\n",
       "      <td>-0.017794</td>\n",
       "      <td>0.013586</td>\n",
       "      <td>0.060198</td>\n",
       "      <td>-0.060035</td>\n",
       "      <td>0.348251</td>\n",
       "      <td>0.096722</td>\n",
       "      <td>-0.096857</td>\n",
       "      <td>0.162387</td>\n",
       "    </tr>\n",
       "    <tr>\n",
       "      <th>IT Student</th>\n",
       "      <td>-0.233284</td>\n",
       "      <td>0.320066</td>\n",
       "      <td>0.415967</td>\n",
       "      <td>0.104185</td>\n",
       "      <td>1.000000</td>\n",
       "      <td>0.009697</td>\n",
       "      <td>-0.186005</td>\n",
       "      <td>-0.025075</td>\n",
       "      <td>0.113452</td>\n",
       "      <td>-0.128817</td>\n",
       "      <td>0.228662</td>\n",
       "      <td>0.453429</td>\n",
       "      <td>-0.386776</td>\n",
       "      <td>0.049282</td>\n",
       "    </tr>\n",
       "    <tr>\n",
       "      <th>Location</th>\n",
       "      <td>-0.034231</td>\n",
       "      <td>-0.187269</td>\n",
       "      <td>0.063676</td>\n",
       "      <td>0.326813</td>\n",
       "      <td>0.009697</td>\n",
       "      <td>1.000000</td>\n",
       "      <td>0.245380</td>\n",
       "      <td>0.056958</td>\n",
       "      <td>0.222660</td>\n",
       "      <td>0.171539</td>\n",
       "      <td>0.216953</td>\n",
       "      <td>-0.036443</td>\n",
       "      <td>-0.070397</td>\n",
       "      <td>0.107414</td>\n",
       "    </tr>\n",
       "    <tr>\n",
       "      <th>Load-shedding</th>\n",
       "      <td>0.059998</td>\n",
       "      <td>-0.122011</td>\n",
       "      <td>0.004725</td>\n",
       "      <td>-0.017794</td>\n",
       "      <td>-0.186005</td>\n",
       "      <td>0.245380</td>\n",
       "      <td>1.000000</td>\n",
       "      <td>-0.001017</td>\n",
       "      <td>-0.013199</td>\n",
       "      <td>0.164678</td>\n",
       "      <td>-0.119729</td>\n",
       "      <td>-0.187610</td>\n",
       "      <td>0.052088</td>\n",
       "      <td>0.043611</td>\n",
       "    </tr>\n",
       "    <tr>\n",
       "      <th>Financial Condition</th>\n",
       "      <td>-0.017410</td>\n",
       "      <td>0.028792</td>\n",
       "      <td>0.083509</td>\n",
       "      <td>0.013586</td>\n",
       "      <td>-0.025075</td>\n",
       "      <td>0.056958</td>\n",
       "      <td>-0.001017</td>\n",
       "      <td>1.000000</td>\n",
       "      <td>-0.020469</td>\n",
       "      <td>-0.019926</td>\n",
       "      <td>0.023791</td>\n",
       "      <td>-0.064362</td>\n",
       "      <td>-0.020968</td>\n",
       "      <td>-0.274643</td>\n",
       "    </tr>\n",
       "    <tr>\n",
       "      <th>Internet Type</th>\n",
       "      <td>-0.021589</td>\n",
       "      <td>0.203195</td>\n",
       "      <td>0.080694</td>\n",
       "      <td>0.060198</td>\n",
       "      <td>0.113452</td>\n",
       "      <td>0.222660</td>\n",
       "      <td>-0.013199</td>\n",
       "      <td>-0.020469</td>\n",
       "      <td>1.000000</td>\n",
       "      <td>0.335989</td>\n",
       "      <td>0.250804</td>\n",
       "      <td>0.084661</td>\n",
       "      <td>-0.250007</td>\n",
       "      <td>-0.084276</td>\n",
       "    </tr>\n",
       "    <tr>\n",
       "      <th>Network Type</th>\n",
       "      <td>-0.032527</td>\n",
       "      <td>-0.049077</td>\n",
       "      <td>-0.046162</td>\n",
       "      <td>-0.060035</td>\n",
       "      <td>-0.128817</td>\n",
       "      <td>0.171539</td>\n",
       "      <td>0.164678</td>\n",
       "      <td>-0.019926</td>\n",
       "      <td>0.335989</td>\n",
       "      <td>1.000000</td>\n",
       "      <td>-0.019866</td>\n",
       "      <td>-0.207056</td>\n",
       "      <td>-0.063738</td>\n",
       "      <td>0.021647</td>\n",
       "    </tr>\n",
       "    <tr>\n",
       "      <th>Class Duration</th>\n",
       "      <td>-0.035407</td>\n",
       "      <td>0.065048</td>\n",
       "      <td>0.165127</td>\n",
       "      <td>0.348251</td>\n",
       "      <td>0.228662</td>\n",
       "      <td>0.216953</td>\n",
       "      <td>-0.119729</td>\n",
       "      <td>0.023791</td>\n",
       "      <td>0.250804</td>\n",
       "      <td>-0.019866</td>\n",
       "      <td>1.000000</td>\n",
       "      <td>0.247624</td>\n",
       "      <td>-0.133096</td>\n",
       "      <td>0.222075</td>\n",
       "    </tr>\n",
       "    <tr>\n",
       "      <th>Self Lms</th>\n",
       "      <td>-0.138331</td>\n",
       "      <td>0.246289</td>\n",
       "      <td>0.326259</td>\n",
       "      <td>0.096722</td>\n",
       "      <td>0.453429</td>\n",
       "      <td>-0.036443</td>\n",
       "      <td>-0.187610</td>\n",
       "      <td>-0.064362</td>\n",
       "      <td>0.084661</td>\n",
       "      <td>-0.207056</td>\n",
       "      <td>0.247624</td>\n",
       "      <td>1.000000</td>\n",
       "      <td>-0.210852</td>\n",
       "      <td>0.022179</td>\n",
       "    </tr>\n",
       "    <tr>\n",
       "      <th>Device</th>\n",
       "      <td>0.140691</td>\n",
       "      <td>-0.171172</td>\n",
       "      <td>-0.278548</td>\n",
       "      <td>-0.096857</td>\n",
       "      <td>-0.386776</td>\n",
       "      <td>-0.070397</td>\n",
       "      <td>0.052088</td>\n",
       "      <td>-0.020968</td>\n",
       "      <td>-0.250007</td>\n",
       "      <td>-0.063738</td>\n",
       "      <td>-0.133096</td>\n",
       "      <td>-0.210852</td>\n",
       "      <td>1.000000</td>\n",
       "      <td>0.065729</td>\n",
       "    </tr>\n",
       "    <tr>\n",
       "      <th>Adaptivity Level</th>\n",
       "      <td>0.033426</td>\n",
       "      <td>-0.230317</td>\n",
       "      <td>-0.032694</td>\n",
       "      <td>0.162387</td>\n",
       "      <td>0.049282</td>\n",
       "      <td>0.107414</td>\n",
       "      <td>0.043611</td>\n",
       "      <td>-0.274643</td>\n",
       "      <td>-0.084276</td>\n",
       "      <td>0.021647</td>\n",
       "      <td>0.222075</td>\n",
       "      <td>0.022179</td>\n",
       "      <td>0.065729</td>\n",
       "      <td>1.000000</td>\n",
       "    </tr>\n",
       "  </tbody>\n",
       "</table>\n",
       "</div>"
      ],
      "text/plain": [
       "                       Gender       Age  Education Level  Institution Type  \\\n",
       "Gender               1.000000 -0.130395        -0.197743          0.106910   \n",
       "Age                 -0.130395  1.000000         0.414985         -0.216818   \n",
       "Education Level     -0.197743  0.414985         1.000000          0.116403   \n",
       "Institution Type     0.106910 -0.216818         0.116403          1.000000   \n",
       "IT Student          -0.233284  0.320066         0.415967          0.104185   \n",
       "Location            -0.034231 -0.187269         0.063676          0.326813   \n",
       "Load-shedding        0.059998 -0.122011         0.004725         -0.017794   \n",
       "Financial Condition -0.017410  0.028792         0.083509          0.013586   \n",
       "Internet Type       -0.021589  0.203195         0.080694          0.060198   \n",
       "Network Type        -0.032527 -0.049077        -0.046162         -0.060035   \n",
       "Class Duration      -0.035407  0.065048         0.165127          0.348251   \n",
       "Self Lms            -0.138331  0.246289         0.326259          0.096722   \n",
       "Device               0.140691 -0.171172        -0.278548         -0.096857   \n",
       "Adaptivity Level     0.033426 -0.230317        -0.032694          0.162387   \n",
       "\n",
       "                     IT Student  Location  Load-shedding  Financial Condition  \\\n",
       "Gender                -0.233284 -0.034231       0.059998            -0.017410   \n",
       "Age                    0.320066 -0.187269      -0.122011             0.028792   \n",
       "Education Level        0.415967  0.063676       0.004725             0.083509   \n",
       "Institution Type       0.104185  0.326813      -0.017794             0.013586   \n",
       "IT Student             1.000000  0.009697      -0.186005            -0.025075   \n",
       "Location               0.009697  1.000000       0.245380             0.056958   \n",
       "Load-shedding         -0.186005  0.245380       1.000000            -0.001017   \n",
       "Financial Condition   -0.025075  0.056958      -0.001017             1.000000   \n",
       "Internet Type          0.113452  0.222660      -0.013199            -0.020469   \n",
       "Network Type          -0.128817  0.171539       0.164678            -0.019926   \n",
       "Class Duration         0.228662  0.216953      -0.119729             0.023791   \n",
       "Self Lms               0.453429 -0.036443      -0.187610            -0.064362   \n",
       "Device                -0.386776 -0.070397       0.052088            -0.020968   \n",
       "Adaptivity Level       0.049282  0.107414       0.043611            -0.274643   \n",
       "\n",
       "                     Internet Type  Network Type  Class Duration  Self Lms  \\\n",
       "Gender                   -0.021589     -0.032527       -0.035407 -0.138331   \n",
       "Age                       0.203195     -0.049077        0.065048  0.246289   \n",
       "Education Level           0.080694     -0.046162        0.165127  0.326259   \n",
       "Institution Type          0.060198     -0.060035        0.348251  0.096722   \n",
       "IT Student                0.113452     -0.128817        0.228662  0.453429   \n",
       "Location                  0.222660      0.171539        0.216953 -0.036443   \n",
       "Load-shedding            -0.013199      0.164678       -0.119729 -0.187610   \n",
       "Financial Condition      -0.020469     -0.019926        0.023791 -0.064362   \n",
       "Internet Type             1.000000      0.335989        0.250804  0.084661   \n",
       "Network Type              0.335989      1.000000       -0.019866 -0.207056   \n",
       "Class Duration            0.250804     -0.019866        1.000000  0.247624   \n",
       "Self Lms                  0.084661     -0.207056        0.247624  1.000000   \n",
       "Device                   -0.250007     -0.063738       -0.133096 -0.210852   \n",
       "Adaptivity Level         -0.084276      0.021647        0.222075  0.022179   \n",
       "\n",
       "                       Device  Adaptivity Level  \n",
       "Gender               0.140691          0.033426  \n",
       "Age                 -0.171172         -0.230317  \n",
       "Education Level     -0.278548         -0.032694  \n",
       "Institution Type    -0.096857          0.162387  \n",
       "IT Student          -0.386776          0.049282  \n",
       "Location            -0.070397          0.107414  \n",
       "Load-shedding        0.052088          0.043611  \n",
       "Financial Condition -0.020968         -0.274643  \n",
       "Internet Type       -0.250007         -0.084276  \n",
       "Network Type        -0.063738          0.021647  \n",
       "Class Duration      -0.133096          0.222075  \n",
       "Self Lms            -0.210852          0.022179  \n",
       "Device               1.000000          0.065729  \n",
       "Adaptivity Level     0.065729          1.000000  "
      ]
     },
     "execution_count": 170,
     "metadata": {},
     "output_type": "execute_result"
    }
   ],
   "source": [
    "data.corr()"
   ]
  },
  {
   "cell_type": "code",
   "execution_count": 171,
   "id": "ce2447fe-b7b8-4b5d-9177-3b6b74f1ab2d",
   "metadata": {},
   "outputs": [],
   "source": [
    "def plot_correlation_map( data ):\n",
    "    \n",
    "    corr = data.corr()\n",
    "\n",
    "    s , ax = plt.subplots( figsize =( 12 , 10 ) )\n",
    "\n",
    "    cmap = sn.diverging_palette( 220 , 10 , as_cmap = True )\n",
    "\n",
    "    s = sn.heatmap(corr, cmap = cmap, square=True, cbar_kws={ 'shrink' : .9 }, \n",
    "\n",
    "        ax=ax, \n",
    "\n",
    "        annot = True, \n",
    "\n",
    "        annot_kws = { 'fontsize' : 12 })"
   ]
  },
  {
   "cell_type": "code",
   "execution_count": 172,
   "id": "1c3b9fbe-6720-4e86-bb9b-fce7cdb6d78d",
   "metadata": {},
   "outputs": [
    {
     "data": {
      "image/png": "[encoded data removed]",
      "text/plain": [
       "<Figure size 864x720 with 2 Axes>"
      ]
     },
     "metadata": {},
     "output_type": "display_data"
    }
   ],
   "source": [
    "plot_correlation_map(data)"
   ]
  },
  {
   "cell_type": "code",
   "execution_count": 33,
   "id": "139f5a0b-6f33-4650-a7c8-804d0a9ae233",
   "metadata": {},
   "outputs": [],
   "source": [
    "#Following the results of thie Heatmap chat, the correlation between the features with adaptivity level. "
   ]
  },
  {
   "cell_type": "code",
   "execution_count": 34,
   "id": "78cf08f6-e4b9-4d82-ab96-6a5c6f61eac0",
   "metadata": {},
   "outputs": [],
   "source": [
    "#TESTING MODEL"
   ]
  },
  {
   "cell_type": "code",
   "execution_count": 35,
   "id": "dcee41e7-4a0e-4639-a591-341a75559867",
   "metadata": {},
   "outputs": [],
   "source": [
    "#splitting out data into train and test split\n",
    "\n",
    "x = data[['Gender', 'Age', 'Education Level', 'Institution Type', 'IT Student',\n",
    "       'Location', 'Load-shedding', 'Financial Condition', 'Internet Type',\n",
    "       'Network Type', 'Class Duration', 'Self Lms', 'Device',\n",
    "       'Adaptivity Level']]\n",
    "\n",
    "y = data[\"Adaptivity Level\"]"
   ]
  },
  {
   "cell_type": "code",
   "execution_count": 36,
   "id": "76e891fd-a312-4112-952c-2f600a9773ad",
   "metadata": {},
   "outputs": [
    {
     "data": {
      "text/plain": [
       "array([2, 2, 2, ..., 2, 1, 2])"
      ]
     },
     "execution_count": 36,
     "metadata": {},
     "output_type": "execute_result"
    }
   ],
   "source": [
    "np.array(x)\n",
    "np.array(y)"
   ]
  },
  {
   "cell_type": "code",
   "execution_count": 37,
   "id": "babb5fda-4e77-4e47-be9f-041f553f626f",
   "metadata": {},
   "outputs": [],
   "source": [
    "x_train, x_test, y_train, y_test = train_test_split(x,y, test_size = 0.2 )"
   ]
  },
  {
   "cell_type": "code",
   "execution_count": 38,
   "id": "ec511e96-fdbf-4112-9daa-49d43ecd2e61",
   "metadata": {},
   "outputs": [
    {
     "data": {
      "text/plain": [
       "array([[-0.90415498,  0.72502676,  1.11241884, ..., -0.45940753,\n",
       "         2.89060981,  0.87934302],\n",
       "       [ 1.10600508,  0.72502676,  1.11241884, ...,  2.17671662,\n",
       "         0.28538556,  0.87934302],\n",
       "       [ 1.10600508, -0.10151746, -1.65713632, ..., -0.45940753,\n",
       "         0.28538556,  0.87934302],\n",
       "       ...,\n",
       "       [-0.90415498, -0.92806169, -0.27235874, ..., -0.45940753,\n",
       "         0.28538556,  0.87934302],\n",
       "       [ 1.10600508, -0.10151746, -1.65713632, ..., -0.45940753,\n",
       "         0.28538556, -0.67890454],\n",
       "       [ 1.10600508, -0.92806169, -0.27235874, ..., -0.45940753,\n",
       "         0.28538556,  0.87934302]])"
      ]
     },
     "execution_count": 38,
     "metadata": {},
     "output_type": "execute_result"
    }
   ],
   "source": [
    "sc = StandardScaler()\n",
    "data1 = sc.fit_transform(x)\n",
    "\n",
    "data1"
   ]
  },
  {
   "cell_type": "code",
   "execution_count": 39,
   "id": "7e374bbc-e738-4c11-ba7f-da94ef7b2301",
   "metadata": {},
   "outputs": [
    {
     "data": {
      "text/html": [
       "<div>\n",
       "<style scoped>\n",
       "    .dataframe tbody tr th:only-of-type {\n",
       "        vertical-align: middle;\n",
       "    }\n",
       "\n",
       "    .dataframe tbody tr th {\n",
       "        vertical-align: top;\n",
       "    }\n",
       "\n",
       "    .dataframe thead th {\n",
       "        text-align: right;\n",
       "    }\n",
       "</style>\n",
       "<table border=\"1\" class=\"dataframe\">\n",
       "  <thead>\n",
       "    <tr style=\"text-align: right;\">\n",
       "      <th></th>\n",
       "      <th>0</th>\n",
       "      <th>1</th>\n",
       "      <th>2</th>\n",
       "      <th>3</th>\n",
       "      <th>4</th>\n",
       "      <th>5</th>\n",
       "      <th>6</th>\n",
       "      <th>7</th>\n",
       "      <th>8</th>\n",
       "      <th>9</th>\n",
       "      <th>10</th>\n",
       "      <th>11</th>\n",
       "      <th>12</th>\n",
       "      <th>13</th>\n",
       "    </tr>\n",
       "  </thead>\n",
       "  <tbody>\n",
       "    <tr>\n",
       "      <th>0</th>\n",
       "      <td>-0.904155</td>\n",
       "      <td>0.725027</td>\n",
       "      <td>1.112419</td>\n",
       "      <td>0.681290</td>\n",
       "      <td>-0.580864</td>\n",
       "      <td>0.537373</td>\n",
       "      <td>0.447436</td>\n",
       "      <td>-0.565091</td>\n",
       "      <td>1.167367</td>\n",
       "      <td>0.723409</td>\n",
       "      <td>1.737449</td>\n",
       "      <td>-0.459408</td>\n",
       "      <td>2.890610</td>\n",
       "      <td>0.879343</td>\n",
       "    </tr>\n",
       "    <tr>\n",
       "      <th>1</th>\n",
       "      <td>1.106005</td>\n",
       "      <td>0.725027</td>\n",
       "      <td>1.112419</td>\n",
       "      <td>0.681290</td>\n",
       "      <td>-0.580864</td>\n",
       "      <td>0.537373</td>\n",
       "      <td>-2.234955</td>\n",
       "      <td>-0.565091</td>\n",
       "      <td>-0.856629</td>\n",
       "      <td>0.723409</td>\n",
       "      <td>-0.086267</td>\n",
       "      <td>2.176717</td>\n",
       "      <td>0.285386</td>\n",
       "      <td>0.879343</td>\n",
       "    </tr>\n",
       "    <tr>\n",
       "      <th>2</th>\n",
       "      <td>1.106005</td>\n",
       "      <td>-0.101517</td>\n",
       "      <td>-1.657136</td>\n",
       "      <td>-1.467805</td>\n",
       "      <td>-0.580864</td>\n",
       "      <td>0.537373</td>\n",
       "      <td>0.447436</td>\n",
       "      <td>-0.565091</td>\n",
       "      <td>1.167367</td>\n",
       "      <td>0.723409</td>\n",
       "      <td>-0.086267</td>\n",
       "      <td>-0.459408</td>\n",
       "      <td>0.285386</td>\n",
       "      <td>0.879343</td>\n",
       "    </tr>\n",
       "    <tr>\n",
       "      <th>3</th>\n",
       "      <td>1.106005</td>\n",
       "      <td>-0.928062</td>\n",
       "      <td>-0.272359</td>\n",
       "      <td>0.681290</td>\n",
       "      <td>-0.580864</td>\n",
       "      <td>0.537373</td>\n",
       "      <td>0.447436</td>\n",
       "      <td>-0.565091</td>\n",
       "      <td>-0.856629</td>\n",
       "      <td>0.723409</td>\n",
       "      <td>-0.086267</td>\n",
       "      <td>-0.459408</td>\n",
       "      <td>0.285386</td>\n",
       "      <td>0.879343</td>\n",
       "    </tr>\n",
       "    <tr>\n",
       "      <th>4</th>\n",
       "      <td>1.106005</td>\n",
       "      <td>-0.101517</td>\n",
       "      <td>-0.272359</td>\n",
       "      <td>0.681290</td>\n",
       "      <td>-0.580864</td>\n",
       "      <td>0.537373</td>\n",
       "      <td>0.447436</td>\n",
       "      <td>1.087664</td>\n",
       "      <td>-0.856629</td>\n",
       "      <td>-1.218034</td>\n",
       "      <td>-1.909983</td>\n",
       "      <td>-0.459408</td>\n",
       "      <td>0.285386</td>\n",
       "      <td>-0.678905</td>\n",
       "    </tr>\n",
       "    <tr>\n",
       "      <th>...</th>\n",
       "      <td>...</td>\n",
       "      <td>...</td>\n",
       "      <td>...</td>\n",
       "      <td>...</td>\n",
       "      <td>...</td>\n",
       "      <td>...</td>\n",
       "      <td>...</td>\n",
       "      <td>...</td>\n",
       "      <td>...</td>\n",
       "      <td>...</td>\n",
       "      <td>...</td>\n",
       "      <td>...</td>\n",
       "      <td>...</td>\n",
       "      <td>...</td>\n",
       "    </tr>\n",
       "    <tr>\n",
       "      <th>1200</th>\n",
       "      <td>1.106005</td>\n",
       "      <td>-0.101517</td>\n",
       "      <td>-1.657136</td>\n",
       "      <td>0.681290</td>\n",
       "      <td>-0.580864</td>\n",
       "      <td>0.537373</td>\n",
       "      <td>0.447436</td>\n",
       "      <td>-0.565091</td>\n",
       "      <td>1.167367</td>\n",
       "      <td>0.723409</td>\n",
       "      <td>-0.086267</td>\n",
       "      <td>-0.459408</td>\n",
       "      <td>0.285386</td>\n",
       "      <td>-0.678905</td>\n",
       "    </tr>\n",
       "    <tr>\n",
       "      <th>1201</th>\n",
       "      <td>1.106005</td>\n",
       "      <td>-0.101517</td>\n",
       "      <td>-1.657136</td>\n",
       "      <td>0.681290</td>\n",
       "      <td>-0.580864</td>\n",
       "      <td>-1.860904</td>\n",
       "      <td>-2.234955</td>\n",
       "      <td>-0.565091</td>\n",
       "      <td>1.167367</td>\n",
       "      <td>0.723409</td>\n",
       "      <td>1.737449</td>\n",
       "      <td>-0.459408</td>\n",
       "      <td>0.285386</td>\n",
       "      <td>0.879343</td>\n",
       "    </tr>\n",
       "    <tr>\n",
       "      <th>1202</th>\n",
       "      <td>-0.904155</td>\n",
       "      <td>-0.928062</td>\n",
       "      <td>-0.272359</td>\n",
       "      <td>0.681290</td>\n",
       "      <td>-0.580864</td>\n",
       "      <td>0.537373</td>\n",
       "      <td>0.447436</td>\n",
       "      <td>-0.565091</td>\n",
       "      <td>-0.856629</td>\n",
       "      <td>-1.218034</td>\n",
       "      <td>-0.086267</td>\n",
       "      <td>-0.459408</td>\n",
       "      <td>0.285386</td>\n",
       "      <td>0.879343</td>\n",
       "    </tr>\n",
       "    <tr>\n",
       "      <th>1203</th>\n",
       "      <td>1.106005</td>\n",
       "      <td>-0.101517</td>\n",
       "      <td>-1.657136</td>\n",
       "      <td>0.681290</td>\n",
       "      <td>-0.580864</td>\n",
       "      <td>-1.860904</td>\n",
       "      <td>0.447436</td>\n",
       "      <td>-0.565091</td>\n",
       "      <td>1.167367</td>\n",
       "      <td>0.723409</td>\n",
       "      <td>-0.086267</td>\n",
       "      <td>-0.459408</td>\n",
       "      <td>0.285386</td>\n",
       "      <td>-0.678905</td>\n",
       "    </tr>\n",
       "    <tr>\n",
       "      <th>1204</th>\n",
       "      <td>1.106005</td>\n",
       "      <td>-0.928062</td>\n",
       "      <td>-0.272359</td>\n",
       "      <td>0.681290</td>\n",
       "      <td>-0.580864</td>\n",
       "      <td>0.537373</td>\n",
       "      <td>0.447436</td>\n",
       "      <td>1.087664</td>\n",
       "      <td>-0.856629</td>\n",
       "      <td>-1.218034</td>\n",
       "      <td>-0.086267</td>\n",
       "      <td>-0.459408</td>\n",
       "      <td>0.285386</td>\n",
       "      <td>0.879343</td>\n",
       "    </tr>\n",
       "  </tbody>\n",
       "</table>\n",
       "<p>1205 rows × 14 columns</p>\n",
       "</div>"
      ],
      "text/plain": [
       "            0         1         2         3         4         5         6   \\\n",
       "0    -0.904155  0.725027  1.112419  0.681290 -0.580864  0.537373  0.447436   \n",
       "1     1.106005  0.725027  1.112419  0.681290 -0.580864  0.537373 -2.234955   \n",
       "2     1.106005 -0.101517 -1.657136 -1.467805 -0.580864  0.537373  0.447436   \n",
       "3     1.106005 -0.928062 -0.272359  0.681290 -0.580864  0.537373  0.447436   \n",
       "4     1.106005 -0.101517 -0.272359  0.681290 -0.580864  0.537373  0.447436   \n",
       "...        ...       ...       ...       ...       ...       ...       ...   \n",
       "1200  1.106005 -0.101517 -1.657136  0.681290 -0.580864  0.537373  0.447436   \n",
       "1201  1.106005 -0.101517 -1.657136  0.681290 -0.580864 -1.860904 -2.234955   \n",
       "1202 -0.904155 -0.928062 -0.272359  0.681290 -0.580864  0.537373  0.447436   \n",
       "1203  1.106005 -0.101517 -1.657136  0.681290 -0.580864 -1.860904  0.447436   \n",
       "1204  1.106005 -0.928062 -0.272359  0.681290 -0.580864  0.537373  0.447436   \n",
       "\n",
       "            7         8         9         10        11        12        13  \n",
       "0    -0.565091  1.167367  0.723409  1.737449 -0.459408  2.890610  0.879343  \n",
       "1    -0.565091 -0.856629  0.723409 -0.086267  2.176717  0.285386  0.879343  \n",
       "2    -0.565091  1.167367  0.723409 -0.086267 -0.459408  0.285386  0.879343  \n",
       "3    -0.565091 -0.856629  0.723409 -0.086267 -0.459408  0.285386  0.879343  \n",
       "4     1.087664 -0.856629 -1.218034 -1.909983 -0.459408  0.285386 -0.678905  \n",
       "...        ...       ...       ...       ...       ...       ...       ...  \n",
       "1200 -0.565091  1.167367  0.723409 -0.086267 -0.459408  0.285386 -0.678905  \n",
       "1201 -0.565091  1.167367  0.723409  1.737449 -0.459408  0.285386  0.879343  \n",
       "1202 -0.565091 -0.856629 -1.218034 -0.086267 -0.459408  0.285386  0.879343  \n",
       "1203 -0.565091  1.167367  0.723409 -0.086267 -0.459408  0.285386 -0.678905  \n",
       "1204  1.087664 -0.856629 -1.218034 -0.086267 -0.459408  0.285386  0.879343  \n",
       "\n",
       "[1205 rows x 14 columns]"
      ]
     },
     "execution_count": 39,
     "metadata": {},
     "output_type": "execute_result"
    }
   ],
   "source": [
    "Test = pd.DataFrame(data1)\n",
    "\n",
    "Test"
   ]
  },
  {
   "cell_type": "code",
   "execution_count": 40,
   "id": "55401c9b-150c-4778-929b-f8fd66402f4d",
   "metadata": {},
   "outputs": [],
   "source": [
    "x = Test.iloc[:,:-1]\n",
    "y = Test.iloc[:,-1]"
   ]
  },
  {
   "cell_type": "code",
   "execution_count": null,
   "id": "129a241c-3438-4f50-8f3d-61328a0a7948",
   "metadata": {},
   "outputs": [],
   "source": [
    "#building our model - multiple linear Regression Model\n",
    "\n",
    "linear_model = LinearRegression()\n",
    "\n",
    "linear_model.fit(x_train, y_train)\n",
    "\n",
    "target = linear_model.predict(x_test)\n",
    "\n",
    "\n",
    "target"
   ]
  },
  {
   "cell_type": "code",
   "execution_count": 43,
   "id": "016c2cb3-6598-4249-81d7-530df9c54ab8",
   "metadata": {},
   "outputs": [
    {
     "name": "stdout",
     "output_type": "stream",
     "text": [
      "1.1305183365536212e-30\n",
      "1.0\n"
     ]
    }
   ],
   "source": [
    "print(mean_squared_error(y_test, target))\n",
    "\n",
    "print(metrics.r2_score(y_test, target))"
   ]
  },
  {
   "cell_type": "code",
   "execution_count": 44,
   "id": "263bb91e-11c7-4bb0-82d2-d82204836a17",
   "metadata": {},
   "outputs": [],
   "source": [
    "#SIMPLE LINEAR REGRESSION"
   ]
  },
  {
   "cell_type": "code",
   "execution_count": 45,
   "id": "3ad1bdbc-683e-4a80-af22-14e855e2761c",
   "metadata": {},
   "outputs": [],
   "source": [
    "x = Test.iloc[:, 1: -1].values #selecting the relevant features and representing it with variable x\n",
    "y = Test.iloc[:, -1:].values #representing the output with variable y"
   ]
  },
  {
   "cell_type": "code",
   "execution_count": 46,
   "id": "84515b7e-b826-4e42-8201-edf2b6853e46",
   "metadata": {},
   "outputs": [],
   "source": [
    "#Using Education Level to predict Adaptivity Level\n",
    "\n",
    "x_Education_Level = Test.iloc[:, 2]\n",
    "y_Education_Level = Test.iloc[:, -1]"
   ]
  },
  {
   "cell_type": "code",
   "execution_count": 47,
   "id": "55be522b-c0d7-4fa1-a5bb-fc0c871c9785",
   "metadata": {},
   "outputs": [],
   "source": [
    "x_train_Education_Level, x_test_Education_Level, y_train_Education_Level, y_test_Education_Level = train_test_split(x_Education_Level,y_Education_Level, test_size = 0.2 )"
   ]
  },
  {
   "cell_type": "code",
   "execution_count": 48,
   "id": "f2e62a90-1cbd-4422-9407-2324f8559f31",
   "metadata": {},
   "outputs": [],
   "source": [
    "x_train_Education_Level= np.array(x_train_Education_Level).reshape(-1, 1)\n",
    "x_test_Education_Level = np.array(x_test_Education_Level).reshape(-1, 1)\n",
    "y_train_Education_Level = np.array(y_train_Education_Level).reshape(-1, 1)\n",
    "y_test_Education_Level = np.array(y_test_Education_Level).reshape(-1, 1)"
   ]
  },
  {
   "cell_type": "code",
   "execution_count": 49,
   "id": "48120dd2-15d1-4ddb-a7be-c660db8e7c1e",
   "metadata": {},
   "outputs": [],
   "source": [
    "#Building our model - Simple Linear Regression \n",
    "\n",
    "Proj = LinearRegression()"
   ]
  },
  {
   "cell_type": "code",
   "execution_count": null,
   "id": "6360dc93-4acf-4d8a-a15b-49ee202d12a3",
   "metadata": {},
   "outputs": [],
   "source": [
    "lin = LinearRegression()\n",
    "\n",
    "lin.fit(x_train_Education_Level, y_train_Education_Level)\n",
    "\n",
    "tip = lin.predict(x_test_Education_Level)\n",
    "\n",
    "\n",
    "tip"
   ]
  },
  {
   "cell_type": "code",
   "execution_count": 51,
   "id": "d905e9f5-dc69-4179-a668-c0a3f6efb8cf",
   "metadata": {},
   "outputs": [
    {
     "name": "stdout",
     "output_type": "stream",
     "text": [
      "MSE:  0.9096366843953356\n",
      "R squared:  -0.010144358901412298\n"
     ]
    }
   ],
   "source": [
    "print(\"MSE: \", mean_squared_error(y_test_Education_Level, tip))\n",
    "print(\"R squared: \", metrics.r2_score(y_test_Education_Level, tip))"
   ]
  },
  {
   "cell_type": "code",
   "execution_count": 52,
   "id": "c12e83da-b288-4f98-9a96-efb4c3bf5d4b",
   "metadata": {},
   "outputs": [],
   "source": [
    "#Using Institution Type to predict Adaptivity Level\n",
    "\n",
    "x_Institution_Type = Test.iloc[:, 3]\n",
    "y_Institution_Type = Test.iloc[:, -1]"
   ]
  },
  {
   "cell_type": "code",
   "execution_count": 53,
   "id": "95c8591a-f2ee-4a6e-89d7-8a83c0129596",
   "metadata": {},
   "outputs": [],
   "source": [
    "x_train_Institution_Type, x_test_Institution_Type, y_train_Institution_Type, y_test_Institution_Type = train_test_split(x_Institution_Type,y_Institution_Type, test_size = 0.2 )\n"
   ]
  },
  {
   "cell_type": "code",
   "execution_count": 54,
   "id": "da1dd922-3d81-46ec-b66f-90daad867f83",
   "metadata": {},
   "outputs": [],
   "source": [
    "x_train_Institution_Type = np.array(x_train_Institution_Type).reshape(-1, 1)\n",
    "x_test_Institution_Type = np.array(x_test_Institution_Type).reshape(-1, 1)\n",
    "y_train_Institution_Type = np.array(y_train_Institution_Type).reshape(-1, 1)\n",
    "y_test_Institution_Type = np.array(y_test_Institution_Type).reshape(-1, 1)"
   ]
  },
  {
   "cell_type": "code",
   "execution_count": null,
   "id": "fd0b7679-c2a8-4230-bc37-0ecceefbf6ad",
   "metadata": {},
   "outputs": [],
   "source": [
    "line = LinearRegression()\n",
    "\n",
    "line.fit(x_train_Institution_Type, y_train_Institution_Type)\n",
    "\n",
    "tip = line.predict(x_test_Institution_Type)\n",
    "\n",
    "tip"
   ]
  },
  {
   "cell_type": "code",
   "execution_count": 56,
   "id": "eee496ca-ca76-44fb-9900-28af4d7d4582",
   "metadata": {},
   "outputs": [
    {
     "name": "stdout",
     "output_type": "stream",
     "text": [
      "MSE:  1.1816094428914876\n",
      "R squared:  -0.0369101868796089\n"
     ]
    }
   ],
   "source": [
    "print(\"MSE: \", mean_squared_error(y_test_Institution_Type, tip))\n",
    "print(\"R squared: \", metrics.r2_score(y_test_Institution_Type, tip))"
   ]
  },
  {
   "cell_type": "code",
   "execution_count": null,
   "id": "d14b7b7a-ebb1-444f-8e9c-04230d426638",
   "metadata": {},
   "outputs": [],
   "source": []
  },
  {
   "cell_type": "code",
   "execution_count": 57,
   "id": "fe42f978-6cf8-480b-9489-3285e051a4cf",
   "metadata": {},
   "outputs": [],
   "source": [
    "###Training the Polynomial Regression model on the dataset\n",
    "\n",
    "from sklearn.preprocessing import PolynomialFeatures\n",
    "poly_reg = PolynomialFeatures(degree= 4)"
   ]
  },
  {
   "cell_type": "code",
   "execution_count": 61,
   "id": "896ca3d3-8221-4ae7-ac45-340a97c31160",
   "metadata": {},
   "outputs": [
    {
     "data": {
      "text/plain": [
       "LinearRegression()"
      ]
     },
     "execution_count": 61,
     "metadata": {},
     "output_type": "execute_result"
    }
   ],
   "source": [
    "x_poly = poly_reg.fit_transform(x)\n",
    "\n",
    "lin_reg_2 = LinearRegression()\n",
    "\n",
    "lin_reg_2.fit(x_poly, y)"
   ]
  },
  {
   "cell_type": "code",
   "execution_count": 63,
   "id": "dbc226bf-1329-499a-a7e0-34c86ff0c53d",
   "metadata": {},
   "outputs": [
    {
     "name": "stdout",
     "output_type": "stream",
     "text": [
      "Intercept constant for our linear model:  [2.06013094e+12]\n",
      "Coefficient of x for our linear model:  [[-4.02083426e+11 -1.73494454e+12 -5.11050310e+11 ... -8.31649499e+10\n",
      "  -1.34105114e+11  1.63367425e+11]]\n"
     ]
    }
   ],
   "source": [
    "print(\"Intercept constant for our linear model: \", lin_reg_2.intercept_)\n",
    "print(\"Coefficient of x for our linear model: \", lin_reg_2.coef_)"
   ]
  },
  {
   "cell_type": "code",
   "execution_count": 64,
   "id": "446f36c9-d606-435d-8f70-f783fda05699",
   "metadata": {},
   "outputs": [],
   "source": [
    "##Visualising the Polynomial Regression results"
   ]
  },
  {
   "cell_type": "code",
   "execution_count": 65,
   "id": "d3a4d1d4-5296-42b7-bd01-2a845cb898d7",
   "metadata": {},
   "outputs": [
    {
     "data": {
      "text/plain": [
       "array([[ 0.93237305],\n",
       "       [ 0.9753418 ],\n",
       "       [-0.06274414],\n",
       "       ...,\n",
       "       [ 0.66674805],\n",
       "       [-0.68579102],\n",
       "       [-0.24584961]])"
      ]
     },
     "execution_count": 65,
     "metadata": {},
     "output_type": "execute_result"
    }
   ],
   "source": [
    "y_poly_pred_2 = lin_reg_2.predict(x_poly)\n",
    "\n",
    "y_poly_pred_2"
   ]
  },
  {
   "cell_type": "code",
   "execution_count": 67,
   "id": "cf12ef52-1a2e-4272-92ef-81aea1ed1881",
   "metadata": {},
   "outputs": [
    {
     "data": {
      "text/plain": [
       "LinearRegression()"
      ]
     },
     "execution_count": 67,
     "metadata": {},
     "output_type": "execute_result"
    }
   ],
   "source": [
    "y_poly_pred_2 = poly_reg.fit_transform(x)\n",
    "\n",
    "lin_reg_2 = LinearRegression()\n",
    "\n",
    "lin_reg_2.fit(x_poly, y)"
   ]
  },
  {
   "cell_type": "code",
   "execution_count": null,
   "id": "d3cc8f2b-077e-4b8b-b3a7-419f222fac44",
   "metadata": {},
   "outputs": [],
   "source": []
  }
 ],
 "metadata": {
  "kernelspec": {
   "display_name": "Python 3",
   "language": "python",
   "name": "python3"
  },
  "language_info": {
   "codemirror_mode": {
    "name": "ipython",
    "version": 3
   },
   "file_extension": ".py",
   "mimetype": "text/x-python",
   "name": "python",
   "nbconvert_exporter": "python",
   "pygments_lexer": "ipython3",
   "version": "3.8.8"
  }
 },
 "nbformat": 4,
 "nbformat_minor": 5
}
