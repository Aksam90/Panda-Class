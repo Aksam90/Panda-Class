{
 "cells": [
  {
   "cell_type": "code",
   "execution_count": 4,
   "id": "9e5cac6c",
   "metadata": {},
   "outputs": [],
   "source": [
    "import pandas as pd"
   ]
  },
  {
   "cell_type": "code",
   "execution_count": 6,
   "id": "ef0a6983",
   "metadata": {},
   "outputs": [
    {
     "name": "stdout",
     "output_type": "stream",
     "text": [
      "0              AI\n",
      "1      Accountant\n",
      "2    Data Science\n",
      "3             Web\n",
      "dtype: object\n"
     ]
    }
   ],
   "source": [
    "S=pd.Series([\"AI\", \"Accountant\", \"Data Science\", \"Web\"])\n",
    "print(S)"
   ]
  },
  {
   "cell_type": "code",
   "execution_count": 7,
   "id": "4aa7e04a",
   "metadata": {},
   "outputs": [
    {
     "name": "stdout",
     "output_type": "stream",
     "text": [
      "['A', 'A', 'A', 'B', 'C', 'C', 'B', 'A', 'C', 'A', 'A', 'A', 'C', 'C', 'B', 'B', 'A', 'A', 'A', 'B', 'B', 'B', 'A', 'A', 'B', 'B', 'C', 'A', 'B', 'C', 'A', 'B', 'C', 'B', 'A', 'A', 'A', 'B', 'B', 'C']\n"
     ]
    }
   ],
   "source": [
    "import random\n",
    "\n",
    "papers = ['A','B','C']\n",
    "\n",
    "q_list = [random.choice(papers) for i in range(40)]\n",
    "print(q_list)"
   ]
  },
  {
   "cell_type": "code",
   "execution_count": 37,
   "id": "784ef117",
   "metadata": {},
   "outputs": [
    {
     "name": "stdout",
     "output_type": "stream",
     "text": [
      "apples      NaN\n",
      "cherries    NaN\n",
      "cirese      NaN\n",
      "mere        NaN\n",
      "oranges     NaN\n",
      "pears       NaN\n",
      "pere        NaN\n",
      "portocale   NaN\n",
      "dtype: float64\n",
      "sum of S: 115\n"
     ]
    }
   ],
   "source": [
    "import pandas as pd\n",
    "fruits = [\"apples\", \"oranges\", \"cherries\", \"pears\"]\n",
    "fruits_ro = [\"mere\", \"portocale\", \"cirese\", \"pere\"]\n",
    "S = pd.Series([20, 33, 52, 10], index=fruits)\n",
    "S2 = pd.Series([17, 13, 311, 32], index=fruits_ro)\n",
    "\n",
    "print(S+S2)\n",
    "print(\"sum of S:\", sum(S))"
   ]
  },
  {
   "cell_type": "code",
   "execution_count": null,
   "id": "5e00baa2",
   "metadata": {},
   "outputs": [],
   "source": []
  },
  {
   "cell_type": "code",
   "execution_count": 8,
   "id": "b9f32b79",
   "metadata": {},
   "outputs": [],
   "source": [
    "import secrets"
   ]
  },
  {
   "cell_type": "code",
   "execution_count": 9,
   "id": "3338a00d",
   "metadata": {},
   "outputs": [],
   "source": [
    "import string"
   ]
  },
  {
   "cell_type": "code",
   "execution_count": 10,
   "id": "47aeb3e7",
   "metadata": {},
   "outputs": [],
   "source": [
    "letters = string.ascii_letters\n",
    "digits = string.digits\n",
    "special_chars = string.punctuation"
   ]
  },
  {
   "cell_type": "code",
   "execution_count": 11,
   "id": "d062287c",
   "metadata": {},
   "outputs": [],
   "source": [
    "alphabet = letters + digits + special_chars"
   ]
  },
  {
   "cell_type": "code",
   "execution_count": 14,
   "id": "8bedc52e",
   "metadata": {},
   "outputs": [],
   "source": [
    "pwd_length = 12"
   ]
  },
  {
   "cell_type": "code",
   "execution_count": 16,
   "id": "1f2e3fbb",
   "metadata": {},
   "outputs": [
    {
     "name": "stdout",
     "output_type": "stream",
     "text": [
      "7~YBBLXQZSE@\n"
     ]
    }
   ],
   "source": [
    "pwd = ''\n",
    "for i in range(pwd_length):\n",
    "  pwd += ''.join(secrets.choice(alphabet))\n",
    "\n",
    "print(pwd)"
   ]
  },
  {
   "cell_type": "code",
   "execution_count": 19,
   "id": "f7eb3770",
   "metadata": {},
   "outputs": [
    {
     "name": "stdout",
     "output_type": "stream",
     "text": [
      "s9_B;O4~\\Wg\\\n"
     ]
    }
   ],
   "source": [
    "while True:\n",
    "  pwd = ''\n",
    "  for i in range(pwd_length):\n",
    "    pwd += ''.join(secrets.choice(alphabet))\n",
    "\n",
    "  if (any(char in special_chars for char in pwd) and \n",
    "      sum(char in digits for char in pwd)>=2):\n",
    "          break\n",
    "print(pwd)"
   ]
  },
  {
   "cell_type": "code",
   "execution_count": 20,
   "id": "9d4a43bf",
   "metadata": {},
   "outputs": [
    {
     "name": "stdout",
     "output_type": "stream",
     "text": [
      "8I`IrG;@~:\n",
      "D]J2ZIP~s7\n"
     ]
    }
   ],
   "source": [
    "# necessary imports\n",
    "\n",
    "import secrets\n",
    "import string\n",
    "\n",
    "# define the alphabet\n",
    "letters = string.ascii_letters\n",
    "digits = string.digits\n",
    "special_chars = string.punctuation\n",
    "\n",
    "alphabet = letters + digits + special_chars\n",
    "\n",
    "# fix password length\n",
    "pwd_len = 10\n",
    "\n",
    "# generate a password string\n",
    "pwd = ''\n",
    "for i in range(pwd_len):\n",
    "  pwd += ''.join(secrets.choice(alphabet))\n",
    "\n",
    "print(pwd)\n",
    "\n",
    "# generate password meeting constraints\n",
    "while True:\n",
    "  pwd = ''\n",
    "  for i in range(pwd_len):\n",
    "    pwd += ''.join(secrets.choice(alphabet))\n",
    "\n",
    "  if (any(char in special_chars for char in pwd) and \n",
    "      sum(char in digits for char in pwd)>=2):\n",
    "          break\n",
    "print(pwd)"
   ]
  },
  {
   "cell_type": "code",
   "execution_count": 23,
   "id": "42ec9038",
   "metadata": {},
   "outputs": [],
   "source": [
    "import numpy as np"
   ]
  },
  {
   "cell_type": "code",
   "execution_count": 30,
   "id": "93e468c1",
   "metadata": {},
   "outputs": [
    {
     "name": "stdout",
     "output_type": "stream",
     "text": [
      "      Fruits  Qty\n",
      "0      apple   50\n",
      "1      pears   35\n",
      "2    carrots   45\n",
      "3    mangoes   63\n",
      "4  pineapple   76\n"
     ]
    }
   ],
   "source": [
    "def df_style(val):\n",
    "    return \"font-weight: bold\"\n",
    "\n",
    "data = {'Fruits': [\"apple\", \"pears\", \"carrots\", \"mangoes\", \"pineapple\"],\n",
    "        \"Qty\": [50, 35, 45, 63, 76]\n",
    "        }\n",
    "\n",
    "df = pd.DataFrame(data)\n",
    "\n",
    "print (df)\n"
   ]
  },
  {
   "cell_type": "code",
   "execution_count": 38,
   "id": "0560c683",
   "metadata": {},
   "outputs": [
    {
     "name": "stdout",
     "output_type": "stream",
     "text": [
      "          a         b         c         d\n",
      "0  0.547554  0.448218 -0.625509 -0.464262\n",
      "1  0.278026 -0.249208  0.836408 -0.213583\n",
      "2  2.668534 -0.976172  0.802909 -0.766572\n"
     ]
    }
   ],
   "source": [
    "import numpy as np\n",
    "import pandas as pd\n",
    "my_numpy_array=np.random.randn(3,4)\n",
    "df=pd.DataFrame(my_numpy_array, columns=list(\"abcd\"))\n",
    "print(df)"
   ]
  },
  {
   "cell_type": "code",
   "execution_count": 72,
   "id": "681b5d4b",
   "metadata": {},
   "outputs": [
    {
     "name": "stdout",
     "output_type": "stream",
     "text": [
      "        SME        Courses        Levels\n",
      "0     Taiwo         Yoruba   Level 1 - 6\n",
      "1  Akinyeye    Maths Basic   Level 1 - 6\n",
      "2     Lucky       Computer   Level 1 - 9\n",
      "3  Kemisola        Science  Level 1 - 12\n",
      "4    Samuel  Math Advanced  Level 7 - 12\n",
      "5   Kehinde            CRS   Level 1 - 9\n"
     ]
    }
   ],
   "source": [
    "valuedseed ={\"SME\":[\"Taiwo\", \"Akinyeye\", \"Lucky\", \"Kemisola\", \"Samuel\", \"Kehinde\"],\n",
    "            \"Courses\":[\"Yoruba\", \"Maths Basic\", \"Computer\", \"Science\", \"Math Advanced\", \"CRS\"],\n",
    "            \"Levels\":[\"Level 1 - 6\", \"Level 1 - 6\", \"Level 1 - 9\", \"Level 1 - 12\", \"Level 7 - 12\", \"Level 1 - 9\"]}\n",
    "valued_frame = pd.DataFrame(valuedseed)\n",
    "\n",
    "print(valued_frame)"
   ]
  },
  {
   "cell_type": "code",
   "execution_count": 73,
   "id": "8ed721bc",
   "metadata": {},
   "outputs": [
    {
     "name": "stdout",
     "output_type": "stream",
     "text": [
      "                Courses        Levels\n",
      "SME                                  \n",
      "Taiwo            Yoruba   Level 1 - 6\n",
      "Akinyeye    Maths Basic   Level 1 - 6\n",
      "Lucky          Computer   Level 1 - 9\n",
      "Kemisola        Science  Level 1 - 12\n",
      "Samuel    Math Advanced  Level 7 - 12\n",
      "Kehinde             CRS   Level 1 - 9\n"
     ]
    }
   ],
   "source": [
    "valued_frame = valued_frame.set_index(\"SME\")\n",
    "print(valued_frame)"
   ]
  },
  {
   "cell_type": "code",
   "execution_count": 74,
   "id": "51bde787",
   "metadata": {},
   "outputs": [
    {
     "data": {
      "text/html": [
       "<div>\n",
       "<style scoped>\n",
       "    .dataframe tbody tr th:only-of-type {\n",
       "        vertical-align: middle;\n",
       "    }\n",
       "\n",
       "    .dataframe tbody tr th {\n",
       "        vertical-align: top;\n",
       "    }\n",
       "\n",
       "    .dataframe thead th {\n",
       "        text-align: right;\n",
       "    }\n",
       "</style>\n",
       "<table border=\"1\" class=\"dataframe\">\n",
       "  <thead>\n",
       "    <tr style=\"text-align: right;\">\n",
       "      <th></th>\n",
       "      <th>Courses</th>\n",
       "      <th>Levels</th>\n",
       "    </tr>\n",
       "    <tr>\n",
       "      <th>SME</th>\n",
       "      <th></th>\n",
       "      <th></th>\n",
       "    </tr>\n",
       "  </thead>\n",
       "  <tbody>\n",
       "    <tr>\n",
       "      <th>Taiwo</th>\n",
       "      <td>Yoruba</td>\n",
       "      <td>Level 1 - 6</td>\n",
       "    </tr>\n",
       "    <tr>\n",
       "      <th>Akinyeye</th>\n",
       "      <td>Maths Basic</td>\n",
       "      <td>Level 1 - 6</td>\n",
       "    </tr>\n",
       "  </tbody>\n",
       "</table>\n",
       "</div>"
      ],
      "text/plain": [
       "              Courses       Levels\n",
       "SME                               \n",
       "Taiwo          Yoruba  Level 1 - 6\n",
       "Akinyeye  Maths Basic  Level 1 - 6"
      ]
     },
     "execution_count": 74,
     "metadata": {},
     "output_type": "execute_result"
    }
   ],
   "source": [
    "valued_frame[valued_frame[\"Levels\"]==\"Level 1 - 6\"]"
   ]
  },
  {
   "cell_type": "code",
   "execution_count": 75,
   "id": "089c584d",
   "metadata": {},
   "outputs": [
    {
     "data": {
      "text/html": [
       "<div>\n",
       "<style scoped>\n",
       "    .dataframe tbody tr th:only-of-type {\n",
       "        vertical-align: middle;\n",
       "    }\n",
       "\n",
       "    .dataframe tbody tr th {\n",
       "        vertical-align: top;\n",
       "    }\n",
       "\n",
       "    .dataframe thead th {\n",
       "        text-align: right;\n",
       "    }\n",
       "</style>\n",
       "<table border=\"1\" class=\"dataframe\">\n",
       "  <thead>\n",
       "    <tr style=\"text-align: right;\">\n",
       "      <th></th>\n",
       "      <th>Courses</th>\n",
       "      <th>Levels</th>\n",
       "    </tr>\n",
       "    <tr>\n",
       "      <th>SME</th>\n",
       "      <th></th>\n",
       "      <th></th>\n",
       "    </tr>\n",
       "  </thead>\n",
       "  <tbody>\n",
       "    <tr>\n",
       "      <th>Lucky</th>\n",
       "      <td>Computer</td>\n",
       "      <td>Level 1 - 9</td>\n",
       "    </tr>\n",
       "    <tr>\n",
       "      <th>Kehinde</th>\n",
       "      <td>CRS</td>\n",
       "      <td>Level 1 - 9</td>\n",
       "    </tr>\n",
       "  </tbody>\n",
       "</table>\n",
       "</div>"
      ],
      "text/plain": [
       "          Courses       Levels\n",
       "SME                           \n",
       "Lucky    Computer  Level 1 - 9\n",
       "Kehinde       CRS  Level 1 - 9"
      ]
     },
     "execution_count": 75,
     "metadata": {},
     "output_type": "execute_result"
    }
   ],
   "source": [
    "valued_frame[valued_frame[\"Levels\"]==\"Level 1 - 9\"]"
   ]
  },
  {
   "cell_type": "code",
   "execution_count": 50,
   "id": "3b5f6859",
   "metadata": {},
   "outputs": [
    {
     "name": "stdout",
     "output_type": "stream",
     "text": [
      "               0         1          2\n",
      "count   3.000000   3.00000   3.000000\n",
      "mean   22.000000  19.00000  15.333333\n",
      "std    17.578396   7.81025  17.387735\n",
      "min     9.000000  14.00000   2.000000\n",
      "25%    12.000000  14.50000   5.500000\n",
      "50%    15.000000  15.00000   9.000000\n",
      "75%    28.500000  21.50000  22.000000\n",
      "max    42.000000  28.00000  35.000000\n"
     ]
    }
   ],
   "source": [
    "import pandas as pd\n",
    "\n",
    "data = [[9, 28, 35], [42, 15, 9], [15, 14, 2]]\n",
    "\n",
    "df = pd.DataFrame(data)\n",
    "\n",
    "print(df.describe())"
   ]
  },
  {
   "cell_type": "code",
   "execution_count": null,
   "id": "ec9581b7",
   "metadata": {},
   "outputs": [],
   "source": []
  }
 ],
 "metadata": {
  "kernelspec": {
   "display_name": "Python 3",
   "language": "python",
   "name": "python3"
  },
  "language_info": {
   "codemirror_mode": {
    "name": "ipython",
    "version": 3
   },
   "file_extension": ".py",
   "mimetype": "text/x-python",
   "name": "python",
   "nbconvert_exporter": "python",
   "pygments_lexer": "ipython3",
   "version": "3.8.8"
  }
 },
 "nbformat": 4,
 "nbformat_minor": 5
}
