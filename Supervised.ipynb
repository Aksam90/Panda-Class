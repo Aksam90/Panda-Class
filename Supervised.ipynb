{
 "cells": [
  {
   "cell_type": "markdown",
   "id": "464cff2c-7815-4458-b694-894ab4d5c6c6",
   "metadata": {},
   "source": [
    "Objective\n",
    "Regression \n",
    "This is a dataset containing over 21613 houses and their characteristics. The goal is to find the best model to predict a house’s price. \n",
    "\n",
    " \n",
    "\n",
    "1. Explore this dataset using what you have learned in data preprocessing and data visualization \n",
    "\n",
    "2. Write a paragraph selecting the most important features (feature selection). \n",
    "\n",
    "3. Split your dataset into a training set and a testing set. \n",
    "\n",
    "4. Apply linear regression to your training set. \n",
    "\n",
    "5. Plot the linear regression. \n",
    "\n",
    "5. Measure the performance of linear regression using the testing set. \n",
    "\n",
    "6. Apply multiple-linear regression and compare it to the linear model. \n",
    "\n",
    "7. Apply polynomial regression and compare it to linear and multilinear regression. \n",
    "\n",
    "Note: Every result has to be interpreted and justified. Write your interpretations in a markdown."
   ]
  },
  {
   "cell_type": "code",
   "execution_count": 1,
   "id": "3c6cda95-b69e-490f-b9d0-4ff77f727470",
   "metadata": {},
   "outputs": [],
   "source": [
    "#importing libraries\n",
    "\n",
    "import pandas as pd\n",
    "import matplotlib.pyplot as plt\n",
    "import numpy as np\n",
    "import seaborn as sb\n",
    "from sklearn.model_selection import train_test_split\n",
    "\n",
    "from sklearn.preprocessing import StandardScaler, PolynomialFeatures\n",
    "from sklearn.linear_model import LinearRegression\n",
    "from sklearn.metrics import mean_squared_error\n",
    "from sklearn import metrics"
   ]
  },
  {
   "cell_type": "code",
   "execution_count": 2,
   "id": "642369a4-15b6-4ae3-bc20-e482098f00af",
   "metadata": {},
   "outputs": [
    {
     "data": {
      "text/html": [
       "<div>\n",
       "<style scoped>\n",
       "    .dataframe tbody tr th:only-of-type {\n",
       "        vertical-align: middle;\n",
       "    }\n",
       "\n",
       "    .dataframe tbody tr th {\n",
       "        vertical-align: top;\n",
       "    }\n",
       "\n",
       "    .dataframe thead th {\n",
       "        text-align: right;\n",
       "    }\n",
       "</style>\n",
       "<table border=\"1\" class=\"dataframe\">\n",
       "  <thead>\n",
       "    <tr style=\"text-align: right;\">\n",
       "      <th></th>\n",
       "      <th>id</th>\n",
       "      <th>date</th>\n",
       "      <th>price</th>\n",
       "      <th>bedrooms</th>\n",
       "      <th>bathrooms</th>\n",
       "      <th>sqft_living</th>\n",
       "      <th>sqft_lot</th>\n",
       "      <th>floors</th>\n",
       "      <th>waterfront</th>\n",
       "      <th>view</th>\n",
       "      <th>...</th>\n",
       "      <th>grade</th>\n",
       "      <th>sqft_above</th>\n",
       "      <th>sqft_basement</th>\n",
       "      <th>yr_built</th>\n",
       "      <th>yr_renovated</th>\n",
       "      <th>zipcode</th>\n",
       "      <th>lat</th>\n",
       "      <th>long</th>\n",
       "      <th>sqft_living15</th>\n",
       "      <th>sqft_lot15</th>\n",
       "    </tr>\n",
       "  </thead>\n",
       "  <tbody>\n",
       "    <tr>\n",
       "      <th>0</th>\n",
       "      <td>7129300520</td>\n",
       "      <td>20141013T000000</td>\n",
       "      <td>221900.0</td>\n",
       "      <td>3</td>\n",
       "      <td>1.00</td>\n",
       "      <td>1180</td>\n",
       "      <td>5650</td>\n",
       "      <td>1.0</td>\n",
       "      <td>0</td>\n",
       "      <td>0</td>\n",
       "      <td>...</td>\n",
       "      <td>7</td>\n",
       "      <td>1180</td>\n",
       "      <td>0</td>\n",
       "      <td>1955</td>\n",
       "      <td>0</td>\n",
       "      <td>98178</td>\n",
       "      <td>47.5112</td>\n",
       "      <td>-122.257</td>\n",
       "      <td>1340</td>\n",
       "      <td>5650</td>\n",
       "    </tr>\n",
       "    <tr>\n",
       "      <th>1</th>\n",
       "      <td>6414100192</td>\n",
       "      <td>20141209T000000</td>\n",
       "      <td>538000.0</td>\n",
       "      <td>3</td>\n",
       "      <td>2.25</td>\n",
       "      <td>2570</td>\n",
       "      <td>7242</td>\n",
       "      <td>2.0</td>\n",
       "      <td>0</td>\n",
       "      <td>0</td>\n",
       "      <td>...</td>\n",
       "      <td>7</td>\n",
       "      <td>2170</td>\n",
       "      <td>400</td>\n",
       "      <td>1951</td>\n",
       "      <td>1991</td>\n",
       "      <td>98125</td>\n",
       "      <td>47.7210</td>\n",
       "      <td>-122.319</td>\n",
       "      <td>1690</td>\n",
       "      <td>7639</td>\n",
       "    </tr>\n",
       "    <tr>\n",
       "      <th>2</th>\n",
       "      <td>5631500400</td>\n",
       "      <td>20150225T000000</td>\n",
       "      <td>180000.0</td>\n",
       "      <td>2</td>\n",
       "      <td>1.00</td>\n",
       "      <td>770</td>\n",
       "      <td>10000</td>\n",
       "      <td>1.0</td>\n",
       "      <td>0</td>\n",
       "      <td>0</td>\n",
       "      <td>...</td>\n",
       "      <td>6</td>\n",
       "      <td>770</td>\n",
       "      <td>0</td>\n",
       "      <td>1933</td>\n",
       "      <td>0</td>\n",
       "      <td>98028</td>\n",
       "      <td>47.7379</td>\n",
       "      <td>-122.233</td>\n",
       "      <td>2720</td>\n",
       "      <td>8062</td>\n",
       "    </tr>\n",
       "    <tr>\n",
       "      <th>3</th>\n",
       "      <td>2487200875</td>\n",
       "      <td>20141209T000000</td>\n",
       "      <td>604000.0</td>\n",
       "      <td>4</td>\n",
       "      <td>3.00</td>\n",
       "      <td>1960</td>\n",
       "      <td>5000</td>\n",
       "      <td>1.0</td>\n",
       "      <td>0</td>\n",
       "      <td>0</td>\n",
       "      <td>...</td>\n",
       "      <td>7</td>\n",
       "      <td>1050</td>\n",
       "      <td>910</td>\n",
       "      <td>1965</td>\n",
       "      <td>0</td>\n",
       "      <td>98136</td>\n",
       "      <td>47.5208</td>\n",
       "      <td>-122.393</td>\n",
       "      <td>1360</td>\n",
       "      <td>5000</td>\n",
       "    </tr>\n",
       "    <tr>\n",
       "      <th>4</th>\n",
       "      <td>1954400510</td>\n",
       "      <td>20150218T000000</td>\n",
       "      <td>510000.0</td>\n",
       "      <td>3</td>\n",
       "      <td>2.00</td>\n",
       "      <td>1680</td>\n",
       "      <td>8080</td>\n",
       "      <td>1.0</td>\n",
       "      <td>0</td>\n",
       "      <td>0</td>\n",
       "      <td>...</td>\n",
       "      <td>8</td>\n",
       "      <td>1680</td>\n",
       "      <td>0</td>\n",
       "      <td>1987</td>\n",
       "      <td>0</td>\n",
       "      <td>98074</td>\n",
       "      <td>47.6168</td>\n",
       "      <td>-122.045</td>\n",
       "      <td>1800</td>\n",
       "      <td>7503</td>\n",
       "    </tr>\n",
       "    <tr>\n",
       "      <th>...</th>\n",
       "      <td>...</td>\n",
       "      <td>...</td>\n",
       "      <td>...</td>\n",
       "      <td>...</td>\n",
       "      <td>...</td>\n",
       "      <td>...</td>\n",
       "      <td>...</td>\n",
       "      <td>...</td>\n",
       "      <td>...</td>\n",
       "      <td>...</td>\n",
       "      <td>...</td>\n",
       "      <td>...</td>\n",
       "      <td>...</td>\n",
       "      <td>...</td>\n",
       "      <td>...</td>\n",
       "      <td>...</td>\n",
       "      <td>...</td>\n",
       "      <td>...</td>\n",
       "      <td>...</td>\n",
       "      <td>...</td>\n",
       "      <td>...</td>\n",
       "    </tr>\n",
       "    <tr>\n",
       "      <th>21608</th>\n",
       "      <td>263000018</td>\n",
       "      <td>20140521T000000</td>\n",
       "      <td>360000.0</td>\n",
       "      <td>3</td>\n",
       "      <td>2.50</td>\n",
       "      <td>1530</td>\n",
       "      <td>1131</td>\n",
       "      <td>3.0</td>\n",
       "      <td>0</td>\n",
       "      <td>0</td>\n",
       "      <td>...</td>\n",
       "      <td>8</td>\n",
       "      <td>1530</td>\n",
       "      <td>0</td>\n",
       "      <td>2009</td>\n",
       "      <td>0</td>\n",
       "      <td>98103</td>\n",
       "      <td>47.6993</td>\n",
       "      <td>-122.346</td>\n",
       "      <td>1530</td>\n",
       "      <td>1509</td>\n",
       "    </tr>\n",
       "    <tr>\n",
       "      <th>21609</th>\n",
       "      <td>6600060120</td>\n",
       "      <td>20150223T000000</td>\n",
       "      <td>400000.0</td>\n",
       "      <td>4</td>\n",
       "      <td>2.50</td>\n",
       "      <td>2310</td>\n",
       "      <td>5813</td>\n",
       "      <td>2.0</td>\n",
       "      <td>0</td>\n",
       "      <td>0</td>\n",
       "      <td>...</td>\n",
       "      <td>8</td>\n",
       "      <td>2310</td>\n",
       "      <td>0</td>\n",
       "      <td>2014</td>\n",
       "      <td>0</td>\n",
       "      <td>98146</td>\n",
       "      <td>47.5107</td>\n",
       "      <td>-122.362</td>\n",
       "      <td>1830</td>\n",
       "      <td>7200</td>\n",
       "    </tr>\n",
       "    <tr>\n",
       "      <th>21610</th>\n",
       "      <td>1523300141</td>\n",
       "      <td>20140623T000000</td>\n",
       "      <td>402101.0</td>\n",
       "      <td>2</td>\n",
       "      <td>0.75</td>\n",
       "      <td>1020</td>\n",
       "      <td>1350</td>\n",
       "      <td>2.0</td>\n",
       "      <td>0</td>\n",
       "      <td>0</td>\n",
       "      <td>...</td>\n",
       "      <td>7</td>\n",
       "      <td>1020</td>\n",
       "      <td>0</td>\n",
       "      <td>2009</td>\n",
       "      <td>0</td>\n",
       "      <td>98144</td>\n",
       "      <td>47.5944</td>\n",
       "      <td>-122.299</td>\n",
       "      <td>1020</td>\n",
       "      <td>2007</td>\n",
       "    </tr>\n",
       "    <tr>\n",
       "      <th>21611</th>\n",
       "      <td>291310100</td>\n",
       "      <td>20150116T000000</td>\n",
       "      <td>400000.0</td>\n",
       "      <td>3</td>\n",
       "      <td>2.50</td>\n",
       "      <td>1600</td>\n",
       "      <td>2388</td>\n",
       "      <td>2.0</td>\n",
       "      <td>0</td>\n",
       "      <td>0</td>\n",
       "      <td>...</td>\n",
       "      <td>8</td>\n",
       "      <td>1600</td>\n",
       "      <td>0</td>\n",
       "      <td>2004</td>\n",
       "      <td>0</td>\n",
       "      <td>98027</td>\n",
       "      <td>47.5345</td>\n",
       "      <td>-122.069</td>\n",
       "      <td>1410</td>\n",
       "      <td>1287</td>\n",
       "    </tr>\n",
       "    <tr>\n",
       "      <th>21612</th>\n",
       "      <td>1523300157</td>\n",
       "      <td>20141015T000000</td>\n",
       "      <td>325000.0</td>\n",
       "      <td>2</td>\n",
       "      <td>0.75</td>\n",
       "      <td>1020</td>\n",
       "      <td>1076</td>\n",
       "      <td>2.0</td>\n",
       "      <td>0</td>\n",
       "      <td>0</td>\n",
       "      <td>...</td>\n",
       "      <td>7</td>\n",
       "      <td>1020</td>\n",
       "      <td>0</td>\n",
       "      <td>2008</td>\n",
       "      <td>0</td>\n",
       "      <td>98144</td>\n",
       "      <td>47.5941</td>\n",
       "      <td>-122.299</td>\n",
       "      <td>1020</td>\n",
       "      <td>1357</td>\n",
       "    </tr>\n",
       "  </tbody>\n",
       "</table>\n",
       "<p>21613 rows × 21 columns</p>\n",
       "</div>"
      ],
      "text/plain": [
       "               id             date     price  bedrooms  bathrooms  \\\n",
       "0      7129300520  20141013T000000  221900.0         3       1.00   \n",
       "1      6414100192  20141209T000000  538000.0         3       2.25   \n",
       "2      5631500400  20150225T000000  180000.0         2       1.00   \n",
       "3      2487200875  20141209T000000  604000.0         4       3.00   \n",
       "4      1954400510  20150218T000000  510000.0         3       2.00   \n",
       "...           ...              ...       ...       ...        ...   \n",
       "21608   263000018  20140521T000000  360000.0         3       2.50   \n",
       "21609  6600060120  20150223T000000  400000.0         4       2.50   \n",
       "21610  1523300141  20140623T000000  402101.0         2       0.75   \n",
       "21611   291310100  20150116T000000  400000.0         3       2.50   \n",
       "21612  1523300157  20141015T000000  325000.0         2       0.75   \n",
       "\n",
       "       sqft_living  sqft_lot  floors  waterfront  view  ...  grade  \\\n",
       "0             1180      5650     1.0           0     0  ...      7   \n",
       "1             2570      7242     2.0           0     0  ...      7   \n",
       "2              770     10000     1.0           0     0  ...      6   \n",
       "3             1960      5000     1.0           0     0  ...      7   \n",
       "4             1680      8080     1.0           0     0  ...      8   \n",
       "...            ...       ...     ...         ...   ...  ...    ...   \n",
       "21608         1530      1131     3.0           0     0  ...      8   \n",
       "21609         2310      5813     2.0           0     0  ...      8   \n",
       "21610         1020      1350     2.0           0     0  ...      7   \n",
       "21611         1600      2388     2.0           0     0  ...      8   \n",
       "21612         1020      1076     2.0           0     0  ...      7   \n",
       "\n",
       "       sqft_above  sqft_basement  yr_built  yr_renovated  zipcode      lat  \\\n",
       "0            1180              0      1955             0    98178  47.5112   \n",
       "1            2170            400      1951          1991    98125  47.7210   \n",
       "2             770              0      1933             0    98028  47.7379   \n",
       "3            1050            910      1965             0    98136  47.5208   \n",
       "4            1680              0      1987             0    98074  47.6168   \n",
       "...           ...            ...       ...           ...      ...      ...   \n",
       "21608        1530              0      2009             0    98103  47.6993   \n",
       "21609        2310              0      2014             0    98146  47.5107   \n",
       "21610        1020              0      2009             0    98144  47.5944   \n",
       "21611        1600              0      2004             0    98027  47.5345   \n",
       "21612        1020              0      2008             0    98144  47.5941   \n",
       "\n",
       "          long  sqft_living15  sqft_lot15  \n",
       "0     -122.257           1340        5650  \n",
       "1     -122.319           1690        7639  \n",
       "2     -122.233           2720        8062  \n",
       "3     -122.393           1360        5000  \n",
       "4     -122.045           1800        7503  \n",
       "...        ...            ...         ...  \n",
       "21608 -122.346           1530        1509  \n",
       "21609 -122.362           1830        7200  \n",
       "21610 -122.299           1020        2007  \n",
       "21611 -122.069           1410        1287  \n",
       "21612 -122.299           1020        1357  \n",
       "\n",
       "[21613 rows x 21 columns]"
      ]
     },
     "execution_count": 2,
     "metadata": {},
     "output_type": "execute_result"
    }
   ],
   "source": [
    "#importing datasets\n",
    "\n",
    "house = pd.read_csv(\"C:\\\\Users\\\\VALUEDSEED\\\\Downloads\\\\kc_house_data (1).csv\")\n",
    "\n",
    "house"
   ]
  },
  {
   "cell_type": "code",
   "execution_count": 3,
   "id": "b864d8cb-eca5-4750-a62e-b70341fd7cf9",
   "metadata": {},
   "outputs": [
    {
     "data": {
      "text/plain": [
       "id               0\n",
       "date             0\n",
       "price            0\n",
       "bedrooms         0\n",
       "bathrooms        0\n",
       "sqft_living      0\n",
       "sqft_lot         0\n",
       "floors           0\n",
       "waterfront       0\n",
       "view             0\n",
       "condition        0\n",
       "grade            0\n",
       "sqft_above       0\n",
       "sqft_basement    0\n",
       "yr_built         0\n",
       "yr_renovated     0\n",
       "zipcode          0\n",
       "lat              0\n",
       "long             0\n",
       "sqft_living15    0\n",
       "sqft_lot15       0\n",
       "dtype: int64"
      ]
     },
     "execution_count": 3,
     "metadata": {},
     "output_type": "execute_result"
    }
   ],
   "source": [
    "#checking for missing figures\n",
    "\n",
    "house.isnull().sum()"
   ]
  },
  {
   "cell_type": "code",
   "execution_count": 4,
   "id": "b1758760-01a2-4972-a3ab-33343c6deb28",
   "metadata": {},
   "outputs": [
    {
     "data": {
      "text/plain": [
       "2"
      ]
     },
     "execution_count": 4,
     "metadata": {},
     "output_type": "execute_result"
    }
   ],
   "source": [
    "#checking the type of data\n",
    "\n",
    "house[\"waterfront\"].nunique()"
   ]
  },
  {
   "cell_type": "code",
   "execution_count": 5,
   "id": "948008a5-ba6d-43bc-8bbc-b722ab7848d9",
   "metadata": {},
   "outputs": [
    {
     "data": {
      "text/plain": [
       "Index(['id', 'date', 'price', 'bedrooms', 'bathrooms', 'sqft_living',\n",
       "       'sqft_lot', 'floors', 'waterfront', 'view', 'condition', 'grade',\n",
       "       'sqft_above', 'sqft_basement', 'yr_built', 'yr_renovated', 'zipcode',\n",
       "       'lat', 'long', 'sqft_living15', 'sqft_lot15'],\n",
       "      dtype='object')"
      ]
     },
     "execution_count": 5,
     "metadata": {},
     "output_type": "execute_result"
    }
   ],
   "source": [
    "house.columns"
   ]
  },
  {
   "cell_type": "code",
   "execution_count": 6,
   "id": "8a30a02b-95b2-407e-a85d-d370d3cc7c24",
   "metadata": {},
   "outputs": [
    {
     "data": {
      "text/html": [
       "<div>\n",
       "<style scoped>\n",
       "    .dataframe tbody tr th:only-of-type {\n",
       "        vertical-align: middle;\n",
       "    }\n",
       "\n",
       "    .dataframe tbody tr th {\n",
       "        vertical-align: top;\n",
       "    }\n",
       "\n",
       "    .dataframe thead th {\n",
       "        text-align: right;\n",
       "    }\n",
       "</style>\n",
       "<table border=\"1\" class=\"dataframe\">\n",
       "  <thead>\n",
       "    <tr style=\"text-align: right;\">\n",
       "      <th></th>\n",
       "      <th>bedrooms</th>\n",
       "      <th>bathrooms</th>\n",
       "      <th>sqft_living</th>\n",
       "      <th>sqft_lot</th>\n",
       "      <th>floors</th>\n",
       "      <th>waterfront</th>\n",
       "      <th>view</th>\n",
       "      <th>condition</th>\n",
       "      <th>grade</th>\n",
       "      <th>sqft_above</th>\n",
       "      <th>sqft_basement</th>\n",
       "      <th>yr_built</th>\n",
       "      <th>yr_renovated</th>\n",
       "      <th>lat</th>\n",
       "      <th>long</th>\n",
       "      <th>sqft_living15</th>\n",
       "      <th>sqft_lot15</th>\n",
       "      <th>price</th>\n",
       "    </tr>\n",
       "  </thead>\n",
       "  <tbody>\n",
       "    <tr>\n",
       "      <th>0</th>\n",
       "      <td>3</td>\n",
       "      <td>1.00</td>\n",
       "      <td>1180</td>\n",
       "      <td>5650</td>\n",
       "      <td>1.0</td>\n",
       "      <td>0</td>\n",
       "      <td>0</td>\n",
       "      <td>3</td>\n",
       "      <td>7</td>\n",
       "      <td>1180</td>\n",
       "      <td>0</td>\n",
       "      <td>1955</td>\n",
       "      <td>0</td>\n",
       "      <td>47.5112</td>\n",
       "      <td>-122.257</td>\n",
       "      <td>1340</td>\n",
       "      <td>5650</td>\n",
       "      <td>221900.0</td>\n",
       "    </tr>\n",
       "    <tr>\n",
       "      <th>1</th>\n",
       "      <td>3</td>\n",
       "      <td>2.25</td>\n",
       "      <td>2570</td>\n",
       "      <td>7242</td>\n",
       "      <td>2.0</td>\n",
       "      <td>0</td>\n",
       "      <td>0</td>\n",
       "      <td>3</td>\n",
       "      <td>7</td>\n",
       "      <td>2170</td>\n",
       "      <td>400</td>\n",
       "      <td>1951</td>\n",
       "      <td>1991</td>\n",
       "      <td>47.7210</td>\n",
       "      <td>-122.319</td>\n",
       "      <td>1690</td>\n",
       "      <td>7639</td>\n",
       "      <td>538000.0</td>\n",
       "    </tr>\n",
       "    <tr>\n",
       "      <th>2</th>\n",
       "      <td>2</td>\n",
       "      <td>1.00</td>\n",
       "      <td>770</td>\n",
       "      <td>10000</td>\n",
       "      <td>1.0</td>\n",
       "      <td>0</td>\n",
       "      <td>0</td>\n",
       "      <td>3</td>\n",
       "      <td>6</td>\n",
       "      <td>770</td>\n",
       "      <td>0</td>\n",
       "      <td>1933</td>\n",
       "      <td>0</td>\n",
       "      <td>47.7379</td>\n",
       "      <td>-122.233</td>\n",
       "      <td>2720</td>\n",
       "      <td>8062</td>\n",
       "      <td>180000.0</td>\n",
       "    </tr>\n",
       "    <tr>\n",
       "      <th>3</th>\n",
       "      <td>4</td>\n",
       "      <td>3.00</td>\n",
       "      <td>1960</td>\n",
       "      <td>5000</td>\n",
       "      <td>1.0</td>\n",
       "      <td>0</td>\n",
       "      <td>0</td>\n",
       "      <td>5</td>\n",
       "      <td>7</td>\n",
       "      <td>1050</td>\n",
       "      <td>910</td>\n",
       "      <td>1965</td>\n",
       "      <td>0</td>\n",
       "      <td>47.5208</td>\n",
       "      <td>-122.393</td>\n",
       "      <td>1360</td>\n",
       "      <td>5000</td>\n",
       "      <td>604000.0</td>\n",
       "    </tr>\n",
       "    <tr>\n",
       "      <th>4</th>\n",
       "      <td>3</td>\n",
       "      <td>2.00</td>\n",
       "      <td>1680</td>\n",
       "      <td>8080</td>\n",
       "      <td>1.0</td>\n",
       "      <td>0</td>\n",
       "      <td>0</td>\n",
       "      <td>3</td>\n",
       "      <td>8</td>\n",
       "      <td>1680</td>\n",
       "      <td>0</td>\n",
       "      <td>1987</td>\n",
       "      <td>0</td>\n",
       "      <td>47.6168</td>\n",
       "      <td>-122.045</td>\n",
       "      <td>1800</td>\n",
       "      <td>7503</td>\n",
       "      <td>510000.0</td>\n",
       "    </tr>\n",
       "    <tr>\n",
       "      <th>...</th>\n",
       "      <td>...</td>\n",
       "      <td>...</td>\n",
       "      <td>...</td>\n",
       "      <td>...</td>\n",
       "      <td>...</td>\n",
       "      <td>...</td>\n",
       "      <td>...</td>\n",
       "      <td>...</td>\n",
       "      <td>...</td>\n",
       "      <td>...</td>\n",
       "      <td>...</td>\n",
       "      <td>...</td>\n",
       "      <td>...</td>\n",
       "      <td>...</td>\n",
       "      <td>...</td>\n",
       "      <td>...</td>\n",
       "      <td>...</td>\n",
       "      <td>...</td>\n",
       "    </tr>\n",
       "    <tr>\n",
       "      <th>21608</th>\n",
       "      <td>3</td>\n",
       "      <td>2.50</td>\n",
       "      <td>1530</td>\n",
       "      <td>1131</td>\n",
       "      <td>3.0</td>\n",
       "      <td>0</td>\n",
       "      <td>0</td>\n",
       "      <td>3</td>\n",
       "      <td>8</td>\n",
       "      <td>1530</td>\n",
       "      <td>0</td>\n",
       "      <td>2009</td>\n",
       "      <td>0</td>\n",
       "      <td>47.6993</td>\n",
       "      <td>-122.346</td>\n",
       "      <td>1530</td>\n",
       "      <td>1509</td>\n",
       "      <td>360000.0</td>\n",
       "    </tr>\n",
       "    <tr>\n",
       "      <th>21609</th>\n",
       "      <td>4</td>\n",
       "      <td>2.50</td>\n",
       "      <td>2310</td>\n",
       "      <td>5813</td>\n",
       "      <td>2.0</td>\n",
       "      <td>0</td>\n",
       "      <td>0</td>\n",
       "      <td>3</td>\n",
       "      <td>8</td>\n",
       "      <td>2310</td>\n",
       "      <td>0</td>\n",
       "      <td>2014</td>\n",
       "      <td>0</td>\n",
       "      <td>47.5107</td>\n",
       "      <td>-122.362</td>\n",
       "      <td>1830</td>\n",
       "      <td>7200</td>\n",
       "      <td>400000.0</td>\n",
       "    </tr>\n",
       "    <tr>\n",
       "      <th>21610</th>\n",
       "      <td>2</td>\n",
       "      <td>0.75</td>\n",
       "      <td>1020</td>\n",
       "      <td>1350</td>\n",
       "      <td>2.0</td>\n",
       "      <td>0</td>\n",
       "      <td>0</td>\n",
       "      <td>3</td>\n",
       "      <td>7</td>\n",
       "      <td>1020</td>\n",
       "      <td>0</td>\n",
       "      <td>2009</td>\n",
       "      <td>0</td>\n",
       "      <td>47.5944</td>\n",
       "      <td>-122.299</td>\n",
       "      <td>1020</td>\n",
       "      <td>2007</td>\n",
       "      <td>402101.0</td>\n",
       "    </tr>\n",
       "    <tr>\n",
       "      <th>21611</th>\n",
       "      <td>3</td>\n",
       "      <td>2.50</td>\n",
       "      <td>1600</td>\n",
       "      <td>2388</td>\n",
       "      <td>2.0</td>\n",
       "      <td>0</td>\n",
       "      <td>0</td>\n",
       "      <td>3</td>\n",
       "      <td>8</td>\n",
       "      <td>1600</td>\n",
       "      <td>0</td>\n",
       "      <td>2004</td>\n",
       "      <td>0</td>\n",
       "      <td>47.5345</td>\n",
       "      <td>-122.069</td>\n",
       "      <td>1410</td>\n",
       "      <td>1287</td>\n",
       "      <td>400000.0</td>\n",
       "    </tr>\n",
       "    <tr>\n",
       "      <th>21612</th>\n",
       "      <td>2</td>\n",
       "      <td>0.75</td>\n",
       "      <td>1020</td>\n",
       "      <td>1076</td>\n",
       "      <td>2.0</td>\n",
       "      <td>0</td>\n",
       "      <td>0</td>\n",
       "      <td>3</td>\n",
       "      <td>7</td>\n",
       "      <td>1020</td>\n",
       "      <td>0</td>\n",
       "      <td>2008</td>\n",
       "      <td>0</td>\n",
       "      <td>47.5941</td>\n",
       "      <td>-122.299</td>\n",
       "      <td>1020</td>\n",
       "      <td>1357</td>\n",
       "      <td>325000.0</td>\n",
       "    </tr>\n",
       "  </tbody>\n",
       "</table>\n",
       "<p>21613 rows × 18 columns</p>\n",
       "</div>"
      ],
      "text/plain": [
       "       bedrooms  bathrooms  sqft_living  sqft_lot  floors  waterfront  view  \\\n",
       "0             3       1.00         1180      5650     1.0           0     0   \n",
       "1             3       2.25         2570      7242     2.0           0     0   \n",
       "2             2       1.00          770     10000     1.0           0     0   \n",
       "3             4       3.00         1960      5000     1.0           0     0   \n",
       "4             3       2.00         1680      8080     1.0           0     0   \n",
       "...         ...        ...          ...       ...     ...         ...   ...   \n",
       "21608         3       2.50         1530      1131     3.0           0     0   \n",
       "21609         4       2.50         2310      5813     2.0           0     0   \n",
       "21610         2       0.75         1020      1350     2.0           0     0   \n",
       "21611         3       2.50         1600      2388     2.0           0     0   \n",
       "21612         2       0.75         1020      1076     2.0           0     0   \n",
       "\n",
       "       condition  grade  sqft_above  sqft_basement  yr_built  yr_renovated  \\\n",
       "0              3      7        1180              0      1955             0   \n",
       "1              3      7        2170            400      1951          1991   \n",
       "2              3      6         770              0      1933             0   \n",
       "3              5      7        1050            910      1965             0   \n",
       "4              3      8        1680              0      1987             0   \n",
       "...          ...    ...         ...            ...       ...           ...   \n",
       "21608          3      8        1530              0      2009             0   \n",
       "21609          3      8        2310              0      2014             0   \n",
       "21610          3      7        1020              0      2009             0   \n",
       "21611          3      8        1600              0      2004             0   \n",
       "21612          3      7        1020              0      2008             0   \n",
       "\n",
       "           lat     long  sqft_living15  sqft_lot15     price  \n",
       "0      47.5112 -122.257           1340        5650  221900.0  \n",
       "1      47.7210 -122.319           1690        7639  538000.0  \n",
       "2      47.7379 -122.233           2720        8062  180000.0  \n",
       "3      47.5208 -122.393           1360        5000  604000.0  \n",
       "4      47.6168 -122.045           1800        7503  510000.0  \n",
       "...        ...      ...            ...         ...       ...  \n",
       "21608  47.6993 -122.346           1530        1509  360000.0  \n",
       "21609  47.5107 -122.362           1830        7200  400000.0  \n",
       "21610  47.5944 -122.299           1020        2007  402101.0  \n",
       "21611  47.5345 -122.069           1410        1287  400000.0  \n",
       "21612  47.5941 -122.299           1020        1357  325000.0  \n",
       "\n",
       "[21613 rows x 18 columns]"
      ]
     },
     "execution_count": 6,
     "metadata": {},
     "output_type": "execute_result"
    }
   ],
   "source": [
    "Sam_ft = house[[\"bedrooms\", \"bathrooms\", \"sqft_living\", \"sqft_lot\", \"floors\", \"waterfront\", \"view\", \n",
    "                \"condition\", \"grade\", \"sqft_above\", \"sqft_basement\", \"yr_built\", \"yr_renovated\", \"lat\", \n",
    "                \"long\", \"sqft_living15\", \"sqft_lot15\", \"price\"]]\n",
    "\n",
    "Sam_ft"
   ]
  },
  {
   "cell_type": "code",
   "execution_count": 7,
   "id": "ecfc4e87-9d35-4a2c-a1e5-eb6aecf2c788",
   "metadata": {},
   "outputs": [
    {
     "data": {
      "text/plain": [
       "1038"
      ]
     },
     "execution_count": 7,
     "metadata": {},
     "output_type": "execute_result"
    }
   ],
   "source": [
    "Sam_ft[\"sqft_living\"].nunique()"
   ]
  },
  {
   "cell_type": "code",
   "execution_count": 8,
   "id": "e880f6c0-d1ee-406d-9dae-bf62128d8c4c",
   "metadata": {},
   "outputs": [
    {
     "data": {
      "text/plain": [
       "9782"
      ]
     },
     "execution_count": 8,
     "metadata": {},
     "output_type": "execute_result"
    }
   ],
   "source": [
    "house[\"sqft_lot\"].nunique()"
   ]
  },
  {
   "cell_type": "code",
   "execution_count": 9,
   "id": "03ad21ce-b6db-455a-95f4-6a963ae743f2",
   "metadata": {},
   "outputs": [
    {
     "data": {
      "text/plain": [
       "bedrooms           13\n",
       "bathrooms          30\n",
       "sqft_living      1038\n",
       "sqft_lot         9782\n",
       "floors              6\n",
       "waterfront          2\n",
       "view                5\n",
       "condition           5\n",
       "grade              12\n",
       "sqft_above        946\n",
       "sqft_basement     306\n",
       "yr_built          116\n",
       "yr_renovated       70\n",
       "lat              5034\n",
       "long              752\n",
       "sqft_living15     777\n",
       "sqft_lot15       8689\n",
       "price            4028\n",
       "dtype: int64"
      ]
     },
     "execution_count": 9,
     "metadata": {},
     "output_type": "execute_result"
    }
   ],
   "source": [
    "house[[\"bedrooms\", \"bathrooms\", \"sqft_living\", \"sqft_lot\", \"floors\", \"waterfront\", \"view\", \"condition\", \"grade\", \"sqft_above\", \"sqft_basement\", \"yr_built\", \"yr_renovated\", \"lat\", \"long\", \"sqft_living15\", \"sqft_lot15\", \"price\"]].nunique()"
   ]
  },
  {
   "cell_type": "markdown",
   "id": "1a209d71-bb4a-4863-8616-e46fe85d6cbf",
   "metadata": {},
   "source": [
    "bedrooms           Categorical\n",
    "bathrooms          Categorical\n",
    "sqft_living        Numerical\n",
    "sqft_lot           Numerical\n",
    "floors             Categorical\n",
    "waterfront         Categorical\n",
    "view               Categorical\n",
    "condition          Categorical\n",
    "grade              Categorical\n",
    "sqft_above         Numerical\n",
    "sqft_basement      Numerical\n",
    "yr_built           Categorical\n",
    "yr_renovated       Categorical\n",
    "lat                Numerical\n",
    "long               Numerical\n",
    "sqft_living15      Numericalbedrooms           13\n",
    "bathrooms          30\n",
    "sqft_living      1038\n",
    "sqft_lot         9782\n",
    "floors              6\n",
    "waterfront          2\n",
    "view                5\n",
    "condition           5\n",
    "grade              12\n",
    "sqft_above        946\n",
    "sqft_basement     306\n",
    "yr_built          116\n",
    "yr_renovated       70\n",
    "lat              5034\n",
    "long              752\n",
    "sqft_living15     777\n",
    "sqft_lot15       8689\n",
    "price            4028\n",
    "sqft_lot15         Numerical\n",
    "price              Categorical"
   ]
  },
  {
   "cell_type": "code",
   "execution_count": 10,
   "id": "4cc61bba-2e23-4b93-b76a-3ca0dddd04b7",
   "metadata": {},
   "outputs": [],
   "source": [
    "#splitting out data into train and test split\n",
    "\n",
    "x = house[[\"bedrooms\", \"bathrooms\", \"sqft_living\", \"sqft_lot\", \"floors\", \"waterfront\", \n",
    "           \"view\", \"condition\", \"grade\", \"sqft_above\", \"sqft_basement\", \"yr_built\", \"yr_renovated\", \n",
    "           \"lat\", \"long\", \"sqft_living15\", \"sqft_lot15\", \"price\"]]\n",
    "\n",
    "y = house[\"price\"]\n",
    "\n"
   ]
  },
  {
   "cell_type": "code",
   "execution_count": 11,
   "id": "bbe4c6ad-da6e-40ff-9af6-1c94ac58fcb5",
   "metadata": {},
   "outputs": [
    {
     "data": {
      "text/plain": [
       "array([221900., 538000., 180000., ..., 402101., 400000., 325000.])"
      ]
     },
     "execution_count": 11,
     "metadata": {},
     "output_type": "execute_result"
    }
   ],
   "source": [
    "np.array(x)\n",
    "np.array(y)"
   ]
  },
  {
   "cell_type": "code",
   "execution_count": 12,
   "id": "ed00e82c-9847-4272-98a2-bdb002001a52",
   "metadata": {},
   "outputs": [],
   "source": [
    "x_train, x_test, y_train, y_test = train_test_split(x,y, test_size = 0.2 )"
   ]
  },
  {
   "cell_type": "code",
   "execution_count": 13,
   "id": "e301a0e5-d7c3-4892-90e9-282b7d9a0d88",
   "metadata": {},
   "outputs": [
    {
     "data": {
      "text/plain": [
       "array([[-0.39873715, -1.44746357, -0.97983502, ..., -0.9433552 ,\n",
       "        -0.26071541, -0.86671733],\n",
       "       [-0.39873715,  0.1756067 ,  0.53363434, ..., -0.43268619,\n",
       "        -0.18786773, -0.00568792],\n",
       "       [-1.47395936, -1.44746357, -1.42625404, ...,  1.07013975,\n",
       "        -0.17237524, -0.98084935],\n",
       "       ...,\n",
       "       [-1.47395936, -1.77207762, -1.15404732, ..., -1.41025258,\n",
       "        -0.39414129, -0.37586519],\n",
       "       [-0.39873715,  0.50022075, -0.52252773, ..., -0.8412214 ,\n",
       "        -0.42051149, -0.38158814],\n",
       "       [-1.47395936, -1.77207762, -1.15404732, ..., -1.41025258,\n",
       "        -0.41794772, -0.58588173]])"
      ]
     },
     "execution_count": 13,
     "metadata": {},
     "output_type": "execute_result"
    }
   ],
   "source": [
    "sc = StandardScaler()\n",
    "\n",
    "trans = sc.fit_transform(x)\n",
    "\n",
    "trans"
   ]
  },
  {
   "cell_type": "code",
   "execution_count": 14,
   "id": "67199adc-279d-415a-8381-2a1736e5751a",
   "metadata": {},
   "outputs": [
    {
     "data": {
      "text/plain": [
       "array([[-0.39873715, -1.44746357, -0.97983502, ..., -0.9433552 ,\n",
       "        -0.26071541, -0.86671733],\n",
       "       [-0.39873715,  0.1756067 ,  0.53363434, ..., -0.43268619,\n",
       "        -0.18786773, -0.00568792],\n",
       "       [-1.47395936, -1.44746357, -1.42625404, ...,  1.07013975,\n",
       "        -0.17237524, -0.98084935],\n",
       "       ...,\n",
       "       [-1.47395936, -1.77207762, -1.15404732, ..., -1.41025258,\n",
       "        -0.39414129, -0.37586519],\n",
       "       [-0.39873715,  0.50022075, -0.52252773, ..., -0.8412214 ,\n",
       "        -0.42051149, -0.38158814],\n",
       "       [-1.47395936, -1.77207762, -1.15404732, ..., -1.41025258,\n",
       "        -0.41794772, -0.58588173]])"
      ]
     },
     "execution_count": 14,
     "metadata": {},
     "output_type": "execute_result"
    }
   ],
   "source": [
    "sc = StandardScaler()\n",
    "trans1 = sc.fit_transform(Sam_ft)\n",
    "\n",
    "trans1"
   ]
  },
  {
   "cell_type": "code",
   "execution_count": 15,
   "id": "f56169f1-3e1d-4359-8e92-4b9c26669256",
   "metadata": {},
   "outputs": [
    {
     "data": {
      "text/html": [
       "<div>\n",
       "<style scoped>\n",
       "    .dataframe tbody tr th:only-of-type {\n",
       "        vertical-align: middle;\n",
       "    }\n",
       "\n",
       "    .dataframe tbody tr th {\n",
       "        vertical-align: top;\n",
       "    }\n",
       "\n",
       "    .dataframe thead th {\n",
       "        text-align: right;\n",
       "    }\n",
       "</style>\n",
       "<table border=\"1\" class=\"dataframe\">\n",
       "  <thead>\n",
       "    <tr style=\"text-align: right;\">\n",
       "      <th></th>\n",
       "      <th>0</th>\n",
       "      <th>1</th>\n",
       "      <th>2</th>\n",
       "      <th>3</th>\n",
       "      <th>4</th>\n",
       "      <th>5</th>\n",
       "      <th>6</th>\n",
       "      <th>7</th>\n",
       "      <th>8</th>\n",
       "      <th>9</th>\n",
       "      <th>10</th>\n",
       "      <th>11</th>\n",
       "      <th>12</th>\n",
       "      <th>13</th>\n",
       "      <th>14</th>\n",
       "      <th>15</th>\n",
       "      <th>16</th>\n",
       "      <th>17</th>\n",
       "    </tr>\n",
       "  </thead>\n",
       "  <tbody>\n",
       "    <tr>\n",
       "      <th>0</th>\n",
       "      <td>-0.398737</td>\n",
       "      <td>-1.447464</td>\n",
       "      <td>-0.979835</td>\n",
       "      <td>-0.228321</td>\n",
       "      <td>-0.915427</td>\n",
       "      <td>-0.087173</td>\n",
       "      <td>-0.305759</td>\n",
       "      <td>-0.629187</td>\n",
       "      <td>-0.558836</td>\n",
       "      <td>-0.734708</td>\n",
       "      <td>-0.658681</td>\n",
       "      <td>-0.544898</td>\n",
       "      <td>-0.210128</td>\n",
       "      <td>-0.352572</td>\n",
       "      <td>-0.306079</td>\n",
       "      <td>-0.943355</td>\n",
       "      <td>-0.260715</td>\n",
       "      <td>-0.866717</td>\n",
       "    </tr>\n",
       "    <tr>\n",
       "      <th>1</th>\n",
       "      <td>-0.398737</td>\n",
       "      <td>0.175607</td>\n",
       "      <td>0.533634</td>\n",
       "      <td>-0.189885</td>\n",
       "      <td>0.936506</td>\n",
       "      <td>-0.087173</td>\n",
       "      <td>-0.305759</td>\n",
       "      <td>-0.629187</td>\n",
       "      <td>-0.558836</td>\n",
       "      <td>0.460841</td>\n",
       "      <td>0.245141</td>\n",
       "      <td>-0.681079</td>\n",
       "      <td>4.746678</td>\n",
       "      <td>1.161568</td>\n",
       "      <td>-0.746341</td>\n",
       "      <td>-0.432686</td>\n",
       "      <td>-0.187868</td>\n",
       "      <td>-0.005688</td>\n",
       "    </tr>\n",
       "    <tr>\n",
       "      <th>2</th>\n",
       "      <td>-1.473959</td>\n",
       "      <td>-1.447464</td>\n",
       "      <td>-1.426254</td>\n",
       "      <td>-0.123298</td>\n",
       "      <td>-0.915427</td>\n",
       "      <td>-0.087173</td>\n",
       "      <td>-0.305759</td>\n",
       "      <td>-0.629187</td>\n",
       "      <td>-1.409587</td>\n",
       "      <td>-1.229834</td>\n",
       "      <td>-0.658681</td>\n",
       "      <td>-1.293892</td>\n",
       "      <td>-0.210128</td>\n",
       "      <td>1.283537</td>\n",
       "      <td>-0.135655</td>\n",
       "      <td>1.070140</td>\n",
       "      <td>-0.172375</td>\n",
       "      <td>-0.980849</td>\n",
       "    </tr>\n",
       "    <tr>\n",
       "      <th>3</th>\n",
       "      <td>0.676485</td>\n",
       "      <td>1.149449</td>\n",
       "      <td>-0.130550</td>\n",
       "      <td>-0.244014</td>\n",
       "      <td>-0.915427</td>\n",
       "      <td>-0.087173</td>\n",
       "      <td>-0.305759</td>\n",
       "      <td>2.444294</td>\n",
       "      <td>-0.558836</td>\n",
       "      <td>-0.891699</td>\n",
       "      <td>1.397515</td>\n",
       "      <td>-0.204446</td>\n",
       "      <td>-0.210128</td>\n",
       "      <td>-0.283288</td>\n",
       "      <td>-1.271816</td>\n",
       "      <td>-0.914174</td>\n",
       "      <td>-0.284522</td>\n",
       "      <td>0.174090</td>\n",
       "    </tr>\n",
       "    <tr>\n",
       "      <th>4</th>\n",
       "      <td>-0.398737</td>\n",
       "      <td>-0.149007</td>\n",
       "      <td>-0.435422</td>\n",
       "      <td>-0.169653</td>\n",
       "      <td>-0.915427</td>\n",
       "      <td>-0.087173</td>\n",
       "      <td>-0.305759</td>\n",
       "      <td>-0.629187</td>\n",
       "      <td>0.291916</td>\n",
       "      <td>-0.130895</td>\n",
       "      <td>-0.658681</td>\n",
       "      <td>0.544548</td>\n",
       "      <td>-0.210128</td>\n",
       "      <td>0.409550</td>\n",
       "      <td>1.199335</td>\n",
       "      <td>-0.272190</td>\n",
       "      <td>-0.192849</td>\n",
       "      <td>-0.081958</td>\n",
       "    </tr>\n",
       "    <tr>\n",
       "      <th>...</th>\n",
       "      <td>...</td>\n",
       "      <td>...</td>\n",
       "      <td>...</td>\n",
       "      <td>...</td>\n",
       "      <td>...</td>\n",
       "      <td>...</td>\n",
       "      <td>...</td>\n",
       "      <td>...</td>\n",
       "      <td>...</td>\n",
       "      <td>...</td>\n",
       "      <td>...</td>\n",
       "      <td>...</td>\n",
       "      <td>...</td>\n",
       "      <td>...</td>\n",
       "      <td>...</td>\n",
       "      <td>...</td>\n",
       "      <td>...</td>\n",
       "      <td>...</td>\n",
       "    </tr>\n",
       "    <tr>\n",
       "      <th>21608</th>\n",
       "      <td>-0.398737</td>\n",
       "      <td>0.500221</td>\n",
       "      <td>-0.598746</td>\n",
       "      <td>-0.337424</td>\n",
       "      <td>2.788439</td>\n",
       "      <td>-0.087173</td>\n",
       "      <td>-0.305759</td>\n",
       "      <td>-0.629187</td>\n",
       "      <td>0.291916</td>\n",
       "      <td>-0.312039</td>\n",
       "      <td>-0.658681</td>\n",
       "      <td>1.293542</td>\n",
       "      <td>-0.210128</td>\n",
       "      <td>1.004958</td>\n",
       "      <td>-0.938069</td>\n",
       "      <td>-0.666135</td>\n",
       "      <td>-0.412381</td>\n",
       "      <td>-0.490545</td>\n",
       "    </tr>\n",
       "    <tr>\n",
       "      <th>21609</th>\n",
       "      <td>0.676485</td>\n",
       "      <td>0.500221</td>\n",
       "      <td>0.250539</td>\n",
       "      <td>-0.224386</td>\n",
       "      <td>0.936506</td>\n",
       "      <td>-0.087173</td>\n",
       "      <td>-0.305759</td>\n",
       "      <td>-0.629187</td>\n",
       "      <td>0.291916</td>\n",
       "      <td>0.629908</td>\n",
       "      <td>-0.658681</td>\n",
       "      <td>1.463768</td>\n",
       "      <td>-0.210128</td>\n",
       "      <td>-0.356180</td>\n",
       "      <td>-1.051685</td>\n",
       "      <td>-0.228419</td>\n",
       "      <td>-0.203946</td>\n",
       "      <td>-0.381588</td>\n",
       "    </tr>\n",
       "    <tr>\n",
       "      <th>21610</th>\n",
       "      <td>-1.473959</td>\n",
       "      <td>-1.772078</td>\n",
       "      <td>-1.154047</td>\n",
       "      <td>-0.332137</td>\n",
       "      <td>0.936506</td>\n",
       "      <td>-0.087173</td>\n",
       "      <td>-0.305759</td>\n",
       "      <td>-0.629187</td>\n",
       "      <td>-0.558836</td>\n",
       "      <td>-0.927928</td>\n",
       "      <td>-0.658681</td>\n",
       "      <td>1.293542</td>\n",
       "      <td>-0.210128</td>\n",
       "      <td>0.247888</td>\n",
       "      <td>-0.604321</td>\n",
       "      <td>-1.410253</td>\n",
       "      <td>-0.394141</td>\n",
       "      <td>-0.375865</td>\n",
       "    </tr>\n",
       "    <tr>\n",
       "      <th>21611</th>\n",
       "      <td>-0.398737</td>\n",
       "      <td>0.500221</td>\n",
       "      <td>-0.522528</td>\n",
       "      <td>-0.307076</td>\n",
       "      <td>0.936506</td>\n",
       "      <td>-0.087173</td>\n",
       "      <td>-0.305759</td>\n",
       "      <td>-0.629187</td>\n",
       "      <td>0.291916</td>\n",
       "      <td>-0.227505</td>\n",
       "      <td>-0.658681</td>\n",
       "      <td>1.123316</td>\n",
       "      <td>-0.210128</td>\n",
       "      <td>-0.184414</td>\n",
       "      <td>1.028910</td>\n",
       "      <td>-0.841221</td>\n",
       "      <td>-0.420511</td>\n",
       "      <td>-0.381588</td>\n",
       "    </tr>\n",
       "    <tr>\n",
       "      <th>21612</th>\n",
       "      <td>-1.473959</td>\n",
       "      <td>-1.772078</td>\n",
       "      <td>-1.154047</td>\n",
       "      <td>-0.338752</td>\n",
       "      <td>0.936506</td>\n",
       "      <td>-0.087173</td>\n",
       "      <td>-0.305759</td>\n",
       "      <td>-0.629187</td>\n",
       "      <td>-0.558836</td>\n",
       "      <td>-0.927928</td>\n",
       "      <td>-0.658681</td>\n",
       "      <td>1.259497</td>\n",
       "      <td>-0.210128</td>\n",
       "      <td>0.245723</td>\n",
       "      <td>-0.604321</td>\n",
       "      <td>-1.410253</td>\n",
       "      <td>-0.417948</td>\n",
       "      <td>-0.585882</td>\n",
       "    </tr>\n",
       "  </tbody>\n",
       "</table>\n",
       "<p>21613 rows × 18 columns</p>\n",
       "</div>"
      ],
      "text/plain": [
       "             0         1         2         3         4         5         6   \\\n",
       "0     -0.398737 -1.447464 -0.979835 -0.228321 -0.915427 -0.087173 -0.305759   \n",
       "1     -0.398737  0.175607  0.533634 -0.189885  0.936506 -0.087173 -0.305759   \n",
       "2     -1.473959 -1.447464 -1.426254 -0.123298 -0.915427 -0.087173 -0.305759   \n",
       "3      0.676485  1.149449 -0.130550 -0.244014 -0.915427 -0.087173 -0.305759   \n",
       "4     -0.398737 -0.149007 -0.435422 -0.169653 -0.915427 -0.087173 -0.305759   \n",
       "...         ...       ...       ...       ...       ...       ...       ...   \n",
       "21608 -0.398737  0.500221 -0.598746 -0.337424  2.788439 -0.087173 -0.305759   \n",
       "21609  0.676485  0.500221  0.250539 -0.224386  0.936506 -0.087173 -0.305759   \n",
       "21610 -1.473959 -1.772078 -1.154047 -0.332137  0.936506 -0.087173 -0.305759   \n",
       "21611 -0.398737  0.500221 -0.522528 -0.307076  0.936506 -0.087173 -0.305759   \n",
       "21612 -1.473959 -1.772078 -1.154047 -0.338752  0.936506 -0.087173 -0.305759   \n",
       "\n",
       "             7         8         9         10        11        12        13  \\\n",
       "0     -0.629187 -0.558836 -0.734708 -0.658681 -0.544898 -0.210128 -0.352572   \n",
       "1     -0.629187 -0.558836  0.460841  0.245141 -0.681079  4.746678  1.161568   \n",
       "2     -0.629187 -1.409587 -1.229834 -0.658681 -1.293892 -0.210128  1.283537   \n",
       "3      2.444294 -0.558836 -0.891699  1.397515 -0.204446 -0.210128 -0.283288   \n",
       "4     -0.629187  0.291916 -0.130895 -0.658681  0.544548 -0.210128  0.409550   \n",
       "...         ...       ...       ...       ...       ...       ...       ...   \n",
       "21608 -0.629187  0.291916 -0.312039 -0.658681  1.293542 -0.210128  1.004958   \n",
       "21609 -0.629187  0.291916  0.629908 -0.658681  1.463768 -0.210128 -0.356180   \n",
       "21610 -0.629187 -0.558836 -0.927928 -0.658681  1.293542 -0.210128  0.247888   \n",
       "21611 -0.629187  0.291916 -0.227505 -0.658681  1.123316 -0.210128 -0.184414   \n",
       "21612 -0.629187 -0.558836 -0.927928 -0.658681  1.259497 -0.210128  0.245723   \n",
       "\n",
       "             14        15        16        17  \n",
       "0     -0.306079 -0.943355 -0.260715 -0.866717  \n",
       "1     -0.746341 -0.432686 -0.187868 -0.005688  \n",
       "2     -0.135655  1.070140 -0.172375 -0.980849  \n",
       "3     -1.271816 -0.914174 -0.284522  0.174090  \n",
       "4      1.199335 -0.272190 -0.192849 -0.081958  \n",
       "...         ...       ...       ...       ...  \n",
       "21608 -0.938069 -0.666135 -0.412381 -0.490545  \n",
       "21609 -1.051685 -0.228419 -0.203946 -0.381588  \n",
       "21610 -0.604321 -1.410253 -0.394141 -0.375865  \n",
       "21611  1.028910 -0.841221 -0.420511 -0.381588  \n",
       "21612 -0.604321 -1.410253 -0.417948 -0.585882  \n",
       "\n",
       "[21613 rows x 18 columns]"
      ]
     },
     "execution_count": 15,
     "metadata": {},
     "output_type": "execute_result"
    }
   ],
   "source": [
    "sam = pd.DataFrame(trans1)\n",
    "\n",
    "sam"
   ]
  },
  {
   "cell_type": "code",
   "execution_count": 16,
   "id": "80b68746-8769-4fd5-9da5-fd8f58879258",
   "metadata": {},
   "outputs": [
    {
     "data": {
      "text/html": [
       "<div>\n",
       "<style scoped>\n",
       "    .dataframe tbody tr th:only-of-type {\n",
       "        vertical-align: middle;\n",
       "    }\n",
       "\n",
       "    .dataframe tbody tr th {\n",
       "        vertical-align: top;\n",
       "    }\n",
       "\n",
       "    .dataframe thead th {\n",
       "        text-align: right;\n",
       "    }\n",
       "</style>\n",
       "<table border=\"1\" class=\"dataframe\">\n",
       "  <thead>\n",
       "    <tr style=\"text-align: right;\">\n",
       "      <th></th>\n",
       "      <th>0</th>\n",
       "    </tr>\n",
       "  </thead>\n",
       "  <tbody>\n",
       "    <tr>\n",
       "      <th>0</th>\n",
       "      <td>-0.866717</td>\n",
       "    </tr>\n",
       "    <tr>\n",
       "      <th>1</th>\n",
       "      <td>-0.005688</td>\n",
       "    </tr>\n",
       "    <tr>\n",
       "      <th>2</th>\n",
       "      <td>-0.980849</td>\n",
       "    </tr>\n",
       "    <tr>\n",
       "      <th>3</th>\n",
       "      <td>0.174090</td>\n",
       "    </tr>\n",
       "    <tr>\n",
       "      <th>4</th>\n",
       "      <td>-0.081958</td>\n",
       "    </tr>\n",
       "    <tr>\n",
       "      <th>...</th>\n",
       "      <td>...</td>\n",
       "    </tr>\n",
       "    <tr>\n",
       "      <th>21608</th>\n",
       "      <td>-0.490545</td>\n",
       "    </tr>\n",
       "    <tr>\n",
       "      <th>21609</th>\n",
       "      <td>-0.381588</td>\n",
       "    </tr>\n",
       "    <tr>\n",
       "      <th>21610</th>\n",
       "      <td>-0.375865</td>\n",
       "    </tr>\n",
       "    <tr>\n",
       "      <th>21611</th>\n",
       "      <td>-0.381588</td>\n",
       "    </tr>\n",
       "    <tr>\n",
       "      <th>21612</th>\n",
       "      <td>-0.585882</td>\n",
       "    </tr>\n",
       "  </tbody>\n",
       "</table>\n",
       "<p>21613 rows × 1 columns</p>\n",
       "</div>"
      ],
      "text/plain": [
       "              0\n",
       "0     -0.866717\n",
       "1     -0.005688\n",
       "2     -0.980849\n",
       "3      0.174090\n",
       "4     -0.081958\n",
       "...         ...\n",
       "21608 -0.490545\n",
       "21609 -0.381588\n",
       "21610 -0.375865\n",
       "21611 -0.381588\n",
       "21612 -0.585882\n",
       "\n",
       "[21613 rows x 1 columns]"
      ]
     },
     "execution_count": 16,
     "metadata": {},
     "output_type": "execute_result"
    }
   ],
   "source": [
    "take = pd.DataFrame(trans1[:, -1])\n",
    "\n",
    "take"
   ]
  },
  {
   "cell_type": "code",
   "execution_count": 17,
   "id": "6872b687-593a-46ce-b176-0ca7a0b1d140",
   "metadata": {},
   "outputs": [],
   "source": [
    "sc = StandardScaler()\n",
    "tp = sc.fit_transform(Sam_ft)"
   ]
  },
  {
   "cell_type": "code",
   "execution_count": 18,
   "id": "948b98ce-28dc-435f-be46-fd65b6795d92",
   "metadata": {},
   "outputs": [
    {
     "data": {
      "text/html": [
       "<div>\n",
       "<style scoped>\n",
       "    .dataframe tbody tr th:only-of-type {\n",
       "        vertical-align: middle;\n",
       "    }\n",
       "\n",
       "    .dataframe tbody tr th {\n",
       "        vertical-align: top;\n",
       "    }\n",
       "\n",
       "    .dataframe thead th {\n",
       "        text-align: right;\n",
       "    }\n",
       "</style>\n",
       "<table border=\"1\" class=\"dataframe\">\n",
       "  <thead>\n",
       "    <tr style=\"text-align: right;\">\n",
       "      <th></th>\n",
       "      <th>0</th>\n",
       "      <th>1</th>\n",
       "      <th>2</th>\n",
       "      <th>3</th>\n",
       "      <th>4</th>\n",
       "      <th>5</th>\n",
       "      <th>6</th>\n",
       "      <th>7</th>\n",
       "      <th>8</th>\n",
       "      <th>9</th>\n",
       "      <th>10</th>\n",
       "      <th>11</th>\n",
       "      <th>12</th>\n",
       "      <th>13</th>\n",
       "      <th>14</th>\n",
       "      <th>15</th>\n",
       "      <th>16</th>\n",
       "      <th>17</th>\n",
       "    </tr>\n",
       "  </thead>\n",
       "  <tbody>\n",
       "    <tr>\n",
       "      <th>0</th>\n",
       "      <td>-0.398737</td>\n",
       "      <td>-1.447464</td>\n",
       "      <td>-0.979835</td>\n",
       "      <td>-0.228321</td>\n",
       "      <td>-0.915427</td>\n",
       "      <td>-0.087173</td>\n",
       "      <td>-0.305759</td>\n",
       "      <td>-0.629187</td>\n",
       "      <td>-0.558836</td>\n",
       "      <td>-0.734708</td>\n",
       "      <td>-0.658681</td>\n",
       "      <td>-0.544898</td>\n",
       "      <td>-0.210128</td>\n",
       "      <td>-0.352572</td>\n",
       "      <td>-0.306079</td>\n",
       "      <td>-0.943355</td>\n",
       "      <td>-0.260715</td>\n",
       "      <td>-0.866717</td>\n",
       "    </tr>\n",
       "    <tr>\n",
       "      <th>1</th>\n",
       "      <td>-0.398737</td>\n",
       "      <td>0.175607</td>\n",
       "      <td>0.533634</td>\n",
       "      <td>-0.189885</td>\n",
       "      <td>0.936506</td>\n",
       "      <td>-0.087173</td>\n",
       "      <td>-0.305759</td>\n",
       "      <td>-0.629187</td>\n",
       "      <td>-0.558836</td>\n",
       "      <td>0.460841</td>\n",
       "      <td>0.245141</td>\n",
       "      <td>-0.681079</td>\n",
       "      <td>4.746678</td>\n",
       "      <td>1.161568</td>\n",
       "      <td>-0.746341</td>\n",
       "      <td>-0.432686</td>\n",
       "      <td>-0.187868</td>\n",
       "      <td>-0.005688</td>\n",
       "    </tr>\n",
       "    <tr>\n",
       "      <th>2</th>\n",
       "      <td>-1.473959</td>\n",
       "      <td>-1.447464</td>\n",
       "      <td>-1.426254</td>\n",
       "      <td>-0.123298</td>\n",
       "      <td>-0.915427</td>\n",
       "      <td>-0.087173</td>\n",
       "      <td>-0.305759</td>\n",
       "      <td>-0.629187</td>\n",
       "      <td>-1.409587</td>\n",
       "      <td>-1.229834</td>\n",
       "      <td>-0.658681</td>\n",
       "      <td>-1.293892</td>\n",
       "      <td>-0.210128</td>\n",
       "      <td>1.283537</td>\n",
       "      <td>-0.135655</td>\n",
       "      <td>1.070140</td>\n",
       "      <td>-0.172375</td>\n",
       "      <td>-0.980849</td>\n",
       "    </tr>\n",
       "    <tr>\n",
       "      <th>3</th>\n",
       "      <td>0.676485</td>\n",
       "      <td>1.149449</td>\n",
       "      <td>-0.130550</td>\n",
       "      <td>-0.244014</td>\n",
       "      <td>-0.915427</td>\n",
       "      <td>-0.087173</td>\n",
       "      <td>-0.305759</td>\n",
       "      <td>2.444294</td>\n",
       "      <td>-0.558836</td>\n",
       "      <td>-0.891699</td>\n",
       "      <td>1.397515</td>\n",
       "      <td>-0.204446</td>\n",
       "      <td>-0.210128</td>\n",
       "      <td>-0.283288</td>\n",
       "      <td>-1.271816</td>\n",
       "      <td>-0.914174</td>\n",
       "      <td>-0.284522</td>\n",
       "      <td>0.174090</td>\n",
       "    </tr>\n",
       "    <tr>\n",
       "      <th>4</th>\n",
       "      <td>-0.398737</td>\n",
       "      <td>-0.149007</td>\n",
       "      <td>-0.435422</td>\n",
       "      <td>-0.169653</td>\n",
       "      <td>-0.915427</td>\n",
       "      <td>-0.087173</td>\n",
       "      <td>-0.305759</td>\n",
       "      <td>-0.629187</td>\n",
       "      <td>0.291916</td>\n",
       "      <td>-0.130895</td>\n",
       "      <td>-0.658681</td>\n",
       "      <td>0.544548</td>\n",
       "      <td>-0.210128</td>\n",
       "      <td>0.409550</td>\n",
       "      <td>1.199335</td>\n",
       "      <td>-0.272190</td>\n",
       "      <td>-0.192849</td>\n",
       "      <td>-0.081958</td>\n",
       "    </tr>\n",
       "    <tr>\n",
       "      <th>...</th>\n",
       "      <td>...</td>\n",
       "      <td>...</td>\n",
       "      <td>...</td>\n",
       "      <td>...</td>\n",
       "      <td>...</td>\n",
       "      <td>...</td>\n",
       "      <td>...</td>\n",
       "      <td>...</td>\n",
       "      <td>...</td>\n",
       "      <td>...</td>\n",
       "      <td>...</td>\n",
       "      <td>...</td>\n",
       "      <td>...</td>\n",
       "      <td>...</td>\n",
       "      <td>...</td>\n",
       "      <td>...</td>\n",
       "      <td>...</td>\n",
       "      <td>...</td>\n",
       "    </tr>\n",
       "    <tr>\n",
       "      <th>21608</th>\n",
       "      <td>-0.398737</td>\n",
       "      <td>0.500221</td>\n",
       "      <td>-0.598746</td>\n",
       "      <td>-0.337424</td>\n",
       "      <td>2.788439</td>\n",
       "      <td>-0.087173</td>\n",
       "      <td>-0.305759</td>\n",
       "      <td>-0.629187</td>\n",
       "      <td>0.291916</td>\n",
       "      <td>-0.312039</td>\n",
       "      <td>-0.658681</td>\n",
       "      <td>1.293542</td>\n",
       "      <td>-0.210128</td>\n",
       "      <td>1.004958</td>\n",
       "      <td>-0.938069</td>\n",
       "      <td>-0.666135</td>\n",
       "      <td>-0.412381</td>\n",
       "      <td>-0.490545</td>\n",
       "    </tr>\n",
       "    <tr>\n",
       "      <th>21609</th>\n",
       "      <td>0.676485</td>\n",
       "      <td>0.500221</td>\n",
       "      <td>0.250539</td>\n",
       "      <td>-0.224386</td>\n",
       "      <td>0.936506</td>\n",
       "      <td>-0.087173</td>\n",
       "      <td>-0.305759</td>\n",
       "      <td>-0.629187</td>\n",
       "      <td>0.291916</td>\n",
       "      <td>0.629908</td>\n",
       "      <td>-0.658681</td>\n",
       "      <td>1.463768</td>\n",
       "      <td>-0.210128</td>\n",
       "      <td>-0.356180</td>\n",
       "      <td>-1.051685</td>\n",
       "      <td>-0.228419</td>\n",
       "      <td>-0.203946</td>\n",
       "      <td>-0.381588</td>\n",
       "    </tr>\n",
       "    <tr>\n",
       "      <th>21610</th>\n",
       "      <td>-1.473959</td>\n",
       "      <td>-1.772078</td>\n",
       "      <td>-1.154047</td>\n",
       "      <td>-0.332137</td>\n",
       "      <td>0.936506</td>\n",
       "      <td>-0.087173</td>\n",
       "      <td>-0.305759</td>\n",
       "      <td>-0.629187</td>\n",
       "      <td>-0.558836</td>\n",
       "      <td>-0.927928</td>\n",
       "      <td>-0.658681</td>\n",
       "      <td>1.293542</td>\n",
       "      <td>-0.210128</td>\n",
       "      <td>0.247888</td>\n",
       "      <td>-0.604321</td>\n",
       "      <td>-1.410253</td>\n",
       "      <td>-0.394141</td>\n",
       "      <td>-0.375865</td>\n",
       "    </tr>\n",
       "    <tr>\n",
       "      <th>21611</th>\n",
       "      <td>-0.398737</td>\n",
       "      <td>0.500221</td>\n",
       "      <td>-0.522528</td>\n",
       "      <td>-0.307076</td>\n",
       "      <td>0.936506</td>\n",
       "      <td>-0.087173</td>\n",
       "      <td>-0.305759</td>\n",
       "      <td>-0.629187</td>\n",
       "      <td>0.291916</td>\n",
       "      <td>-0.227505</td>\n",
       "      <td>-0.658681</td>\n",
       "      <td>1.123316</td>\n",
       "      <td>-0.210128</td>\n",
       "      <td>-0.184414</td>\n",
       "      <td>1.028910</td>\n",
       "      <td>-0.841221</td>\n",
       "      <td>-0.420511</td>\n",
       "      <td>-0.381588</td>\n",
       "    </tr>\n",
       "    <tr>\n",
       "      <th>21612</th>\n",
       "      <td>-1.473959</td>\n",
       "      <td>-1.772078</td>\n",
       "      <td>-1.154047</td>\n",
       "      <td>-0.338752</td>\n",
       "      <td>0.936506</td>\n",
       "      <td>-0.087173</td>\n",
       "      <td>-0.305759</td>\n",
       "      <td>-0.629187</td>\n",
       "      <td>-0.558836</td>\n",
       "      <td>-0.927928</td>\n",
       "      <td>-0.658681</td>\n",
       "      <td>1.259497</td>\n",
       "      <td>-0.210128</td>\n",
       "      <td>0.245723</td>\n",
       "      <td>-0.604321</td>\n",
       "      <td>-1.410253</td>\n",
       "      <td>-0.417948</td>\n",
       "      <td>-0.585882</td>\n",
       "    </tr>\n",
       "  </tbody>\n",
       "</table>\n",
       "<p>21613 rows × 18 columns</p>\n",
       "</div>"
      ],
      "text/plain": [
       "             0         1         2         3         4         5         6   \\\n",
       "0     -0.398737 -1.447464 -0.979835 -0.228321 -0.915427 -0.087173 -0.305759   \n",
       "1     -0.398737  0.175607  0.533634 -0.189885  0.936506 -0.087173 -0.305759   \n",
       "2     -1.473959 -1.447464 -1.426254 -0.123298 -0.915427 -0.087173 -0.305759   \n",
       "3      0.676485  1.149449 -0.130550 -0.244014 -0.915427 -0.087173 -0.305759   \n",
       "4     -0.398737 -0.149007 -0.435422 -0.169653 -0.915427 -0.087173 -0.305759   \n",
       "...         ...       ...       ...       ...       ...       ...       ...   \n",
       "21608 -0.398737  0.500221 -0.598746 -0.337424  2.788439 -0.087173 -0.305759   \n",
       "21609  0.676485  0.500221  0.250539 -0.224386  0.936506 -0.087173 -0.305759   \n",
       "21610 -1.473959 -1.772078 -1.154047 -0.332137  0.936506 -0.087173 -0.305759   \n",
       "21611 -0.398737  0.500221 -0.522528 -0.307076  0.936506 -0.087173 -0.305759   \n",
       "21612 -1.473959 -1.772078 -1.154047 -0.338752  0.936506 -0.087173 -0.305759   \n",
       "\n",
       "             7         8         9         10        11        12        13  \\\n",
       "0     -0.629187 -0.558836 -0.734708 -0.658681 -0.544898 -0.210128 -0.352572   \n",
       "1     -0.629187 -0.558836  0.460841  0.245141 -0.681079  4.746678  1.161568   \n",
       "2     -0.629187 -1.409587 -1.229834 -0.658681 -1.293892 -0.210128  1.283537   \n",
       "3      2.444294 -0.558836 -0.891699  1.397515 -0.204446 -0.210128 -0.283288   \n",
       "4     -0.629187  0.291916 -0.130895 -0.658681  0.544548 -0.210128  0.409550   \n",
       "...         ...       ...       ...       ...       ...       ...       ...   \n",
       "21608 -0.629187  0.291916 -0.312039 -0.658681  1.293542 -0.210128  1.004958   \n",
       "21609 -0.629187  0.291916  0.629908 -0.658681  1.463768 -0.210128 -0.356180   \n",
       "21610 -0.629187 -0.558836 -0.927928 -0.658681  1.293542 -0.210128  0.247888   \n",
       "21611 -0.629187  0.291916 -0.227505 -0.658681  1.123316 -0.210128 -0.184414   \n",
       "21612 -0.629187 -0.558836 -0.927928 -0.658681  1.259497 -0.210128  0.245723   \n",
       "\n",
       "             14        15        16        17  \n",
       "0     -0.306079 -0.943355 -0.260715 -0.866717  \n",
       "1     -0.746341 -0.432686 -0.187868 -0.005688  \n",
       "2     -0.135655  1.070140 -0.172375 -0.980849  \n",
       "3     -1.271816 -0.914174 -0.284522  0.174090  \n",
       "4      1.199335 -0.272190 -0.192849 -0.081958  \n",
       "...         ...       ...       ...       ...  \n",
       "21608 -0.938069 -0.666135 -0.412381 -0.490545  \n",
       "21609 -1.051685 -0.228419 -0.203946 -0.381588  \n",
       "21610 -0.604321 -1.410253 -0.394141 -0.375865  \n",
       "21611  1.028910 -0.841221 -0.420511 -0.381588  \n",
       "21612 -0.604321 -1.410253 -0.417948 -0.585882  \n",
       "\n",
       "[21613 rows x 18 columns]"
      ]
     },
     "execution_count": 18,
     "metadata": {},
     "output_type": "execute_result"
    }
   ],
   "source": [
    "Ken = pd.DataFrame(tp)\n",
    "Ken"
   ]
  },
  {
   "cell_type": "code",
   "execution_count": 19,
   "id": "7967590a-2402-47bc-b64e-8c9f666784fd",
   "metadata": {},
   "outputs": [],
   "source": [
    "x = Ken.iloc[:,:-1]\n",
    "y = Ken.iloc[:,-1]"
   ]
  },
  {
   "cell_type": "code",
   "execution_count": 20,
   "id": "df8ce6df-6f73-4f0b-b554-caaf6fb5b85f",
   "metadata": {},
   "outputs": [],
   "source": [
    "x_train, x_test, y_train, y_test = train_test_split(x,y, test_size = 0.2 )"
   ]
  },
  {
   "cell_type": "code",
   "execution_count": 21,
   "id": "eecf2ef1-190d-4033-ae0d-8a6cb4e09ecc",
   "metadata": {},
   "outputs": [
    {
     "data": {
      "text/plain": [
       "array([-0.23915103,  0.50254571,  0.24426757, ...,  0.04261832,\n",
       "        0.42255469, -0.50374853])"
      ]
     },
     "execution_count": 21,
     "metadata": {},
     "output_type": "execute_result"
    }
   ],
   "source": [
    "#building our model - multiple linear Regression Model\n",
    "\n",
    "linear_model = LinearRegression()\n",
    "\n",
    "linear_model.fit(x_train, y_train)\n",
    "\n",
    "target = linear_model.predict(x_test)\n",
    "\n",
    "\n",
    "target"
   ]
  },
  {
   "cell_type": "code",
   "execution_count": 22,
   "id": "fec34b2d-b9db-489c-b4a6-75877243bc64",
   "metadata": {},
   "outputs": [
    {
     "name": "stdout",
     "output_type": "stream",
     "text": [
      "0.3288686450772884\n",
      "0.6881914640759803\n"
     ]
    }
   ],
   "source": [
    "print(mean_squared_error(y_test, target))\n",
    "\n",
    "print(metrics.r2_score(y_test, target))"
   ]
  },
  {
   "cell_type": "code",
   "execution_count": 23,
   "id": "fe1b8ad0-136d-494a-8001-bf43138d28bd",
   "metadata": {},
   "outputs": [
    {
     "data": {
      "text/plain": [
       "True"
      ]
     },
     "execution_count": 23,
     "metadata": {},
     "output_type": "execute_result"
    }
   ],
   "source": [
    "len(x_train) == len(y_train)"
   ]
  },
  {
   "cell_type": "code",
   "execution_count": 24,
   "id": "6d6e6e29-0756-4049-9251-d87582ad3d94",
   "metadata": {},
   "outputs": [
    {
     "data": {
      "text/plain": [
       "True"
      ]
     },
     "execution_count": 24,
     "metadata": {},
     "output_type": "execute_result"
    }
   ],
   "source": [
    "len(x_test) == len(y_test)"
   ]
  },
  {
   "cell_type": "markdown",
   "id": "2a856df1-0a71-4f31-88a1-750993b0a450",
   "metadata": {},
   "source": [
    "Simple Linear Regression Section\n"
   ]
  },
  {
   "cell_type": "code",
   "execution_count": 99,
   "id": "79ae56f4-8711-4158-8c35-fcecd0b9dc0b",
   "metadata": {},
   "outputs": [],
   "source": [
    "#Using Sqft bedrooms to predict price\n",
    "x_bedrooms = Ken.iloc[:,0]\n",
    "y_bedrooms = Ken.iloc[:,-1]"
   ]
  },
  {
   "cell_type": "code",
   "execution_count": 100,
   "id": "4395aabf-21b9-4e6d-a949-6dbda6e489f3",
   "metadata": {},
   "outputs": [],
   "source": [
    "x_train_bedrooms, x_test_bedrooms, y_train_bedrooms, y_test_bedrooms = train_test_split(x_bedrooms, y_bedrooms, test_size = 0.2 )"
   ]
  },
  {
   "cell_type": "code",
   "execution_count": 101,
   "id": "05b8cb9b-5b81-47cd-83e5-1ad8dc1938f7",
   "metadata": {},
   "outputs": [],
   "source": [
    "x_train_bedrooms = np.array(x_train_bedrooms).reshape(-1, 1)\n",
    "x_test_bedrooms = np.array(x_test_bedrooms).reshape(-1, 1)"
   ]
  },
  {
   "cell_type": "code",
   "execution_count": 102,
   "id": "aacb5337-9257-43eb-a53d-308ca8a5128d",
   "metadata": {},
   "outputs": [],
   "source": [
    "y_train_bedrooms = np.array(y_train_bedrooms).reshape(-1, 1)\n",
    "y_test__bedrooms = np.array(y_test_bedrooms).reshape(-1, 1)"
   ]
  },
  {
   "cell_type": "code",
   "execution_count": 103,
   "id": "16356d6f-7a3c-4c4e-98c8-669482ff6a4e",
   "metadata": {},
   "outputs": [],
   "source": [
    "#building our model - Simple Linear Regression \n",
    "\n",
    "look = LinearRegression()"
   ]
  },
  {
   "cell_type": "code",
   "execution_count": 104,
   "id": "c4d1d2be-adeb-40f8-b31e-554d326d4832",
   "metadata": {},
   "outputs": [
    {
     "data": {
      "text/plain": [
       "293930"
      ]
     },
     "execution_count": 104,
     "metadata": {},
     "output_type": "execute_result"
    }
   ],
   "source": [
    "len(x_train)"
   ]
  },
  {
   "cell_type": "code",
   "execution_count": 105,
   "id": "bb598acb-098f-48c4-99ff-9bcef1841dc6",
   "metadata": {},
   "outputs": [
    {
     "data": {
      "text/plain": [
       "17290"
      ]
     },
     "execution_count": 105,
     "metadata": {},
     "output_type": "execute_result"
    }
   ],
   "source": [
    "len(y_train)"
   ]
  },
  {
   "cell_type": "code",
   "execution_count": 106,
   "id": "e78f72a5-7db8-4767-b567-b3eae7b4f50d",
   "metadata": {},
   "outputs": [
    {
     "data": {
      "text/plain": [
       "array([[-0.12104728],\n",
       "       [-0.12104728],\n",
       "       [ 0.2121307 ],\n",
       "       ...,\n",
       "       [-0.78740323],\n",
       "       [-0.12104728],\n",
       "       [-0.12104728]])"
      ]
     },
     "execution_count": 106,
     "metadata": {},
     "output_type": "execute_result"
    }
   ],
   "source": [
    "lum = LinearRegression()\n",
    "\n",
    "lum.fit(x_train_bedrooms, y_train_bedrooms)\n",
    "\n",
    "target = lum.predict(x_test_bedrooms)\n",
    "\n",
    "\n",
    "target"
   ]
  },
  {
   "cell_type": "code",
   "execution_count": 118,
   "id": "cd6f4166-9d7d-4e38-b922-074d9af75045",
   "metadata": {},
   "outputs": [
    {
     "name": "stdout",
     "output_type": "stream",
     "text": [
      "MSE:  0.8936784794212602\n",
      "R squared:  0.08925235753496008\n"
     ]
    }
   ],
   "source": [
    "print(\"MSE: \", mean_squared_error(y_test_bedrooms, target))\n",
    "print(\"R squared: \", metrics.r2_score(y_test_bedrooms, target))"
   ]
  },
  {
   "cell_type": "code",
   "execution_count": 109,
   "id": "5d9bc8f1-f7ca-4bad-bb12-d37b4bfb1650",
   "metadata": {},
   "outputs": [],
   "source": [
    "#Using Sqft bathrooms to predict price\n",
    "x_bathrooms = Ken.iloc[:,1]\n",
    "y_bathrooms = Ken.iloc[:,-1]"
   ]
  },
  {
   "cell_type": "code",
   "execution_count": 110,
   "id": "aa64802c-d7b0-486f-a6e2-68ab877bc1c6",
   "metadata": {},
   "outputs": [],
   "source": [
    "x_train_bathrooms, x_test_bathrooms, y_train_bathrooms, y_test_bathrooms = train_test_split(x_bathrooms, y_bathrooms, test_size = 0.2 )"
   ]
  },
  {
   "cell_type": "code",
   "execution_count": 112,
   "id": "ee4c2f80-dce3-42fe-b6e3-7caadc22de27",
   "metadata": {},
   "outputs": [],
   "source": [
    "x_train_bathrooms = np.array(x_train_bathrooms).reshape(-1, 1)\n",
    "x_test_bathrooms = np.array(x_test_bathrooms).reshape(-1, 1)\n",
    "y_train_bathrooms = np.array(y_train_bathrooms).reshape(-1, 1)\n",
    "y_test__bathrooms = np.array(y_test_bathrooms).reshape(-1, 1)"
   ]
  },
  {
   "cell_type": "code",
   "execution_count": 114,
   "id": "50d5ba47-6df0-4c1c-b2dc-d4509bbc184e",
   "metadata": {},
   "outputs": [],
   "source": [
    "#building our model - Simple Linear Regression \n",
    "\n",
    "bath = LinearRegression()"
   ]
  },
  {
   "cell_type": "code",
   "execution_count": 115,
   "id": "2d1ff8bc-a912-41ee-bf22-40ec6eccf356",
   "metadata": {},
   "outputs": [
    {
     "data": {
      "text/plain": [
       "array([[ 0.2506463 ],\n",
       "       [ 1.07683177],\n",
       "       [ 0.0854092 ],\n",
       "       ...,\n",
       "       [-0.74077627],\n",
       "       [-0.74077627],\n",
       "       [-0.41030208]])"
      ]
     },
     "execution_count": 115,
     "metadata": {},
     "output_type": "execute_result"
    }
   ],
   "source": [
    "bath.fit(x_train_bathrooms, y_train_bathrooms)\n",
    "\n",
    "target1 = bath.predict(x_test_bathrooms)\n",
    "\n",
    "target1"
   ]
  },
  {
   "cell_type": "code",
   "execution_count": 117,
   "id": "28f60f95-25c3-4c18-9515-b2e1c5fd05df",
   "metadata": {},
   "outputs": [
    {
     "name": "stdout",
     "output_type": "stream",
     "text": [
      "MSE:  0.8253879488413202\n",
      "R squared:  0.2944285190276197\n"
     ]
    }
   ],
   "source": [
    "print(\"MSE: \", mean_squared_error(y_test_bathrooms, target1))\n",
    "print(\"R squared: \", metrics.r2_score(y_test_bathrooms, target1))"
   ]
  },
  {
   "cell_type": "code",
   "execution_count": 119,
   "id": "7c66834a-e1fd-433a-8e33-bbf4a8896ce7",
   "metadata": {},
   "outputs": [],
   "source": [
    "#Using sqft_living to predict price\n",
    "\n",
    "x_sqft_liv = Ken.iloc[:, 2]\n",
    "y_sqft_liv = Ken.iloc[:, -1]"
   ]
  },
  {
   "cell_type": "code",
   "execution_count": 120,
   "id": "f409e568-102c-490f-8356-7baa39b1f1d4",
   "metadata": {},
   "outputs": [],
   "source": [
    "x_train_liv, x_test_liv, y_train_liv, y_test_liv = train_test_split(x_sqft_liv,y_sqft_liv, test_size = 0.2 )"
   ]
  },
  {
   "cell_type": "code",
   "execution_count": 121,
   "id": "8edbf8d0-684e-49ad-87c8-e390757ac4a2",
   "metadata": {},
   "outputs": [],
   "source": [
    "x_train_liv = np.array(x_train_liv).reshape(-1, 1)\n",
    "x_test_liv = np.array(x_test_liv).reshape(-1, 1)"
   ]
  },
  {
   "cell_type": "code",
   "execution_count": 122,
   "id": "907c5905-4faf-4602-8bba-a19415664381",
   "metadata": {},
   "outputs": [
    {
     "data": {
      "text/plain": [
       "array([-0.19194816,  0.38862746, -0.38547337, ..., -0.81122882,\n",
       "       -0.42417841, -0.49384748])"
      ]
     },
     "execution_count": 122,
     "metadata": {},
     "output_type": "execute_result"
    }
   ],
   "source": [
    "lm = LinearRegression()\n",
    "\n",
    "lm.fit(x_train_liv, y_train_liv)\n",
    "\n",
    "target = lm.predict(x_test_liv)\n",
    "\n",
    "\n",
    "target"
   ]
  },
  {
   "cell_type": "code",
   "execution_count": 123,
   "id": "b2be63a5-b4e9-4f0e-90c6-caf4715965f2",
   "metadata": {},
   "outputs": [
    {
     "name": "stdout",
     "output_type": "stream",
     "text": [
      "MSE:  0.4776181600435957\n",
      "R squared:  0.47150125995824765\n"
     ]
    }
   ],
   "source": [
    "print(\"MSE: \", mean_squared_error(y_test_liv, target))\n",
    "print(\"R squared: \", metrics.r2_score(y_test_liv, target))"
   ]
  },
  {
   "cell_type": "code",
   "execution_count": 124,
   "id": "d9537399-194c-4bcb-8241-b35f2d5087d3",
   "metadata": {},
   "outputs": [],
   "source": [
    "#Using sqft_lot to predict price\n",
    "\n",
    "x_sqft_lot = Ken.iloc[:, 3]\n",
    "y_sqft_lot = Ken.iloc[:, -1]"
   ]
  },
  {
   "cell_type": "code",
   "execution_count": 125,
   "id": "268afd0c-4b09-47f9-8904-9e3d77d7bdc1",
   "metadata": {},
   "outputs": [],
   "source": [
    "x_train_lot, x_test_lot, y_train_lot, y_test_lot = train_test_split(x_sqft_lot,y_sqft_lot, test_size = 0.2 )"
   ]
  },
  {
   "cell_type": "code",
   "execution_count": 126,
   "id": "f0f7b990-ff91-4851-a9a0-c56fc97a19a0",
   "metadata": {},
   "outputs": [],
   "source": [
    "x_train_lot = np.array(x_train_lot).reshape(-1, 1)\n",
    "x_test_lot = np.array(x_test_lot).reshape(-1, 1)"
   ]
  },
  {
   "cell_type": "code",
   "execution_count": 127,
   "id": "2dbbf0b2-fa83-424d-a6c9-a915bdfd2bc2",
   "metadata": {},
   "outputs": [
    {
     "data": {
      "text/plain": [
       "array([-0.00749465, -0.02318024, -0.00414717, ..., -0.02724447,\n",
       "       -0.03093214, -0.025933  ])"
      ]
     },
     "execution_count": 127,
     "metadata": {},
     "output_type": "execute_result"
    }
   ],
   "source": [
    "lim = LinearRegression()\n",
    "\n",
    "lim.fit(x_train_lot, y_train_lot)\n",
    "\n",
    "target = lim.predict(x_test_lot)\n",
    "\n",
    "\n",
    "target"
   ]
  },
  {
   "cell_type": "code",
   "execution_count": 128,
   "id": "8c50f4b1-10f9-454e-8fa2-9c7f0ac9853a",
   "metadata": {},
   "outputs": [
    {
     "name": "stdout",
     "output_type": "stream",
     "text": [
      "MSE:  1.024500230969496\n",
      "R squared:  0.00022253726245236027\n"
     ]
    }
   ],
   "source": [
    "print(\"MSE: \", mean_squared_error(y_test_lot, target))\n",
    "print(\"R squared: \", metrics.r2_score(y_test_lot, target))"
   ]
  },
  {
   "cell_type": "code",
   "execution_count": 129,
   "id": "fcde2206-48cf-4c8e-81c3-28c1eea68c72",
   "metadata": {},
   "outputs": [],
   "source": [
    "#Using floors to predict price\n",
    "\n",
    "x_floors = Ken.iloc[:, 4]\n",
    "y_floors = Ken.iloc[:, -1]"
   ]
  },
  {
   "cell_type": "code",
   "execution_count": 130,
   "id": "44eb42ca-ac96-401a-911c-3e92d7723633",
   "metadata": {},
   "outputs": [],
   "source": [
    "x_train_floors, x_test_floors, y_train_floors, y_test_floors = train_test_split(x_floors,y_floors, test_size = 0.2 )"
   ]
  },
  {
   "cell_type": "code",
   "execution_count": 131,
   "id": "f25f5982-4c71-4237-921c-079403f718d9",
   "metadata": {
    "tags": []
   },
   "outputs": [],
   "source": [
    "x_train_floors = np.array(x_train_floors).reshape(-1, 1)\n",
    "x_test_floors = np.array(x_test_floors).reshape(-1, 1)"
   ]
  },
  {
   "cell_type": "code",
   "execution_count": 132,
   "id": "d4374d83-7f92-4813-ad79-9f613013e7b6",
   "metadata": {},
   "outputs": [
    {
     "data": {
      "text/plain": [
       "array([-0.00749465, -0.02318024, -0.00414717, ..., -0.02724447,\n",
       "       -0.03093214, -0.025933  ])"
      ]
     },
     "execution_count": 132,
     "metadata": {},
     "output_type": "execute_result"
    }
   ],
   "source": [
    "limo = LinearRegression()\n",
    "\n",
    "limo.fit(x_train_lot, y_train_lot)\n",
    "\n",
    "target = limo.predict(x_test_lot)\n",
    "\n",
    "\n",
    "target"
   ]
  },
  {
   "cell_type": "code",
   "execution_count": 133,
   "id": "9d0b2ec0-2c27-410a-a8f3-70649f355d13",
   "metadata": {},
   "outputs": [
    {
     "name": "stdout",
     "output_type": "stream",
     "text": [
      "MSE:  0.8880541771191096\n",
      "R squared:  -0.025951672180663632\n"
     ]
    }
   ],
   "source": [
    "print(\"MSE: \", mean_squared_error(y_test_floors, target))\n",
    "print(\"R squared: \", metrics.r2_score(y_test_floors, target))"
   ]
  },
  {
   "cell_type": "code",
   "execution_count": 134,
   "id": "e75140fc-1325-47f9-b5b4-a09b8aa4199b",
   "metadata": {},
   "outputs": [],
   "source": [
    "#Using condition to predict price\n",
    "\n",
    "x_condition = Ken.iloc[:, 7]\n",
    "y_condition = Ken.iloc[:, -1]"
   ]
  },
  {
   "cell_type": "code",
   "execution_count": 135,
   "id": "6eb3ce3a-24ab-4fc9-a8d7-7d93cd42961a",
   "metadata": {},
   "outputs": [],
   "source": [
    "x_train_condition, x_test_condition, y_train_condition, y_test_condition = train_test_split(x_condition,y_condition, test_size = 0.2 )"
   ]
  },
  {
   "cell_type": "code",
   "execution_count": 136,
   "id": "1db43501-8a65-46b1-a528-e8d2b3dda99c",
   "metadata": {},
   "outputs": [],
   "source": [
    "x_train_condition = np.array(x_train_condition).reshape(-1, 1)\n",
    "x_test_condition = np.array(x_test_condition).reshape(-1, 1)"
   ]
  },
  {
   "cell_type": "code",
   "execution_count": 137,
   "id": "681cfd20-0afd-493e-86f2-10280ba18299",
   "metadata": {},
   "outputs": [
    {
     "data": {
      "text/plain": [
       "array([-0.02263147, -0.02263147,  0.03444354, ..., -0.02263147,\n",
       "        0.03444354, -0.02263147])"
      ]
     },
     "execution_count": 137,
     "metadata": {},
     "output_type": "execute_result"
    }
   ],
   "source": [
    "linear_model = LinearRegression()\n",
    "\n",
    "linear_model.fit(x_train_condition, y_train_condition)\n",
    "\n",
    "target = linear_model.predict(x_test_condition)\n",
    "\n",
    "\n",
    "target"
   ]
  },
  {
   "cell_type": "code",
   "execution_count": 138,
   "id": "f8e65bbe-0997-41bf-8aaa-f802bc8ae5ae",
   "metadata": {},
   "outputs": [
    {
     "name": "stdout",
     "output_type": "stream",
     "text": [
      "MSE:  1.0180918703086532\n",
      "R squared:  0.0010598962469988704\n"
     ]
    }
   ],
   "source": [
    "print(\"MSE: \", mean_squared_error(y_test_condition, target))\n",
    "print(\"R squared: \", metrics.r2_score(y_test_condition, target))"
   ]
  },
  {
   "cell_type": "code",
   "execution_count": 139,
   "id": "054e590a-163c-44a3-9ef8-9e98c3d1192c",
   "metadata": {},
   "outputs": [
    {
     "name": "stdout",
     "output_type": "stream",
     "text": [
      "MSE:  0.9122422680869019\n",
      "R squared:  0.04678000926474413\n"
     ]
    }
   ],
   "source": [
    "#Using grade to predict price\n",
    "\n",
    "x_grade = Ken.iloc[:, 8]\n",
    "y_grade = Ken.iloc[:, -1]\n",
    "\n",
    "x_train_grade, x_test_grade, y_train_grade, y_test_grade = train_test_split(x_grade,y_grade, test_size = 0.2 )\n",
    "\n",
    "x_train_grade = np.array(x_train_grade).reshape(-1, 1)\n",
    "x_test_grade = np.array(x_test_grade).reshape(-1, 1)\n",
    "\n",
    "linear_mod = LinearRegression()\n",
    "\n",
    "linear_mod.fit(x_train_grade, y_train_grade)\n",
    "\n",
    "target = linear_model.predict(x_test_grade)\n",
    "\n",
    "print(\"MSE: \", mean_squared_error(y_test_grade, target))\n",
    "print(\"R squared: \", metrics.r2_score(y_test_grade, target))"
   ]
  },
  {
   "cell_type": "markdown",
   "id": "4cf7ba16-6fba-4322-a03a-f860bec47abc",
   "metadata": {},
   "source": [
    "Polynomial Regression"
   ]
  },
  {
   "cell_type": "code",
   "execution_count": 140,
   "id": "98ff0355-3149-44ba-a8ff-524c2a4a3cd8",
   "metadata": {},
   "outputs": [],
   "source": [
    "#initiate the polynomial object from the preprocessing library\n",
    "\n",
    "poly = PolynomialFeatures(3)"
   ]
  },
  {
   "cell_type": "code",
   "execution_count": 141,
   "id": "c8d224c1-72db-480c-974a-ef0619a72329",
   "metadata": {},
   "outputs": [
    {
     "data": {
      "text/plain": [
       "array([[ 1.        ,  0.78406452,  0.61475718,  0.48200929],\n",
       "       [ 1.        , -0.13055006,  0.01704332, -0.00222501],\n",
       "       [ 1.        , -0.26774224,  0.07168591, -0.01919335],\n",
       "       ...,\n",
       "       [ 1.        , -1.28470655,  1.65047091, -2.12037079],\n",
       "       [ 1.        , -0.65209813,  0.42523197, -0.27729297],\n",
       "       [ 1.        ,  1.13248912,  1.28253161,  1.4524531 ]])"
      ]
     },
     "execution_count": 141,
     "metadata": {},
     "output_type": "execute_result"
    }
   ],
   "source": [
    "poly.fit_transform(x_train_liv)"
   ]
  },
  {
   "cell_type": "code",
   "execution_count": 142,
   "id": "7f2473eb-fa44-40e9-8c7e-327426d32d13",
   "metadata": {},
   "outputs": [],
   "source": [
    "from sklearn.linear_model import LinearRegression\n",
    "\n",
    "lin_reg = LinearRegression()"
   ]
  },
  {
   "cell_type": "code",
   "execution_count": 143,
   "id": "1d5ad022-cf91-4873-a8a8-4902e4969a02",
   "metadata": {},
   "outputs": [
    {
     "data": {
      "text/plain": [
       "0       -0.915427\n",
       "1        0.936506\n",
       "2       -0.915427\n",
       "3       -0.915427\n",
       "4       -0.915427\n",
       "           ...   \n",
       "21608    2.788439\n",
       "21609    0.936506\n",
       "21610    0.936506\n",
       "21611    0.936506\n",
       "21612    0.936506\n",
       "Name: 4, Length: 21613, dtype: float64"
      ]
     },
     "execution_count": 143,
     "metadata": {},
     "output_type": "execute_result"
    }
   ],
   "source": [
    "x_floors"
   ]
  },
  {
   "cell_type": "raw",
   "id": "1e8388fd-a02e-4903-8731-d732f1591269",
   "metadata": {},
   "source": [
    "y_floors"
   ]
  },
  {
   "cell_type": "code",
   "execution_count": 144,
   "id": "f4505fea-a0da-40ff-ab33-5619872b47c2",
   "metadata": {},
   "outputs": [
    {
     "name": "stdout",
     "output_type": "stream",
     "text": [
      "MSE:  0.8335506901062608\n",
      "R squared:  0.01872990663607188\n"
     ]
    }
   ],
   "source": [
    "x_floors = Ken.iloc[:, 4]\n",
    "y_floors = Ken.iloc[:, -1]\n",
    "\n",
    "x_train_floors, x_test_floors, y_train_floors, y_test_floors = train_test_split(x_floors,y_floors, test_size = 0.2 )\n",
    "\n",
    "x_train_floors = np.array(x_train_floors).reshape(-1, 1)\n",
    "x_test_floors = np.array(x_test_floors).reshape(-1, 1)\n",
    "y_train_floors = np.array(y_train_floors).reshape(-1, 1)\n",
    "y_test_floors = np.array(y_test_floors).reshape(-1, 1)\n",
    "\n",
    "linear_mod = LinearRegression()\n",
    "\n",
    "linear_mod.fit(x_train_floors, y_train_floors)\n",
    "\n",
    "target = linear_model.predict(x_test_floors)\n",
    "\n",
    "print(\"MSE: \", mean_squared_error(y_test_floors, target))\n",
    "print(\"R squared: \", metrics.r2_score(y_test_floors, target))"
   ]
  },
  {
   "cell_type": "code",
   "execution_count": 146,
   "id": "70d794b4-80cb-4ece-8ac0-3558b34c305d",
   "metadata": {},
   "outputs": [],
   "source": [
    "sc = StandardScaler()"
   ]
  },
  {
   "cell_type": "code",
   "execution_count": 147,
   "id": "9b500e38-6bff-4b0b-92b6-333c274add3c",
   "metadata": {},
   "outputs": [],
   "source": [
    "x_train_floors = sc.fit_transform(x_train_floors)\n",
    "y_train_floors = sc.fit_transform(y_train_floors)"
   ]
  },
  {
   "cell_type": "code",
   "execution_count": 148,
   "id": "aca9a150-531a-42bc-be1d-741d5cacd9b4",
   "metadata": {},
   "outputs": [],
   "source": [
    "lin_reg = LinearRegression()"
   ]
  },
  {
   "cell_type": "code",
   "execution_count": 149,
   "id": "bb824847-3008-47ed-a2de-c906cefe3a6f",
   "metadata": {},
   "outputs": [
    {
     "data": {
      "text/plain": [
       "LinearRegression()"
      ]
     },
     "execution_count": 149,
     "metadata": {},
     "output_type": "execute_result"
    }
   ],
   "source": [
    "lin_reg.fit(x_train_floors, y_train_floors)"
   ]
  },
  {
   "cell_type": "code",
   "execution_count": 150,
   "id": "d69bf722-0a9c-4015-bee8-faf176287beb",
   "metadata": {},
   "outputs": [
    {
     "name": "stdout",
     "output_type": "stream",
     "text": [
      "Intercept constant for our linear model:  [5.34126034e-18]\n",
      "coefficient of x for our linear model:  [[0.25698488]]\n"
     ]
    }
   ],
   "source": [
    "print(\"Intercept constant for our linear model: \", lin_reg.intercept_)\n",
    "print(\"coefficient of x for our linear model: \", lin_reg.coef_)"
   ]
  },
  {
   "cell_type": "code",
   "execution_count": 151,
   "id": "bb69e110-d432-4409-901b-7f350a0b43a5",
   "metadata": {},
   "outputs": [],
   "source": [
    "y_predict = lin_reg.predict(x_train_floors)\n"
   ]
  },
  {
   "cell_type": "code",
   "execution_count": 157,
   "id": "39e2ce4c-13f6-42d1-8881-4e9497741fe4",
   "metadata": {},
   "outputs": [
    {
     "data": {
      "image/png": "[encoded data removed]",
      "text/plain": [
       "<Figure size 432x288 with 1 Axes>"
      ]
     },
     "metadata": {
      "needs_background": "light"
     },
     "output_type": "display_data"
    }
   ],
   "source": [
    "#using a Linear regression model\n",
    "plt.scatter(x_train_floors, y_train_floors, color = \"blue\")\n",
    "plt.plot(x_train_floors, y_predict, color = \"purple\")\n",
    "plt.title(\"Truth or Bluff (Linear Regression)\")\n",
    "plt.xlabel(\"Floors\")\n",
    "plt.ylabel(\"Price\")\n",
    "plt.show()"
   ]
  },
  {
   "cell_type": "code",
   "execution_count": 158,
   "id": "79d442fd-01d9-483a-b0c9-1a6ec744df7e",
   "metadata": {},
   "outputs": [],
   "source": [
    "#using a polynomial Function for presentation\n",
    "\n",
    "from sklearn.preprocessing import PolynomialFeatures\n",
    "\n",
    "poly = PolynomialFeatures(degree = 4)"
   ]
  },
  {
   "cell_type": "code",
   "execution_count": 159,
   "id": "646a0f2c-232b-45ab-accb-f271d178dba3",
   "metadata": {},
   "outputs": [
    {
     "data": {
      "text/plain": [
       "LinearRegression()"
      ]
     },
     "execution_count": 159,
     "metadata": {},
     "output_type": "execute_result"
    }
   ],
   "source": [
    "x_poly = poly.fit_transform(x_test_floors)\n",
    "\n",
    "lin_reg_2 = LinearRegression()\n",
    "\n",
    "lin_reg_2.fit(x_poly, y_test_floors)"
   ]
  },
  {
   "cell_type": "code",
   "execution_count": 160,
   "id": "a54d3fed-0eeb-488e-b28f-82f9d110d1e9",
   "metadata": {},
   "outputs": [],
   "source": [
    "x_poly_pred = lin_reg_2.predict(x_poly)"
   ]
  },
  {
   "cell_type": "code",
   "execution_count": 161,
   "id": "37bb2e76-93ae-4d06-ae93-e774303fdf2c",
   "metadata": {},
   "outputs": [
    {
     "data": {
      "image/png": "[encoded data removed]",
      "text/plain": [
       "<Figure size 432x288 with 1 Axes>"
      ]
     },
     "metadata": {
      "needs_background": "light"
     },
     "output_type": "display_data"
    }
   ],
   "source": [
    "plt.scatter(x_test_floors, y_test_floors, color = \"blue\")\n",
    "plt.plot(x_test_floors, x_poly_pred, color = \"yellow\")\n",
    "plt.title(\"Truth or Bluff (Polynomial Regression)\")\n",
    "plt.xlabel(\"Floors\")\n",
    "plt.ylabel(\"Price\")\n",
    "plt.show()"
   ]
  }
 ],
 "metadata": {
  "kernelspec": {
   "display_name": "Python 3",
   "language": "python",
   "name": "python3"
  },
  "language_info": {
   "codemirror_mode": {
    "name": "ipython",
    "version": 3
   },
   "file_extension": ".py",
   "mimetype": "text/x-python",
   "name": "python",
   "nbconvert_exporter": "python",
   "pygments_lexer": "ipython3",
   "version": "3.8.8"
  }
 },
 "nbformat": 4,
 "nbformat_minor": 5
}
